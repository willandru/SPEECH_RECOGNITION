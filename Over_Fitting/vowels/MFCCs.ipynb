{
 "cells": [
  {
   "cell_type": "markdown",
   "id": "f5dd2770",
   "metadata": {},
   "source": [
    "### Abriendo 1 archivo"
   ]
  },
  {
   "cell_type": "code",
   "execution_count": 77,
   "id": "124a575e",
   "metadata": {},
   "outputs": [
    {
     "data": {
      "text/plain": [
       "(12288,)"
      ]
     },
     "execution_count": 77,
     "metadata": {},
     "output_type": "execute_result"
    }
   ],
   "source": [
    "import librosa\n",
    "file_path=\"vowels_dataset/O/O14.m4a\"\n",
    "signal, sr=librosa.load(file_path)\n",
    "signal.shape"
   ]
  },
  {
   "cell_type": "code",
   "execution_count": 78,
   "id": "66a35ea3",
   "metadata": {},
   "outputs": [
    {
     "name": "stderr",
     "output_type": "stream",
     "text": [
      "/tmp/ipykernel_2786/3359570726.py:1: FutureWarning: Pass y=[-1.4661273e-05 -6.8884299e-07  8.9766934e-07 ...  5.0165108e-03\n",
      "  5.1510925e-03  5.6582717e-03] as keyword args. From version 0.10 passing these as positional arguments will result in an error\n",
      "  time=librosa.get_duration(signal)\n"
     ]
    },
    {
     "data": {
      "text/plain": [
       "0.5572789115646258"
      ]
     },
     "execution_count": 78,
     "metadata": {},
     "output_type": "execute_result"
    }
   ],
   "source": [
    "time=librosa.get_duration(signal)\n",
    "time"
   ]
  },
  {
   "cell_type": "code",
   "execution_count": 82,
   "id": "99ff60b8",
   "metadata": {},
   "outputs": [
    {
     "name": "stderr",
     "output_type": "stream",
     "text": [
      "/tmp/ipykernel_2786/3499664930.py:1: FutureWarning: Pass y=[-1.4661273e-05 -6.8884299e-07  8.9766934e-07 ...  5.0165108e-03\n",
      "  5.1510925e-03  5.6582717e-03] as keyword args. From version 0.10 passing these as positional arguments will result in an error\n",
      "  mfcc= librosa.feature.mfcc(signal,sr=sr,n_fft=1024, n_mfcc=13, hop_length=512)\n"
     ]
    },
    {
     "data": {
      "text/plain": [
       "(13, 25)"
      ]
     },
     "execution_count": 82,
     "metadata": {},
     "output_type": "execute_result"
    }
   ],
   "source": [
    "mfcc= librosa.feature.mfcc(signal,sr=sr,n_fft=1024, n_mfcc=13, hop_length=512)\n",
    "mfcc.shape"
   ]
  },
  {
   "cell_type": "code",
   "execution_count": 84,
   "id": "04b0bab1",
   "metadata": {},
   "outputs": [],
   "source": [
    "NUMBER_MFCC=time*22050/512\n",
    "NUMBER_MFCC=25"
   ]
  },
  {
   "cell_type": "markdown",
   "id": "63ec0019",
   "metadata": {},
   "source": [
    "### Abriendo todos los archivos"
   ]
  },
  {
   "cell_type": "code",
   "execution_count": 96,
   "id": "37aa48b8",
   "metadata": {},
   "outputs": [
    {
     "name": "stdout",
     "output_type": "stream",
     "text": [
      "\n",
      "Proccesing A\n",
      "vowels_dataset/A/A11.m4a\n",
      "(13, 26)\n",
      "vowels_dataset/A/A14.m4a\n",
      "(13, 26)\n",
      "vowels_dataset/A/A3.m4a\n",
      "(13, 26)\n",
      "vowels_dataset/A/A6.m4a\n",
      "(13, 26)\n"
     ]
    },
    {
     "name": "stderr",
     "output_type": "stream",
     "text": [
      "/tmp/ipykernel_2786/1277481382.py:19: FutureWarning: Pass y=[1.1615285e-05 5.6811095e-06 8.3718833e-06 ... 2.3076251e-02 2.3915660e-02\n",
      " 2.5615036e-02] as keyword args. From version 0.10 passing these as positional arguments will result in an error\n",
      "  TIME=librosa.get_duration(signal)\n",
      "/tmp/ipykernel_2786/1277481382.py:23: FutureWarning: Pass y=[1.1615285e-05 5.6811095e-06 8.3718833e-06 ... 2.3076251e-02 2.3915660e-02\n",
      " 2.5615036e-02] as keyword args. From version 0.10 passing these as positional arguments will result in an error\n",
      "  mfcc= librosa.feature.mfcc(signal,sr=sr,n_fft=1024, n_mfcc=13, hop_length=int(HOP))\n",
      "/tmp/ipykernel_2786/1277481382.py:19: FutureWarning: Pass y=[ 1.5742515e-06 -1.8603077e-06  2.1298708e-06 ... -1.0389237e-02\n",
      " -9.9666743e-03 -1.0044237e-02] as keyword args. From version 0.10 passing these as positional arguments will result in an error\n",
      "  TIME=librosa.get_duration(signal)\n",
      "/tmp/ipykernel_2786/1277481382.py:23: FutureWarning: Pass y=[ 1.5742515e-06 -1.8603077e-06  2.1298708e-06 ... -1.0389237e-02\n",
      " -9.9666743e-03 -1.0044237e-02] as keyword args. From version 0.10 passing these as positional arguments will result in an error\n",
      "  mfcc= librosa.feature.mfcc(signal,sr=sr,n_fft=1024, n_mfcc=13, hop_length=int(HOP))\n",
      "/tmp/ipykernel_2786/1277481382.py:19: FutureWarning: Pass y=[1.0383634e-05 7.2136932e-06 2.1626773e-05 ... 1.1399437e-02 1.5307727e-02\n",
      " 0.0000000e+00] as keyword args. From version 0.10 passing these as positional arguments will result in an error\n",
      "  TIME=librosa.get_duration(signal)\n",
      "/tmp/ipykernel_2786/1277481382.py:23: FutureWarning: Pass y=[1.0383634e-05 7.2136932e-06 2.1626773e-05 ... 1.1399437e-02 1.5307727e-02\n",
      " 0.0000000e+00] as keyword args. From version 0.10 passing these as positional arguments will result in an error\n",
      "  mfcc= librosa.feature.mfcc(signal,sr=sr,n_fft=1024, n_mfcc=13, hop_length=int(HOP))\n",
      "/tmp/ipykernel_2786/1277481382.py:19: FutureWarning: Pass y=[1.5735169e-06 1.9839051e-06 8.8596680e-06 ... 3.4234181e-02 3.5487950e-02\n",
      " 3.9882295e-02] as keyword args. From version 0.10 passing these as positional arguments will result in an error\n",
      "  TIME=librosa.get_duration(signal)\n",
      "/tmp/ipykernel_2786/1277481382.py:23: FutureWarning: Pass y=[1.5735169e-06 1.9839051e-06 8.8596680e-06 ... 3.4234181e-02 3.5487950e-02\n",
      " 3.9882295e-02] as keyword args. From version 0.10 passing these as positional arguments will result in an error\n",
      "  mfcc= librosa.feature.mfcc(signal,sr=sr,n_fft=1024, n_mfcc=13, hop_length=int(HOP))\n",
      "/tmp/ipykernel_2786/1277481382.py:19: FutureWarning: Pass y=[4.5185543e-06 9.1779830e-06 1.2722746e-05 ... 7.4701528e-03 6.9462680e-03\n",
      " 6.9579878e-03] as keyword args. From version 0.10 passing these as positional arguments will result in an error\n",
      "  TIME=librosa.get_duration(signal)\n",
      "/tmp/ipykernel_2786/1277481382.py:23: FutureWarning: Pass y=[4.5185543e-06 9.1779830e-06 1.2722746e-05 ... 7.4701528e-03 6.9462680e-03\n",
      " 6.9579878e-03] as keyword args. From version 0.10 passing these as positional arguments will result in an error\n",
      "  mfcc= librosa.feature.mfcc(signal,sr=sr,n_fft=1024, n_mfcc=13, hop_length=int(HOP))\n"
     ]
    },
    {
     "name": "stdout",
     "output_type": "stream",
     "text": [
      "vowels_dataset/A/A7.m4a\n",
      "(13, 26)\n",
      "vowels_dataset/A/A13.m4a\n",
      "(13, 26)\n",
      "vowels_dataset/A/A15.m4a\n",
      "(13, 26)\n",
      "vowels_dataset/A/A17.m4a\n",
      "(13, 26)\n",
      "vowels_dataset/A/A5.m4a\n"
     ]
    },
    {
     "name": "stderr",
     "output_type": "stream",
     "text": [
      "/tmp/ipykernel_2786/1277481382.py:19: FutureWarning: Pass y=[-1.2116097e-06  6.7769497e-07 -1.4450692e-05 ... -7.2774119e-03\n",
      " -4.0500164e-03 -2.4632696e-04] as keyword args. From version 0.10 passing these as positional arguments will result in an error\n",
      "  TIME=librosa.get_duration(signal)\n",
      "/tmp/ipykernel_2786/1277481382.py:23: FutureWarning: Pass y=[-1.2116097e-06  6.7769497e-07 -1.4450692e-05 ... -7.2774119e-03\n",
      " -4.0500164e-03 -2.4632696e-04] as keyword args. From version 0.10 passing these as positional arguments will result in an error\n",
      "  mfcc= librosa.feature.mfcc(signal,sr=sr,n_fft=1024, n_mfcc=13, hop_length=int(HOP))\n",
      "/tmp/ipykernel_2786/1277481382.py:19: FutureWarning: Pass y=[-1.2149815e-05 -6.5986114e-06 -7.5054197e-07 ... -8.9572491e-03\n",
      " -8.3127944e-03 -8.4948111e-03] as keyword args. From version 0.10 passing these as positional arguments will result in an error\n",
      "  TIME=librosa.get_duration(signal)\n",
      "/tmp/ipykernel_2786/1277481382.py:23: FutureWarning: Pass y=[-1.2149815e-05 -6.5986114e-06 -7.5054197e-07 ... -8.9572491e-03\n",
      " -8.3127944e-03 -8.4948111e-03] as keyword args. From version 0.10 passing these as positional arguments will result in an error\n",
      "  mfcc= librosa.feature.mfcc(signal,sr=sr,n_fft=1024, n_mfcc=13, hop_length=int(HOP))\n",
      "/tmp/ipykernel_2786/1277481382.py:19: FutureWarning: Pass y=[-1.1018821e-05 -8.2153574e-06  1.6868276e-05 ...  8.5492013e-03\n",
      "  9.4013112e-03  0.0000000e+00] as keyword args. From version 0.10 passing these as positional arguments will result in an error\n",
      "  TIME=librosa.get_duration(signal)\n",
      "/tmp/ipykernel_2786/1277481382.py:23: FutureWarning: Pass y=[-1.1018821e-05 -8.2153574e-06  1.6868276e-05 ...  8.5492013e-03\n",
      "  9.4013112e-03  0.0000000e+00] as keyword args. From version 0.10 passing these as positional arguments will result in an error\n",
      "  mfcc= librosa.feature.mfcc(signal,sr=sr,n_fft=1024, n_mfcc=13, hop_length=int(HOP))\n",
      "/tmp/ipykernel_2786/1277481382.py:19: FutureWarning: Pass y=[ 1.6858077e-07  5.3166173e-07 -2.1396590e-06 ...  3.3757521e-03\n",
      "  3.0738439e-03  3.5744056e-03] as keyword args. From version 0.10 passing these as positional arguments will result in an error\n",
      "  TIME=librosa.get_duration(signal)\n",
      "/tmp/ipykernel_2786/1277481382.py:23: FutureWarning: Pass y=[ 1.6858077e-07  5.3166173e-07 -2.1396590e-06 ...  3.3757521e-03\n",
      "  3.0738439e-03  3.5744056e-03] as keyword args. From version 0.10 passing these as positional arguments will result in an error\n",
      "  mfcc= librosa.feature.mfcc(signal,sr=sr,n_fft=1024, n_mfcc=13, hop_length=int(HOP))\n",
      "/tmp/ipykernel_2786/1277481382.py:19: FutureWarning: Pass y=[-1.7867284e-06  1.8633898e-06 -1.8784356e-06 ... -2.7100660e-02\n",
      " -3.2916967e-02  0.0000000e+00] as keyword args. From version 0.10 passing these as positional arguments will result in an error\n",
      "  TIME=librosa.get_duration(signal)\n",
      "/tmp/ipykernel_2786/1277481382.py:23: FutureWarning: Pass y=[-1.7867284e-06  1.8633898e-06 -1.8784356e-06 ... -2.7100660e-02\n",
      " -3.2916967e-02  0.0000000e+00] as keyword args. From version 0.10 passing these as positional arguments will result in an error\n",
      "  mfcc= librosa.feature.mfcc(signal,sr=sr,n_fft=1024, n_mfcc=13, hop_length=int(HOP))\n"
     ]
    },
    {
     "name": "stdout",
     "output_type": "stream",
     "text": [
      "(13, 26)\n",
      "vowels_dataset/A/A12.m4a\n",
      "(13, 26)\n",
      "vowels_dataset/A/A2.m4a\n",
      "(13, 26)\n",
      "vowels_dataset/A/A4.m4a\n",
      "(13, 26)\n"
     ]
    },
    {
     "name": "stderr",
     "output_type": "stream",
     "text": [
      "/tmp/ipykernel_2786/1277481382.py:19: FutureWarning: Pass y=[-9.4838725e-08 -3.3041707e-07  1.0743565e-06 ...  1.8875687e-03\n",
      "  1.7548571e-03  1.7973469e-03] as keyword args. From version 0.10 passing these as positional arguments will result in an error\n",
      "  TIME=librosa.get_duration(signal)\n",
      "/tmp/ipykernel_2786/1277481382.py:23: FutureWarning: Pass y=[-9.4838725e-08 -3.3041707e-07  1.0743565e-06 ...  1.8875687e-03\n",
      "  1.7548571e-03  1.7973469e-03] as keyword args. From version 0.10 passing these as positional arguments will result in an error\n",
      "  mfcc= librosa.feature.mfcc(signal,sr=sr,n_fft=1024, n_mfcc=13, hop_length=int(HOP))\n",
      "/tmp/ipykernel_2786/1277481382.py:19: FutureWarning: Pass y=[-2.06222762e-06 -1.33815565e-05 -8.90158788e-07 ...  1.65285077e-02\n",
      "  1.77874248e-02  1.99593678e-02] as keyword args. From version 0.10 passing these as positional arguments will result in an error\n",
      "  TIME=librosa.get_duration(signal)\n",
      "/tmp/ipykernel_2786/1277481382.py:23: FutureWarning: Pass y=[-2.06222762e-06 -1.33815565e-05 -8.90158788e-07 ...  1.65285077e-02\n",
      "  1.77874248e-02  1.99593678e-02] as keyword args. From version 0.10 passing these as positional arguments will result in an error\n",
      "  mfcc= librosa.feature.mfcc(signal,sr=sr,n_fft=1024, n_mfcc=13, hop_length=int(HOP))\n",
      "/tmp/ipykernel_2786/1277481382.py:19: FutureWarning: Pass y=[ 1.0741087e-05  6.2357485e-06 -1.3074913e-05 ... -8.6608389e-03\n",
      " -8.2368543e-03 -8.4147230e-03] as keyword args. From version 0.10 passing these as positional arguments will result in an error\n",
      "  TIME=librosa.get_duration(signal)\n",
      "/tmp/ipykernel_2786/1277481382.py:23: FutureWarning: Pass y=[ 1.0741087e-05  6.2357485e-06 -1.3074913e-05 ... -8.6608389e-03\n",
      " -8.2368543e-03 -8.4147230e-03] as keyword args. From version 0.10 passing these as positional arguments will result in an error\n",
      "  mfcc= librosa.feature.mfcc(signal,sr=sr,n_fft=1024, n_mfcc=13, hop_length=int(HOP))\n",
      "/tmp/ipykernel_2786/1277481382.py:19: FutureWarning: Pass y=[-1.3972304e-06  1.9134172e-06 -2.5588940e-06 ...  2.5990305e-02\n",
      "  2.5258495e-02  2.5962949e-02] as keyword args. From version 0.10 passing these as positional arguments will result in an error\n",
      "  TIME=librosa.get_duration(signal)\n",
      "/tmp/ipykernel_2786/1277481382.py:23: FutureWarning: Pass y=[-1.3972304e-06  1.9134172e-06 -2.5588940e-06 ...  2.5990305e-02\n",
      "  2.5258495e-02  2.5962949e-02] as keyword args. From version 0.10 passing these as positional arguments will result in an error\n",
      "  mfcc= librosa.feature.mfcc(signal,sr=sr,n_fft=1024, n_mfcc=13, hop_length=int(HOP))\n"
     ]
    },
    {
     "name": "stdout",
     "output_type": "stream",
     "text": [
      "vowels_dataset/A/A16.m4a\n",
      "(13, 26)\n",
      "vowels_dataset/A/A9.m4a\n",
      "(13, 26)\n",
      "vowels_dataset/A/A1.m4a\n",
      "(13, 26)\n",
      "vowels_dataset/A/A8.m4a\n",
      "(13, 26)\n"
     ]
    },
    {
     "name": "stderr",
     "output_type": "stream",
     "text": [
      "/tmp/ipykernel_2786/1277481382.py:19: FutureWarning: Pass y=[ 1.4238843e-06 -1.5660609e-06  1.6678969e-06 ...  1.3720223e-03\n",
      "  1.5884421e-03  1.8960832e-03] as keyword args. From version 0.10 passing these as positional arguments will result in an error\n",
      "  TIME=librosa.get_duration(signal)\n",
      "/tmp/ipykernel_2786/1277481382.py:23: FutureWarning: Pass y=[ 1.4238843e-06 -1.5660609e-06  1.6678969e-06 ...  1.3720223e-03\n",
      "  1.5884421e-03  1.8960832e-03] as keyword args. From version 0.10 passing these as positional arguments will result in an error\n",
      "  mfcc= librosa.feature.mfcc(signal,sr=sr,n_fft=1024, n_mfcc=13, hop_length=int(HOP))\n",
      "/tmp/ipykernel_2786/1277481382.py:19: FutureWarning: Pass y=[ 3.2644212e-07 -2.0851248e-05 -2.0185644e-05 ... -1.3796154e-02\n",
      " -1.4893582e-02  0.0000000e+00] as keyword args. From version 0.10 passing these as positional arguments will result in an error\n",
      "  TIME=librosa.get_duration(signal)\n",
      "/tmp/ipykernel_2786/1277481382.py:23: FutureWarning: Pass y=[ 3.2644212e-07 -2.0851248e-05 -2.0185644e-05 ... -1.3796154e-02\n",
      " -1.4893582e-02  0.0000000e+00] as keyword args. From version 0.10 passing these as positional arguments will result in an error\n",
      "  mfcc= librosa.feature.mfcc(signal,sr=sr,n_fft=1024, n_mfcc=13, hop_length=int(HOP))\n",
      "/tmp/ipykernel_2786/1277481382.py:19: FutureWarning: Pass y=[-1.7073413e-07  1.3488545e-06 -7.8716585e-06 ...  3.5476743e-03\n",
      "  1.7607308e-03  0.0000000e+00] as keyword args. From version 0.10 passing these as positional arguments will result in an error\n",
      "  TIME=librosa.get_duration(signal)\n",
      "/tmp/ipykernel_2786/1277481382.py:23: FutureWarning: Pass y=[-1.7073413e-07  1.3488545e-06 -7.8716585e-06 ...  3.5476743e-03\n",
      "  1.7607308e-03  0.0000000e+00] as keyword args. From version 0.10 passing these as positional arguments will result in an error\n",
      "  mfcc= librosa.feature.mfcc(signal,sr=sr,n_fft=1024, n_mfcc=13, hop_length=int(HOP))\n",
      "/tmp/ipykernel_2786/1277481382.py:19: FutureWarning: Pass y=[-7.3873821e-07  5.5544103e-07 -2.1557253e-07 ...  3.6071755e-03\n",
      " -7.7121070e-04 -5.3627752e-03] as keyword args. From version 0.10 passing these as positional arguments will result in an error\n",
      "  TIME=librosa.get_duration(signal)\n",
      "/tmp/ipykernel_2786/1277481382.py:23: FutureWarning: Pass y=[-7.3873821e-07  5.5544103e-07 -2.1557253e-07 ...  3.6071755e-03\n",
      " -7.7121070e-04 -5.3627752e-03] as keyword args. From version 0.10 passing these as positional arguments will result in an error\n",
      "  mfcc= librosa.feature.mfcc(signal,sr=sr,n_fft=1024, n_mfcc=13, hop_length=int(HOP))\n",
      "/tmp/ipykernel_2786/1277481382.py:19: FutureWarning: Pass y=[-2.3179221e-06  8.0525324e-06 -2.2341194e-06 ... -6.2302896e-03\n",
      " -6.4289779e-03  0.0000000e+00] as keyword args. From version 0.10 passing these as positional arguments will result in an error\n",
      "  TIME=librosa.get_duration(signal)\n",
      "/tmp/ipykernel_2786/1277481382.py:23: FutureWarning: Pass y=[-2.3179221e-06  8.0525324e-06 -2.2341194e-06 ... -6.2302896e-03\n",
      " -6.4289779e-03  0.0000000e+00] as keyword args. From version 0.10 passing these as positional arguments will result in an error\n",
      "  mfcc= librosa.feature.mfcc(signal,sr=sr,n_fft=1024, n_mfcc=13, hop_length=int(HOP))\n"
     ]
    },
    {
     "name": "stdout",
     "output_type": "stream",
     "text": [
      "vowels_dataset/A/A10.m4a\n",
      "(13, 26)\n",
      "\n",
      "Proccesing U\n",
      "vowels_dataset/U/U11.m4a\n",
      "(13, 26)\n",
      "vowels_dataset/U/U15.m4a\n",
      "(13, 26)\n",
      "vowels_dataset/U/U12.m4a\n",
      "(13, 26)\n",
      "vowels_dataset/U/U7.m4a\n",
      "(13, 26)\n"
     ]
    },
    {
     "name": "stderr",
     "output_type": "stream",
     "text": [
      "/tmp/ipykernel_2786/1277481382.py:19: FutureWarning: Pass y=[ 7.6209759e-09 -1.7619003e-07  1.5601627e-05 ...  1.5831906e-02\n",
      "  1.5490013e-02  1.4940366e-02] as keyword args. From version 0.10 passing these as positional arguments will result in an error\n",
      "  TIME=librosa.get_duration(signal)\n",
      "/tmp/ipykernel_2786/1277481382.py:23: FutureWarning: Pass y=[ 7.6209759e-09 -1.7619003e-07  1.5601627e-05 ...  1.5831906e-02\n",
      "  1.5490013e-02  1.4940366e-02] as keyword args. From version 0.10 passing these as positional arguments will result in an error\n",
      "  mfcc= librosa.feature.mfcc(signal,sr=sr,n_fft=1024, n_mfcc=13, hop_length=int(HOP))\n",
      "/tmp/ipykernel_2786/1277481382.py:19: FutureWarning: Pass y=[-3.1793056e-06  9.4369407e-06 -4.8184966e-06 ... -4.8450371e-03\n",
      " -6.5506301e-03 -8.7270634e-03] as keyword args. From version 0.10 passing these as positional arguments will result in an error\n",
      "  TIME=librosa.get_duration(signal)\n",
      "/tmp/ipykernel_2786/1277481382.py:23: FutureWarning: Pass y=[-3.1793056e-06  9.4369407e-06 -4.8184966e-06 ... -4.8450371e-03\n",
      " -6.5506301e-03 -8.7270634e-03] as keyword args. From version 0.10 passing these as positional arguments will result in an error\n",
      "  mfcc= librosa.feature.mfcc(signal,sr=sr,n_fft=1024, n_mfcc=13, hop_length=int(HOP))\n",
      "/tmp/ipykernel_2786/1277481382.py:19: FutureWarning: Pass y=[ 1.7157456e-05 -8.5708316e-06 -1.0619275e-05 ...  5.5685793e-03\n",
      "  5.6927907e-03  6.1585288e-03] as keyword args. From version 0.10 passing these as positional arguments will result in an error\n",
      "  TIME=librosa.get_duration(signal)\n",
      "/tmp/ipykernel_2786/1277481382.py:23: FutureWarning: Pass y=[ 1.7157456e-05 -8.5708316e-06 -1.0619275e-05 ...  5.5685793e-03\n",
      "  5.6927907e-03  6.1585288e-03] as keyword args. From version 0.10 passing these as positional arguments will result in an error\n",
      "  mfcc= librosa.feature.mfcc(signal,sr=sr,n_fft=1024, n_mfcc=13, hop_length=int(HOP))\n",
      "/tmp/ipykernel_2786/1277481382.py:19: FutureWarning: Pass y=[-2.7298196e-07  3.1408085e-08  1.9714449e-05 ... -1.7481316e-02\n",
      " -1.7371336e-02 -1.8894747e-02] as keyword args. From version 0.10 passing these as positional arguments will result in an error\n",
      "  TIME=librosa.get_duration(signal)\n",
      "/tmp/ipykernel_2786/1277481382.py:23: FutureWarning: Pass y=[-2.7298196e-07  3.1408085e-08  1.9714449e-05 ... -1.7481316e-02\n",
      " -1.7371336e-02 -1.8894747e-02] as keyword args. From version 0.10 passing these as positional arguments will result in an error\n",
      "  mfcc= librosa.feature.mfcc(signal,sr=sr,n_fft=1024, n_mfcc=13, hop_length=int(HOP))\n",
      "/tmp/ipykernel_2786/1277481382.py:19: FutureWarning: Pass y=[ 7.6496599e-06 -3.3718982e-06 -5.5061155e-06 ...  2.3331726e-02\n",
      "  2.3271438e-02  2.5209241e-02] as keyword args. From version 0.10 passing these as positional arguments will result in an error\n",
      "  TIME=librosa.get_duration(signal)\n",
      "/tmp/ipykernel_2786/1277481382.py:23: FutureWarning: Pass y=[ 7.6496599e-06 -3.3718982e-06 -5.5061155e-06 ...  2.3331726e-02\n",
      "  2.3271438e-02  2.5209241e-02] as keyword args. From version 0.10 passing these as positional arguments will result in an error\n",
      "  mfcc= librosa.feature.mfcc(signal,sr=sr,n_fft=1024, n_mfcc=13, hop_length=int(HOP))\n"
     ]
    },
    {
     "name": "stdout",
     "output_type": "stream",
     "text": [
      "vowels_dataset/U/U16.m4a\n",
      "(13, 26)\n",
      "vowels_dataset/U/U14.m4a\n",
      "(13, 26)\n",
      "vowels_dataset/U/U3.m4a\n",
      "(13, 26)\n",
      "vowels_dataset/U/U5.m4a\n",
      "(13, 26)\n"
     ]
    },
    {
     "name": "stderr",
     "output_type": "stream",
     "text": [
      "/tmp/ipykernel_2786/1277481382.py:19: FutureWarning: Pass y=[-1.5235343e-05 -1.4266721e-05 -2.9647149e-06 ... -5.6963209e-03\n",
      " -4.8959637e-03 -4.1745245e-03] as keyword args. From version 0.10 passing these as positional arguments will result in an error\n",
      "  TIME=librosa.get_duration(signal)\n",
      "/tmp/ipykernel_2786/1277481382.py:23: FutureWarning: Pass y=[-1.5235343e-05 -1.4266721e-05 -2.9647149e-06 ... -5.6963209e-03\n",
      " -4.8959637e-03 -4.1745245e-03] as keyword args. From version 0.10 passing these as positional arguments will result in an error\n",
      "  mfcc= librosa.feature.mfcc(signal,sr=sr,n_fft=1024, n_mfcc=13, hop_length=int(HOP))\n",
      "/tmp/ipykernel_2786/1277481382.py:19: FutureWarning: Pass y=[ 2.5047709e-07 -7.2069946e-07  1.4843192e-06 ...  1.1901193e-03\n",
      "  3.8457108e-03  0.0000000e+00] as keyword args. From version 0.10 passing these as positional arguments will result in an error\n",
      "  TIME=librosa.get_duration(signal)\n",
      "/tmp/ipykernel_2786/1277481382.py:23: FutureWarning: Pass y=[ 2.5047709e-07 -7.2069946e-07  1.4843192e-06 ...  1.1901193e-03\n",
      "  3.8457108e-03  0.0000000e+00] as keyword args. From version 0.10 passing these as positional arguments will result in an error\n",
      "  mfcc= librosa.feature.mfcc(signal,sr=sr,n_fft=1024, n_mfcc=13, hop_length=int(HOP))\n",
      "/tmp/ipykernel_2786/1277481382.py:19: FutureWarning: Pass y=[-1.29452665e-05 -2.49301343e-06  2.61716173e-06 ...  1.82341971e-02\n",
      "  1.66205615e-02  1.62703991e-02] as keyword args. From version 0.10 passing these as positional arguments will result in an error\n",
      "  TIME=librosa.get_duration(signal)\n",
      "/tmp/ipykernel_2786/1277481382.py:23: FutureWarning: Pass y=[-1.29452665e-05 -2.49301343e-06  2.61716173e-06 ...  1.82341971e-02\n",
      "  1.66205615e-02  1.62703991e-02] as keyword args. From version 0.10 passing these as positional arguments will result in an error\n",
      "  mfcc= librosa.feature.mfcc(signal,sr=sr,n_fft=1024, n_mfcc=13, hop_length=int(HOP))\n",
      "/tmp/ipykernel_2786/1277481382.py:19: FutureWarning: Pass y=[-1.33167100e-06 -1.41746905e-05 -6.45968157e-07 ...  4.63321246e-03\n",
      "  5.70370629e-03  7.26314541e-03] as keyword args. From version 0.10 passing these as positional arguments will result in an error\n",
      "  TIME=librosa.get_duration(signal)\n",
      "/tmp/ipykernel_2786/1277481382.py:23: FutureWarning: Pass y=[-1.33167100e-06 -1.41746905e-05 -6.45968157e-07 ...  4.63321246e-03\n",
      "  5.70370629e-03  7.26314541e-03] as keyword args. From version 0.10 passing these as positional arguments will result in an error\n",
      "  mfcc= librosa.feature.mfcc(signal,sr=sr,n_fft=1024, n_mfcc=13, hop_length=int(HOP))\n",
      "/tmp/ipykernel_2786/1277481382.py:19: FutureWarning: Pass y=[ 3.6548693e-07 -9.1633143e-07  6.2817176e-06 ... -2.3875867e-03\n",
      " -1.9219297e-03 -1.7634190e-03] as keyword args. From version 0.10 passing these as positional arguments will result in an error\n",
      "  TIME=librosa.get_duration(signal)\n",
      "/tmp/ipykernel_2786/1277481382.py:23: FutureWarning: Pass y=[ 3.6548693e-07 -9.1633143e-07  6.2817176e-06 ... -2.3875867e-03\n",
      " -1.9219297e-03 -1.7634190e-03] as keyword args. From version 0.10 passing these as positional arguments will result in an error\n",
      "  mfcc= librosa.feature.mfcc(signal,sr=sr,n_fft=1024, n_mfcc=13, hop_length=int(HOP))\n"
     ]
    },
    {
     "name": "stdout",
     "output_type": "stream",
     "text": [
      "vowels_dataset/U/U13.m4a\n",
      "(13, 26)\n",
      "vowels_dataset/U/U1.m4a\n",
      "(13, 26)\n",
      "vowels_dataset/U/U8.m4a\n",
      "(13, 26)\n",
      "vowels_dataset/U/U17.m4a\n",
      "(13, 26)\n",
      "vowels_dataset/U/U2.m4a\n",
      "(13, 26)\n"
     ]
    },
    {
     "name": "stderr",
     "output_type": "stream",
     "text": [
      "/tmp/ipykernel_2786/1277481382.py:19: FutureWarning: Pass y=[ 1.4082464e-06 -2.3179221e-06  8.0525324e-06 ...  2.6496695e-05\n",
      " -9.7073847e-05 -1.5042447e-04] as keyword args. From version 0.10 passing these as positional arguments will result in an error\n",
      "  TIME=librosa.get_duration(signal)\n",
      "/tmp/ipykernel_2786/1277481382.py:23: FutureWarning: Pass y=[ 1.4082464e-06 -2.3179221e-06  8.0525324e-06 ...  2.6496695e-05\n",
      " -9.7073847e-05 -1.5042447e-04] as keyword args. From version 0.10 passing these as positional arguments will result in an error\n",
      "  mfcc= librosa.feature.mfcc(signal,sr=sr,n_fft=1024, n_mfcc=13, hop_length=int(HOP))\n",
      "/tmp/ipykernel_2786/1277481382.py:19: FutureWarning: Pass y=[-3.1322131e-07  2.2988984e-06 -1.0349363e-05 ... -6.9427788e-02\n",
      " -6.7616984e-02 -7.0541382e-02] as keyword args. From version 0.10 passing these as positional arguments will result in an error\n",
      "  TIME=librosa.get_duration(signal)\n",
      "/tmp/ipykernel_2786/1277481382.py:23: FutureWarning: Pass y=[-3.1322131e-07  2.2988984e-06 -1.0349363e-05 ... -6.9427788e-02\n",
      " -6.7616984e-02 -7.0541382e-02] as keyword args. From version 0.10 passing these as positional arguments will result in an error\n",
      "  mfcc= librosa.feature.mfcc(signal,sr=sr,n_fft=1024, n_mfcc=13, hop_length=int(HOP))\n",
      "/tmp/ipykernel_2786/1277481382.py:19: FutureWarning: Pass y=[ 3.6548693e-07 -9.1633143e-07  6.2817176e-06 ...  3.0713240e-03\n",
      "  2.4282013e-03  1.3975536e-03] as keyword args. From version 0.10 passing these as positional arguments will result in an error\n",
      "  TIME=librosa.get_duration(signal)\n",
      "/tmp/ipykernel_2786/1277481382.py:23: FutureWarning: Pass y=[ 3.6548693e-07 -9.1633143e-07  6.2817176e-06 ...  3.0713240e-03\n",
      "  2.4282013e-03  1.3975536e-03] as keyword args. From version 0.10 passing these as positional arguments will result in an error\n",
      "  mfcc= librosa.feature.mfcc(signal,sr=sr,n_fft=1024, n_mfcc=13, hop_length=int(HOP))\n",
      "/tmp/ipykernel_2786/1277481382.py:19: FutureWarning: Pass y=[ 1.52898610e-06  1.45721579e-05 -1.62878077e-05 ... -1.25702005e-02\n",
      " -1.17995208e-02 -1.26039116e-02] as keyword args. From version 0.10 passing these as positional arguments will result in an error\n",
      "  TIME=librosa.get_duration(signal)\n",
      "/tmp/ipykernel_2786/1277481382.py:23: FutureWarning: Pass y=[ 1.52898610e-06  1.45721579e-05 -1.62878077e-05 ... -1.25702005e-02\n",
      " -1.17995208e-02 -1.26039116e-02] as keyword args. From version 0.10 passing these as positional arguments will result in an error\n",
      "  mfcc= librosa.feature.mfcc(signal,sr=sr,n_fft=1024, n_mfcc=13, hop_length=int(HOP))\n",
      "/tmp/ipykernel_2786/1277481382.py:19: FutureWarning: Pass y=[-2.5211142e-07  4.8805804e-09  4.4938386e-07 ... -2.2099042e-02\n",
      " -2.3448125e-02 -2.6780086e-02] as keyword args. From version 0.10 passing these as positional arguments will result in an error\n",
      "  TIME=librosa.get_duration(signal)\n",
      "/tmp/ipykernel_2786/1277481382.py:23: FutureWarning: Pass y=[-2.5211142e-07  4.8805804e-09  4.4938386e-07 ... -2.2099042e-02\n",
      " -2.3448125e-02 -2.6780086e-02] as keyword args. From version 0.10 passing these as positional arguments will result in an error\n",
      "  mfcc= librosa.feature.mfcc(signal,sr=sr,n_fft=1024, n_mfcc=13, hop_length=int(HOP))\n"
     ]
    },
    {
     "name": "stdout",
     "output_type": "stream",
     "text": [
      "vowels_dataset/U/U6.m4a\n",
      "(13, 26)\n",
      "vowels_dataset/U/U4.m4a\n",
      "(13, 26)\n",
      "vowels_dataset/U/U9.m4a\n",
      "(13, 26)\n",
      "vowels_dataset/U/U10.m4a\n",
      "(13, 26)\n",
      "\n",
      "Proccesing O\n",
      "vowels_dataset/O/O3.m4a\n",
      "(13, 26)\n"
     ]
    },
    {
     "name": "stderr",
     "output_type": "stream",
     "text": [
      "/tmp/ipykernel_2786/1277481382.py:19: FutureWarning: Pass y=[ 1.5289861e-06  1.4572158e-05 -1.6287808e-05 ... -9.3601906e-04\n",
      " -6.9837057e-04 -3.5957457e-04] as keyword args. From version 0.10 passing these as positional arguments will result in an error\n",
      "  TIME=librosa.get_duration(signal)\n",
      "/tmp/ipykernel_2786/1277481382.py:23: FutureWarning: Pass y=[ 1.5289861e-06  1.4572158e-05 -1.6287808e-05 ... -9.3601906e-04\n",
      " -6.9837057e-04 -3.5957457e-04] as keyword args. From version 0.10 passing these as positional arguments will result in an error\n",
      "  mfcc= librosa.feature.mfcc(signal,sr=sr,n_fft=1024, n_mfcc=13, hop_length=int(HOP))\n",
      "/tmp/ipykernel_2786/1277481382.py:19: FutureWarning: Pass y=[-3.1322131e-07  2.2988984e-06 -1.0349363e-05 ...  5.0159236e-03\n",
      "  5.1741763e-03  5.6541301e-03] as keyword args. From version 0.10 passing these as positional arguments will result in an error\n",
      "  TIME=librosa.get_duration(signal)\n",
      "/tmp/ipykernel_2786/1277481382.py:23: FutureWarning: Pass y=[-3.1322131e-07  2.2988984e-06 -1.0349363e-05 ...  5.0159236e-03\n",
      "  5.1741763e-03  5.6541301e-03] as keyword args. From version 0.10 passing these as positional arguments will result in an error\n",
      "  mfcc= librosa.feature.mfcc(signal,sr=sr,n_fft=1024, n_mfcc=13, hop_length=int(HOP))\n",
      "/tmp/ipykernel_2786/1277481382.py:19: FutureWarning: Pass y=[-1.3028849e-05  8.1272793e-09  2.8510056e-05 ...  4.9407724e-02\n",
      "  4.9853779e-02  0.0000000e+00] as keyword args. From version 0.10 passing these as positional arguments will result in an error\n",
      "  TIME=librosa.get_duration(signal)\n",
      "/tmp/ipykernel_2786/1277481382.py:23: FutureWarning: Pass y=[-1.3028849e-05  8.1272793e-09  2.8510056e-05 ...  4.9407724e-02\n",
      "  4.9853779e-02  0.0000000e+00] as keyword args. From version 0.10 passing these as positional arguments will result in an error\n",
      "  mfcc= librosa.feature.mfcc(signal,sr=sr,n_fft=1024, n_mfcc=13, hop_length=int(HOP))\n",
      "/tmp/ipykernel_2786/1277481382.py:19: FutureWarning: Pass y=[ 1.35431055e-05  1.84014025e-05 -9.76410956e-06 ...  8.56164563e-03\n",
      "  9.31440946e-03  1.03433169e-02] as keyword args. From version 0.10 passing these as positional arguments will result in an error\n",
      "  TIME=librosa.get_duration(signal)\n",
      "/tmp/ipykernel_2786/1277481382.py:23: FutureWarning: Pass y=[ 1.35431055e-05  1.84014025e-05 -9.76410956e-06 ...  8.56164563e-03\n",
      "  9.31440946e-03  1.03433169e-02] as keyword args. From version 0.10 passing these as positional arguments will result in an error\n",
      "  mfcc= librosa.feature.mfcc(signal,sr=sr,n_fft=1024, n_mfcc=13, hop_length=int(HOP))\n",
      "/tmp/ipykernel_2786/1277481382.py:19: FutureWarning: Pass y=[-6.2654703e-07 -1.5235343e-05 -1.4266721e-05 ... -1.0275330e-03\n",
      " -6.3433417e-04 -6.4887659e-05] as keyword args. From version 0.10 passing these as positional arguments will result in an error\n",
      "  TIME=librosa.get_duration(signal)\n",
      "/tmp/ipykernel_2786/1277481382.py:23: FutureWarning: Pass y=[-6.2654703e-07 -1.5235343e-05 -1.4266721e-05 ... -1.0275330e-03\n",
      " -6.3433417e-04 -6.4887659e-05] as keyword args. From version 0.10 passing these as positional arguments will result in an error\n",
      "  mfcc= librosa.feature.mfcc(signal,sr=sr,n_fft=1024, n_mfcc=13, hop_length=int(HOP))\n"
     ]
    },
    {
     "name": "stdout",
     "output_type": "stream",
     "text": [
      "vowels_dataset/O/O14.m4a\n",
      "(13, 26)\n",
      "vowels_dataset/O/O11.m4a\n",
      "(13, 26)\n",
      "vowels_dataset/O/O12.m4a\n",
      "(13, 26)\n",
      "vowels_dataset/O/O16.m4a\n",
      "(13, 26)\n",
      "vowels_dataset/O/O4.m4a\n"
     ]
    },
    {
     "name": "stderr",
     "output_type": "stream",
     "text": [
      "/tmp/ipykernel_2786/1277481382.py:19: FutureWarning: Pass y=[-8.5787042e-07  9.0084416e-07 -8.2772715e-07 ... -3.4776621e-03\n",
      " -4.0583434e-03  0.0000000e+00] as keyword args. From version 0.10 passing these as positional arguments will result in an error\n",
      "  TIME=librosa.get_duration(signal)\n",
      "/tmp/ipykernel_2786/1277481382.py:23: FutureWarning: Pass y=[-8.5787042e-07  9.0084416e-07 -8.2772715e-07 ... -3.4776621e-03\n",
      " -4.0583434e-03  0.0000000e+00] as keyword args. From version 0.10 passing these as positional arguments will result in an error\n",
      "  mfcc= librosa.feature.mfcc(signal,sr=sr,n_fft=1024, n_mfcc=13, hop_length=int(HOP))\n",
      "/tmp/ipykernel_2786/1277481382.py:19: FutureWarning: Pass y=[-9.4273719e-06 -9.6802823e-06  2.9160849e-06 ... -2.4677210e-02\n",
      " -2.6606992e-02 -3.0653434e-02] as keyword args. From version 0.10 passing these as positional arguments will result in an error\n",
      "  TIME=librosa.get_duration(signal)\n",
      "/tmp/ipykernel_2786/1277481382.py:23: FutureWarning: Pass y=[-9.4273719e-06 -9.6802823e-06  2.9160849e-06 ... -2.4677210e-02\n",
      " -2.6606992e-02 -3.0653434e-02] as keyword args. From version 0.10 passing these as positional arguments will result in an error\n",
      "  mfcc= librosa.feature.mfcc(signal,sr=sr,n_fft=1024, n_mfcc=13, hop_length=int(HOP))\n",
      "/tmp/ipykernel_2786/1277481382.py:19: FutureWarning: Pass y=[ 1.6062613e-08  1.5724221e-05 -1.6378887e-06 ... -4.2060398e-02\n",
      " -4.2073075e-02 -4.5686033e-02] as keyword args. From version 0.10 passing these as positional arguments will result in an error\n",
      "  TIME=librosa.get_duration(signal)\n",
      "/tmp/ipykernel_2786/1277481382.py:23: FutureWarning: Pass y=[ 1.6062613e-08  1.5724221e-05 -1.6378887e-06 ... -4.2060398e-02\n",
      " -4.2073075e-02 -4.5686033e-02] as keyword args. From version 0.10 passing these as positional arguments will result in an error\n",
      "  mfcc= librosa.feature.mfcc(signal,sr=sr,n_fft=1024, n_mfcc=13, hop_length=int(HOP))\n",
      "/tmp/ipykernel_2786/1277481382.py:19: FutureWarning: Pass y=[ 2.5887175e-05  2.4142697e-05 -1.7872997e-05 ...  1.8413331e-02\n",
      "  1.9249188e-02  2.2341406e-02] as keyword args. From version 0.10 passing these as positional arguments will result in an error\n",
      "  TIME=librosa.get_duration(signal)\n",
      "/tmp/ipykernel_2786/1277481382.py:23: FutureWarning: Pass y=[ 2.5887175e-05  2.4142697e-05 -1.7872997e-05 ...  1.8413331e-02\n",
      "  1.9249188e-02  2.2341406e-02] as keyword args. From version 0.10 passing these as positional arguments will result in an error\n",
      "  mfcc= librosa.feature.mfcc(signal,sr=sr,n_fft=1024, n_mfcc=13, hop_length=int(HOP))\n",
      "/tmp/ipykernel_2786/1277481382.py:19: FutureWarning: Pass y=[8.6811424e-06 1.0372771e-05 1.2007078e-05 ... 2.9945817e-02 2.6768077e-02\n",
      " 2.4818592e-02] as keyword args. From version 0.10 passing these as positional arguments will result in an error\n",
      "  TIME=librosa.get_duration(signal)\n",
      "/tmp/ipykernel_2786/1277481382.py:23: FutureWarning: Pass y=[8.6811424e-06 1.0372771e-05 1.2007078e-05 ... 2.9945817e-02 2.6768077e-02\n",
      " 2.4818592e-02] as keyword args. From version 0.10 passing these as positional arguments will result in an error\n",
      "  mfcc= librosa.feature.mfcc(signal,sr=sr,n_fft=1024, n_mfcc=13, hop_length=int(HOP))\n"
     ]
    },
    {
     "name": "stdout",
     "output_type": "stream",
     "text": [
      "(13, 26)\n",
      "vowels_dataset/O/O10.m4a\n",
      "(13, 26)\n",
      "vowels_dataset/O/O9.m4a\n",
      "(13, 26)\n",
      "vowels_dataset/O/O1.m4a\n",
      "(13, 26)\n",
      "vowels_dataset/O/O5.m4a\n",
      "(13, 26)\n"
     ]
    },
    {
     "name": "stderr",
     "output_type": "stream",
     "text": [
      "/tmp/ipykernel_2786/1277481382.py:19: FutureWarning: Pass y=[-7.3637534e-06 -1.9948806e-05  1.5988655e-05 ... -2.2428390e-03\n",
      " -2.1632451e-03 -2.2735579e-03] as keyword args. From version 0.10 passing these as positional arguments will result in an error\n",
      "  TIME=librosa.get_duration(signal)\n",
      "/tmp/ipykernel_2786/1277481382.py:23: FutureWarning: Pass y=[-7.3637534e-06 -1.9948806e-05  1.5988655e-05 ... -2.2428390e-03\n",
      " -2.1632451e-03 -2.2735579e-03] as keyword args. From version 0.10 passing these as positional arguments will result in an error\n",
      "  mfcc= librosa.feature.mfcc(signal,sr=sr,n_fft=1024, n_mfcc=13, hop_length=int(HOP))\n",
      "/tmp/ipykernel_2786/1277481382.py:19: FutureWarning: Pass y=[-9.4956977e-06 -9.4321449e-06  1.7106984e-06 ... -4.4744299e-04\n",
      " -2.6198011e-04 -1.9100824e-04] as keyword args. From version 0.10 passing these as positional arguments will result in an error\n",
      "  TIME=librosa.get_duration(signal)\n",
      "/tmp/ipykernel_2786/1277481382.py:23: FutureWarning: Pass y=[-9.4956977e-06 -9.4321449e-06  1.7106984e-06 ... -4.4744299e-04\n",
      " -2.6198011e-04 -1.9100824e-04] as keyword args. From version 0.10 passing these as positional arguments will result in an error\n",
      "  mfcc= librosa.feature.mfcc(signal,sr=sr,n_fft=1024, n_mfcc=13, hop_length=int(HOP))\n",
      "/tmp/ipykernel_2786/1277481382.py:19: FutureWarning: Pass y=[-6.4432544e-07  1.4951673e-06  7.8761868e-06 ... -2.3634376e-03\n",
      " -3.1048914e-03 -4.6656621e-03] as keyword args. From version 0.10 passing these as positional arguments will result in an error\n",
      "  TIME=librosa.get_duration(signal)\n",
      "/tmp/ipykernel_2786/1277481382.py:23: FutureWarning: Pass y=[-6.4432544e-07  1.4951673e-06  7.8761868e-06 ... -2.3634376e-03\n",
      " -3.1048914e-03 -4.6656621e-03] as keyword args. From version 0.10 passing these as positional arguments will result in an error\n",
      "  mfcc= librosa.feature.mfcc(signal,sr=sr,n_fft=1024, n_mfcc=13, hop_length=int(HOP))\n",
      "/tmp/ipykernel_2786/1277481382.py:19: FutureWarning: Pass y=[-7.2635920e-08 -4.3706265e-07  1.7230543e-06 ... -4.5265178e-03\n",
      " -4.7148443e-03 -5.4639583e-03] as keyword args. From version 0.10 passing these as positional arguments will result in an error\n",
      "  TIME=librosa.get_duration(signal)\n",
      "/tmp/ipykernel_2786/1277481382.py:23: FutureWarning: Pass y=[-7.2635920e-08 -4.3706265e-07  1.7230543e-06 ... -4.5265178e-03\n",
      " -4.7148443e-03 -5.4639583e-03] as keyword args. From version 0.10 passing these as positional arguments will result in an error\n",
      "  mfcc= librosa.feature.mfcc(signal,sr=sr,n_fft=1024, n_mfcc=13, hop_length=int(HOP))\n",
      "/tmp/ipykernel_2786/1277481382.py:19: FutureWarning: Pass y=[ 8.6811424e-06  1.0372771e-05  1.2007078e-05 ... -1.1124986e-02\n",
      " -1.0362932e-02 -1.0021025e-02] as keyword args. From version 0.10 passing these as positional arguments will result in an error\n",
      "  TIME=librosa.get_duration(signal)\n",
      "/tmp/ipykernel_2786/1277481382.py:23: FutureWarning: Pass y=[ 8.6811424e-06  1.0372771e-05  1.2007078e-05 ... -1.1124986e-02\n",
      " -1.0362932e-02 -1.0021025e-02] as keyword args. From version 0.10 passing these as positional arguments will result in an error\n",
      "  mfcc= librosa.feature.mfcc(signal,sr=sr,n_fft=1024, n_mfcc=13, hop_length=int(HOP))\n"
     ]
    },
    {
     "name": "stdout",
     "output_type": "stream",
     "text": [
      "vowels_dataset/O/O15.m4a\n",
      "(13, 26)\n",
      "vowels_dataset/O/O2.m4a\n",
      "(13, 26)\n",
      "vowels_dataset/O/O17.m4a\n",
      "(13, 26)\n",
      "vowels_dataset/O/O8.m4a\n",
      "(13, 26)\n",
      "vowels_dataset/O/O7.m4a\n",
      "(13, 26)\n"
     ]
    },
    {
     "name": "stderr",
     "output_type": "stream",
     "text": [
      "/tmp/ipykernel_2786/1277481382.py:19: FutureWarning: Pass y=[ 2.5887175e-05  2.4142697e-05 -1.7872997e-05 ... -1.4867799e-02\n",
      " -1.4478287e-02 -1.4160968e-02] as keyword args. From version 0.10 passing these as positional arguments will result in an error\n",
      "  TIME=librosa.get_duration(signal)\n",
      "/tmp/ipykernel_2786/1277481382.py:23: FutureWarning: Pass y=[ 2.5887175e-05  2.4142697e-05 -1.7872997e-05 ... -1.4867799e-02\n",
      " -1.4478287e-02 -1.4160968e-02] as keyword args. From version 0.10 passing these as positional arguments will result in an error\n",
      "  mfcc= librosa.feature.mfcc(signal,sr=sr,n_fft=1024, n_mfcc=13, hop_length=int(HOP))\n",
      "/tmp/ipykernel_2786/1277481382.py:19: FutureWarning: Pass y=[ 5.6873423e-06  2.0213427e-05  5.7520738e-06 ... -4.8538040e-02\n",
      " -5.3251505e-02 -5.5278584e-02] as keyword args. From version 0.10 passing these as positional arguments will result in an error\n",
      "  TIME=librosa.get_duration(signal)\n",
      "/tmp/ipykernel_2786/1277481382.py:23: FutureWarning: Pass y=[ 5.6873423e-06  2.0213427e-05  5.7520738e-06 ... -4.8538040e-02\n",
      " -5.3251505e-02 -5.5278584e-02] as keyword args. From version 0.10 passing these as positional arguments will result in an error\n",
      "  mfcc= librosa.feature.mfcc(signal,sr=sr,n_fft=1024, n_mfcc=13, hop_length=int(HOP))\n",
      "/tmp/ipykernel_2786/1277481382.py:19: FutureWarning: Pass y=[ 8.9223468e-06  1.0405845e-05 -3.8609942e-06 ... -3.9536707e-02\n",
      " -3.7930485e-02 -3.8189188e-02] as keyword args. From version 0.10 passing these as positional arguments will result in an error\n",
      "  TIME=librosa.get_duration(signal)\n",
      "/tmp/ipykernel_2786/1277481382.py:23: FutureWarning: Pass y=[ 8.9223468e-06  1.0405845e-05 -3.8609942e-06 ... -3.9536707e-02\n",
      " -3.7930485e-02 -3.8189188e-02] as keyword args. From version 0.10 passing these as positional arguments will result in an error\n",
      "  mfcc= librosa.feature.mfcc(signal,sr=sr,n_fft=1024, n_mfcc=13, hop_length=int(HOP))\n",
      "/tmp/ipykernel_2786/1277481382.py:19: FutureWarning: Pass y=[-1.8178960e-07  4.0547317e-07 -7.3001002e-07 ...  3.1778701e-02\n",
      "  3.1304348e-02  3.2823481e-02] as keyword args. From version 0.10 passing these as positional arguments will result in an error\n",
      "  TIME=librosa.get_duration(signal)\n",
      "/tmp/ipykernel_2786/1277481382.py:23: FutureWarning: Pass y=[-1.8178960e-07  4.0547317e-07 -7.3001002e-07 ...  3.1778701e-02\n",
      "  3.1304348e-02  3.2823481e-02] as keyword args. From version 0.10 passing these as positional arguments will result in an error\n",
      "  mfcc= librosa.feature.mfcc(signal,sr=sr,n_fft=1024, n_mfcc=13, hop_length=int(HOP))\n",
      "/tmp/ipykernel_2786/1277481382.py:19: FutureWarning: Pass y=[-1.3825381e-05 -1.6958234e-05  1.9058973e-06 ...  7.3817773e-03\n",
      "  6.4453650e-03  5.2515576e-03] as keyword args. From version 0.10 passing these as positional arguments will result in an error\n",
      "  TIME=librosa.get_duration(signal)\n",
      "/tmp/ipykernel_2786/1277481382.py:23: FutureWarning: Pass y=[-1.3825381e-05 -1.6958234e-05  1.9058973e-06 ...  7.3817773e-03\n",
      "  6.4453650e-03  5.2515576e-03] as keyword args. From version 0.10 passing these as positional arguments will result in an error\n",
      "  mfcc= librosa.feature.mfcc(signal,sr=sr,n_fft=1024, n_mfcc=13, hop_length=int(HOP))\n"
     ]
    },
    {
     "name": "stdout",
     "output_type": "stream",
     "text": [
      "vowels_dataset/O/O6.m4a\n",
      "(13, 26)\n",
      "vowels_dataset/O/O13.m4a\n",
      "(13, 26)\n",
      "\n",
      "Proccesing E\n",
      "vowels_dataset/E/E10.m4a\n",
      "(13, 26)\n",
      "vowels_dataset/E/E12.m4a\n",
      "(13, 26)\n",
      "vowels_dataset/E/E14.m4a\n",
      "(13, 26)\n"
     ]
    },
    {
     "name": "stderr",
     "output_type": "stream",
     "text": [
      "/tmp/ipykernel_2786/1277481382.py:19: FutureWarning: Pass y=[-1.3651737e-05 -1.8694969e-06  2.1664184e-06 ...  1.6518321e-02\n",
      "  1.7246371e-02  1.9520598e-02] as keyword args. From version 0.10 passing these as positional arguments will result in an error\n",
      "  TIME=librosa.get_duration(signal)\n",
      "/tmp/ipykernel_2786/1277481382.py:23: FutureWarning: Pass y=[-1.3651737e-05 -1.8694969e-06  2.1664184e-06 ...  1.6518321e-02\n",
      "  1.7246371e-02  1.9520598e-02] as keyword args. From version 0.10 passing these as positional arguments will result in an error\n",
      "  mfcc= librosa.feature.mfcc(signal,sr=sr,n_fft=1024, n_mfcc=13, hop_length=int(HOP))\n",
      "/tmp/ipykernel_2786/1277481382.py:19: FutureWarning: Pass y=[-3.7725583e-06  1.0434115e-05  8.8875468e-06 ... -3.3424522e-03\n",
      " -3.3461151e-03 -3.5229228e-03] as keyword args. From version 0.10 passing these as positional arguments will result in an error\n",
      "  TIME=librosa.get_duration(signal)\n",
      "/tmp/ipykernel_2786/1277481382.py:23: FutureWarning: Pass y=[-3.7725583e-06  1.0434115e-05  8.8875468e-06 ... -3.3424522e-03\n",
      " -3.3461151e-03 -3.5229228e-03] as keyword args. From version 0.10 passing these as positional arguments will result in an error\n",
      "  mfcc= librosa.feature.mfcc(signal,sr=sr,n_fft=1024, n_mfcc=13, hop_length=int(HOP))\n",
      "/tmp/ipykernel_2786/1277481382.py:19: FutureWarning: Pass y=[-3.3969866e-07  3.6548693e-07 -9.1633143e-07 ... -2.6142413e-02\n",
      " -2.6483465e-02 -2.8238488e-02] as keyword args. From version 0.10 passing these as positional arguments will result in an error\n",
      "  TIME=librosa.get_duration(signal)\n",
      "/tmp/ipykernel_2786/1277481382.py:23: FutureWarning: Pass y=[-3.3969866e-07  3.6548693e-07 -9.1633143e-07 ... -2.6142413e-02\n",
      " -2.6483465e-02 -2.8238488e-02] as keyword args. From version 0.10 passing these as positional arguments will result in an error\n",
      "  mfcc= librosa.feature.mfcc(signal,sr=sr,n_fft=1024, n_mfcc=13, hop_length=int(HOP))\n"
     ]
    },
    {
     "name": "stdout",
     "output_type": "stream",
     "text": [
      "vowels_dataset/E/E7.m4a\n",
      "(13, 26)\n",
      "vowels_dataset/E/E15.m4a\n",
      "(13, 26)\n",
      "vowels_dataset/E/E8.m4a\n",
      "(13, 26)\n"
     ]
    },
    {
     "name": "stderr",
     "output_type": "stream",
     "text": [
      "/tmp/ipykernel_2786/1277481382.py:19: FutureWarning: Pass y=[-5.6374097e-07 -3.1322131e-07  2.2988984e-06 ...  7.6301945e-03\n",
      "  6.7115687e-03  6.1288518e-03] as keyword args. From version 0.10 passing these as positional arguments will result in an error\n",
      "  TIME=librosa.get_duration(signal)\n",
      "/tmp/ipykernel_2786/1277481382.py:23: FutureWarning: Pass y=[-5.6374097e-07 -3.1322131e-07  2.2988984e-06 ...  7.6301945e-03\n",
      "  6.7115687e-03  6.1288518e-03] as keyword args. From version 0.10 passing these as positional arguments will result in an error\n",
      "  mfcc= librosa.feature.mfcc(signal,sr=sr,n_fft=1024, n_mfcc=13, hop_length=int(HOP))\n",
      "/tmp/ipykernel_2786/1277481382.py:19: FutureWarning: Pass y=[-1.1715908e-05 -2.2571554e-05  4.8571133e-07 ... -2.4200983e-03\n",
      " -2.6926377e-03  0.0000000e+00] as keyword args. From version 0.10 passing these as positional arguments will result in an error\n",
      "  TIME=librosa.get_duration(signal)\n",
      "/tmp/ipykernel_2786/1277481382.py:23: FutureWarning: Pass y=[-1.1715908e-05 -2.2571554e-05  4.8571133e-07 ... -2.4200983e-03\n",
      " -2.6926377e-03  0.0000000e+00] as keyword args. From version 0.10 passing these as positional arguments will result in an error\n",
      "  mfcc= librosa.feature.mfcc(signal,sr=sr,n_fft=1024, n_mfcc=13, hop_length=int(HOP))\n",
      "/tmp/ipykernel_2786/1277481382.py:19: FutureWarning: Pass y=[-5.2006556e-07  1.2330794e-06 -2.3572309e-06 ... -2.7449558e-02\n",
      " -2.8128080e-02 -2.9569501e-02] as keyword args. From version 0.10 passing these as positional arguments will result in an error\n",
      "  TIME=librosa.get_duration(signal)\n",
      "/tmp/ipykernel_2786/1277481382.py:23: FutureWarning: Pass y=[-5.2006556e-07  1.2330794e-06 -2.3572309e-06 ... -2.7449558e-02\n",
      " -2.8128080e-02 -2.9569501e-02] as keyword args. From version 0.10 passing these as positional arguments will result in an error\n",
      "  mfcc= librosa.feature.mfcc(signal,sr=sr,n_fft=1024, n_mfcc=13, hop_length=int(HOP))\n",
      "/tmp/ipykernel_2786/1277481382.py:19: FutureWarning: Pass y=[-8.6456530e-06 -1.0252835e-05 -1.2256618e-05 ... -1.4506854e-02\n",
      " -1.6985681e-02  0.0000000e+00] as keyword args. From version 0.10 passing these as positional arguments will result in an error\n",
      "  TIME=librosa.get_duration(signal)\n",
      "/tmp/ipykernel_2786/1277481382.py:23: FutureWarning: Pass y=[-8.6456530e-06 -1.0252835e-05 -1.2256618e-05 ... -1.4506854e-02\n",
      " -1.6985681e-02  0.0000000e+00] as keyword args. From version 0.10 passing these as positional arguments will result in an error\n",
      "  mfcc= librosa.feature.mfcc(signal,sr=sr,n_fft=1024, n_mfcc=13, hop_length=int(HOP))\n",
      "/tmp/ipykernel_2786/1277481382.py:19: FutureWarning: Pass y=[ 1.3226876e-05  2.0238651e-06 -1.8978279e-06 ... -2.2244651e-02\n",
      " -2.2665545e-02 -2.4510138e-02] as keyword args. From version 0.10 passing these as positional arguments will result in an error\n",
      "  TIME=librosa.get_duration(signal)\n",
      "/tmp/ipykernel_2786/1277481382.py:23: FutureWarning: Pass y=[ 1.3226876e-05  2.0238651e-06 -1.8978279e-06 ... -2.2244651e-02\n",
      " -2.2665545e-02 -2.4510138e-02] as keyword args. From version 0.10 passing these as positional arguments will result in an error\n",
      "  mfcc= librosa.feature.mfcc(signal,sr=sr,n_fft=1024, n_mfcc=13, hop_length=int(HOP))\n"
     ]
    },
    {
     "name": "stdout",
     "output_type": "stream",
     "text": [
      "vowels_dataset/E/E9.m4a\n",
      "(13, 26)\n",
      "vowels_dataset/E/E16.m4a\n",
      "(13, 26)\n",
      "vowels_dataset/E/E5.m4a\n",
      "(13, 26)\n",
      "vowels_dataset/E/E3.m4a\n",
      "(13, 26)\n",
      "vowels_dataset/E/E1.m4a\n",
      "(13, 26)\n",
      "vowels_dataset/E/E2.m4a\n",
      "(13, 26)\n",
      "vowels_dataset/E/E11.m4a\n",
      "(13, 26)\n",
      "vowels_dataset/E/E4.m4a\n",
      "(13, 26)\n",
      "vowels_dataset/E/E17.m4a\n",
      "(13, 26)\n"
     ]
    },
    {
     "name": "stderr",
     "output_type": "stream",
     "text": [
      "/tmp/ipykernel_2786/1277481382.py:19: FutureWarning: Pass y=[-1.9721140e-06  8.6811424e-06  1.0372771e-05 ...  1.2498464e-03\n",
      "  1.0026345e-03  0.0000000e+00] as keyword args. From version 0.10 passing these as positional arguments will result in an error\n",
      "  TIME=librosa.get_duration(signal)\n",
      "/tmp/ipykernel_2786/1277481382.py:23: FutureWarning: Pass y=[-1.9721140e-06  8.6811424e-06  1.0372771e-05 ...  1.2498464e-03\n",
      "  1.0026345e-03  0.0000000e+00] as keyword args. From version 0.10 passing these as positional arguments will result in an error\n",
      "  mfcc= librosa.feature.mfcc(signal,sr=sr,n_fft=1024, n_mfcc=13, hop_length=int(HOP))\n",
      "/tmp/ipykernel_2786/1277481382.py:19: FutureWarning: Pass y=[1.1529296e-05 6.3678872e-06 6.7956921e-06 ... 3.2891396e-02 3.5071231e-02\n",
      " 3.9364658e-02] as keyword args. From version 0.10 passing these as positional arguments will result in an error\n",
      "  TIME=librosa.get_duration(signal)\n",
      "/tmp/ipykernel_2786/1277481382.py:23: FutureWarning: Pass y=[1.1529296e-05 6.3678872e-06 6.7956921e-06 ... 3.2891396e-02 3.5071231e-02\n",
      " 3.9364658e-02] as keyword args. From version 0.10 passing these as positional arguments will result in an error\n",
      "  mfcc= librosa.feature.mfcc(signal,sr=sr,n_fft=1024, n_mfcc=13, hop_length=int(HOP))\n",
      "/tmp/ipykernel_2786/1277481382.py:19: FutureWarning: Pass y=[-3.64133803e-06 -1.02185295e-05 -7.40762971e-06 ... -1.08249001e-02\n",
      " -8.50001629e-03 -6.14485145e-03] as keyword args. From version 0.10 passing these as positional arguments will result in an error\n",
      "  TIME=librosa.get_duration(signal)\n",
      "/tmp/ipykernel_2786/1277481382.py:23: FutureWarning: Pass y=[-3.64133803e-06 -1.02185295e-05 -7.40762971e-06 ... -1.08249001e-02\n",
      " -8.50001629e-03 -6.14485145e-03] as keyword args. From version 0.10 passing these as positional arguments will result in an error\n",
      "  mfcc= librosa.feature.mfcc(signal,sr=sr,n_fft=1024, n_mfcc=13, hop_length=int(HOP))\n",
      "/tmp/ipykernel_2786/1277481382.py:19: FutureWarning: Pass y=[-7.2905150e-06  3.1157028e-06 -9.6178055e-06 ...  2.4997093e-02\n",
      "  2.4443902e-02  2.5244404e-02] as keyword args. From version 0.10 passing these as positional arguments will result in an error\n",
      "  TIME=librosa.get_duration(signal)\n",
      "/tmp/ipykernel_2786/1277481382.py:23: FutureWarning: Pass y=[-7.2905150e-06  3.1157028e-06 -9.6178055e-06 ...  2.4997093e-02\n",
      "  2.4443902e-02  2.5244404e-02] as keyword args. From version 0.10 passing these as positional arguments will result in an error\n",
      "  mfcc= librosa.feature.mfcc(signal,sr=sr,n_fft=1024, n_mfcc=13, hop_length=int(HOP))\n",
      "/tmp/ipykernel_2786/1277481382.py:19: FutureWarning: Pass y=[-1.7991006e-06 -1.3176488e-05 -2.3931636e-06 ... -9.3437936e-03\n",
      " -6.7965514e-03 -7.0155719e-03] as keyword args. From version 0.10 passing these as positional arguments will result in an error\n",
      "  TIME=librosa.get_duration(signal)\n",
      "/tmp/ipykernel_2786/1277481382.py:23: FutureWarning: Pass y=[-1.7991006e-06 -1.3176488e-05 -2.3931636e-06 ... -9.3437936e-03\n",
      " -6.7965514e-03 -7.0155719e-03] as keyword args. From version 0.10 passing these as positional arguments will result in an error\n",
      "  mfcc= librosa.feature.mfcc(signal,sr=sr,n_fft=1024, n_mfcc=13, hop_length=int(HOP))\n"
     ]
    },
    {
     "name": "stdout",
     "output_type": "stream",
     "text": [
      "vowels_dataset/E/E13.m4a\n",
      "(13, 26)\n",
      "vowels_dataset/E/E6.m4a\n",
      "(13, 26)\n",
      "\n",
      "Proccesing I\n",
      "vowels_dataset/I/I10.m4a\n",
      "(13, 26)\n"
     ]
    },
    {
     "name": "stderr",
     "output_type": "stream",
     "text": [
      "/tmp/ipykernel_2786/1277481382.py:19: FutureWarning: Pass y=[6.5340271e-07 1.4741250e-05 3.8607632e-07 ... 1.9346463e-02 2.0516960e-02\n",
      " 2.3629706e-02] as keyword args. From version 0.10 passing these as positional arguments will result in an error\n",
      "  TIME=librosa.get_duration(signal)\n",
      "/tmp/ipykernel_2786/1277481382.py:23: FutureWarning: Pass y=[6.5340271e-07 1.4741250e-05 3.8607632e-07 ... 1.9346463e-02 2.0516960e-02\n",
      " 2.3629706e-02] as keyword args. From version 0.10 passing these as positional arguments will result in an error\n",
      "  mfcc= librosa.feature.mfcc(signal,sr=sr,n_fft=1024, n_mfcc=13, hop_length=int(HOP))\n",
      "/tmp/ipykernel_2786/1277481382.py:19: FutureWarning: Pass y=[ 2.2574216e-06  7.5175753e-06 -1.7698902e-05 ... -2.4410339e-02\n",
      " -2.7941290e-02 -3.4454815e-02] as keyword args. From version 0.10 passing these as positional arguments will result in an error\n",
      "  TIME=librosa.get_duration(signal)\n",
      "/tmp/ipykernel_2786/1277481382.py:23: FutureWarning: Pass y=[ 2.2574216e-06  7.5175753e-06 -1.7698902e-05 ... -2.4410339e-02\n",
      " -2.7941290e-02 -3.4454815e-02] as keyword args. From version 0.10 passing these as positional arguments will result in an error\n",
      "  mfcc= librosa.feature.mfcc(signal,sr=sr,n_fft=1024, n_mfcc=13, hop_length=int(HOP))\n",
      "/tmp/ipykernel_2786/1277481382.py:19: FutureWarning: Pass y=[-1.3331564e-05 -1.7453773e-05 -1.2829669e-05 ... -2.9559601e-02\n",
      " -2.9770309e-02 -3.2092191e-02] as keyword args. From version 0.10 passing these as positional arguments will result in an error\n",
      "  TIME=librosa.get_duration(signal)\n",
      "/tmp/ipykernel_2786/1277481382.py:23: FutureWarning: Pass y=[-1.3331564e-05 -1.7453773e-05 -1.2829669e-05 ... -2.9559601e-02\n",
      " -2.9770309e-02 -3.2092191e-02] as keyword args. From version 0.10 passing these as positional arguments will result in an error\n",
      "  mfcc= librosa.feature.mfcc(signal,sr=sr,n_fft=1024, n_mfcc=13, hop_length=int(HOP))\n"
     ]
    },
    {
     "name": "stdout",
     "output_type": "stream",
     "text": [
      "vowels_dataset/I/I1.m4a\n",
      "(13, 26)\n",
      "vowels_dataset/I/I4.m4a\n",
      "(13, 26)\n",
      "vowels_dataset/I/I15.m4a\n",
      "(13, 26)\n",
      "vowels_dataset/I/I16.m4a\n",
      "(13, 26)\n"
     ]
    },
    {
     "name": "stderr",
     "output_type": "stream",
     "text": [
      "/tmp/ipykernel_2786/1277481382.py:19: FutureWarning: Pass y=[-2.3080804e-06  4.1896624e-06 -1.1382968e-05 ... -1.0247970e-02\n",
      " -1.1923332e-02 -1.4421804e-02] as keyword args. From version 0.10 passing these as positional arguments will result in an error\n",
      "  TIME=librosa.get_duration(signal)\n",
      "/tmp/ipykernel_2786/1277481382.py:23: FutureWarning: Pass y=[-2.3080804e-06  4.1896624e-06 -1.1382968e-05 ... -1.0247970e-02\n",
      " -1.1923332e-02 -1.4421804e-02] as keyword args. From version 0.10 passing these as positional arguments will result in an error\n",
      "  mfcc= librosa.feature.mfcc(signal,sr=sr,n_fft=1024, n_mfcc=13, hop_length=int(HOP))\n",
      "/tmp/ipykernel_2786/1277481382.py:19: FutureWarning: Pass y=[-2.3080804e-06  4.1896624e-06 -1.1382968e-05 ...  7.5720893e-03\n",
      "  7.3379679e-03  7.5313426e-03] as keyword args. From version 0.10 passing these as positional arguments will result in an error\n",
      "  TIME=librosa.get_duration(signal)\n",
      "/tmp/ipykernel_2786/1277481382.py:23: FutureWarning: Pass y=[-2.3080804e-06  4.1896624e-06 -1.1382968e-05 ...  7.5720893e-03\n",
      "  7.3379679e-03  7.5313426e-03] as keyword args. From version 0.10 passing these as positional arguments will result in an error\n",
      "  mfcc= librosa.feature.mfcc(signal,sr=sr,n_fft=1024, n_mfcc=13, hop_length=int(HOP))\n",
      "/tmp/ipykernel_2786/1277481382.py:19: FutureWarning: Pass y=[ 2.2574216e-06  7.5175753e-06 -1.7698902e-05 ...  3.0140646e-03\n",
      "  2.9114312e-03  3.0475592e-03] as keyword args. From version 0.10 passing these as positional arguments will result in an error\n",
      "  TIME=librosa.get_duration(signal)\n",
      "/tmp/ipykernel_2786/1277481382.py:23: FutureWarning: Pass y=[ 2.2574216e-06  7.5175753e-06 -1.7698902e-05 ...  3.0140646e-03\n",
      "  2.9114312e-03  3.0475592e-03] as keyword args. From version 0.10 passing these as positional arguments will result in an error\n",
      "  mfcc= librosa.feature.mfcc(signal,sr=sr,n_fft=1024, n_mfcc=13, hop_length=int(HOP))\n",
      "/tmp/ipykernel_2786/1277481382.py:19: FutureWarning: Pass y=[ 4.2180275e-08  1.4784169e-06 -2.3566035e-05 ... -1.0205960e-02\n",
      " -9.2794150e-03 -7.7533103e-03] as keyword args. From version 0.10 passing these as positional arguments will result in an error\n",
      "  TIME=librosa.get_duration(signal)\n",
      "/tmp/ipykernel_2786/1277481382.py:23: FutureWarning: Pass y=[ 4.2180275e-08  1.4784169e-06 -2.3566035e-05 ... -1.0205960e-02\n",
      " -9.2794150e-03 -7.7533103e-03] as keyword args. From version 0.10 passing these as positional arguments will result in an error\n",
      "  mfcc= librosa.feature.mfcc(signal,sr=sr,n_fft=1024, n_mfcc=13, hop_length=int(HOP))\n"
     ]
    },
    {
     "name": "stdout",
     "output_type": "stream",
     "text": [
      "vowels_dataset/I/I12.m4a\n",
      "(13, 26)\n",
      "vowels_dataset/I/I8.m4a\n",
      "(13, 26)\n",
      "vowels_dataset/I/I9.m4a\n",
      "(13, 26)\n",
      "vowels_dataset/I/I3.m4a\n",
      "(13, 26)\n",
      "vowels_dataset/I/I17.m4a\n",
      "(13, 26)\n",
      "vowels_dataset/I/I14.m4a\n"
     ]
    },
    {
     "name": "stderr",
     "output_type": "stream",
     "text": [
      "/tmp/ipykernel_2786/1277481382.py:19: FutureWarning: Pass y=[-7.2905150e-06  3.1157028e-06 -9.6178055e-06 ... -7.1179266e-03\n",
      " -7.8484658e-03 -8.3835144e-03] as keyword args. From version 0.10 passing these as positional arguments will result in an error\n",
      "  TIME=librosa.get_duration(signal)\n",
      "/tmp/ipykernel_2786/1277481382.py:23: FutureWarning: Pass y=[-7.2905150e-06  3.1157028e-06 -9.6178055e-06 ... -7.1179266e-03\n",
      " -7.8484658e-03 -8.3835144e-03] as keyword args. From version 0.10 passing these as positional arguments will result in an error\n",
      "  mfcc= librosa.feature.mfcc(signal,sr=sr,n_fft=1024, n_mfcc=13, hop_length=int(HOP))\n",
      "/tmp/ipykernel_2786/1277481382.py:19: FutureWarning: Pass y=[ 1.3100662e-05  1.7953363e-06 -1.1114297e-06 ... -7.5829384e-04\n",
      " -9.4677776e-04  0.0000000e+00] as keyword args. From version 0.10 passing these as positional arguments will result in an error\n",
      "  TIME=librosa.get_duration(signal)\n",
      "/tmp/ipykernel_2786/1277481382.py:23: FutureWarning: Pass y=[ 1.3100662e-05  1.7953363e-06 -1.1114297e-06 ... -7.5829384e-04\n",
      " -9.4677776e-04  0.0000000e+00] as keyword args. From version 0.10 passing these as positional arguments will result in an error\n",
      "  mfcc= librosa.feature.mfcc(signal,sr=sr,n_fft=1024, n_mfcc=13, hop_length=int(HOP))\n",
      "/tmp/ipykernel_2786/1277481382.py:19: FutureWarning: Pass y=[ 9.1106592e-08 -1.5619304e-05  6.4618740e-07 ...  2.5424968e-02\n",
      "  2.4177782e-02  2.4883391e-02] as keyword args. From version 0.10 passing these as positional arguments will result in an error\n",
      "  TIME=librosa.get_duration(signal)\n",
      "/tmp/ipykernel_2786/1277481382.py:23: FutureWarning: Pass y=[ 9.1106592e-08 -1.5619304e-05  6.4618740e-07 ...  2.5424968e-02\n",
      "  2.4177782e-02  2.4883391e-02] as keyword args. From version 0.10 passing these as positional arguments will result in an error\n",
      "  mfcc= librosa.feature.mfcc(signal,sr=sr,n_fft=1024, n_mfcc=13, hop_length=int(HOP))\n",
      "/tmp/ipykernel_2786/1277481382.py:19: FutureWarning: Pass y=[1.1813212e-05 6.4035926e-06 2.2234342e-06 ... 3.3113580e-02 3.4548044e-02\n",
      " 3.7418626e-02] as keyword args. From version 0.10 passing these as positional arguments will result in an error\n",
      "  TIME=librosa.get_duration(signal)\n",
      "/tmp/ipykernel_2786/1277481382.py:23: FutureWarning: Pass y=[1.1813212e-05 6.4035926e-06 2.2234342e-06 ... 3.3113580e-02 3.4548044e-02\n",
      " 3.7418626e-02] as keyword args. From version 0.10 passing these as positional arguments will result in an error\n",
      "  mfcc= librosa.feature.mfcc(signal,sr=sr,n_fft=1024, n_mfcc=13, hop_length=int(HOP))\n",
      "/tmp/ipykernel_2786/1277481382.py:19: FutureWarning: Pass y=[-1.3080113e-06  1.2482686e-06  1.4127403e-05 ...  1.1625563e-02\n",
      "  1.2253979e-02  1.3838813e-02] as keyword args. From version 0.10 passing these as positional arguments will result in an error\n",
      "  TIME=librosa.get_duration(signal)\n",
      "/tmp/ipykernel_2786/1277481382.py:23: FutureWarning: Pass y=[-1.3080113e-06  1.2482686e-06  1.4127403e-05 ...  1.1625563e-02\n",
      "  1.2253979e-02  1.3838813e-02] as keyword args. From version 0.10 passing these as positional arguments will result in an error\n",
      "  mfcc= librosa.feature.mfcc(signal,sr=sr,n_fft=1024, n_mfcc=13, hop_length=int(HOP))\n"
     ]
    },
    {
     "name": "stdout",
     "output_type": "stream",
     "text": [
      "(13, 26)\n",
      "vowels_dataset/I/I2.m4a\n",
      "(13, 26)\n",
      "vowels_dataset/I/I5.m4a\n",
      "(13, 26)\n",
      "vowels_dataset/I/I7.m4a\n",
      "(13, 26)\n",
      "vowels_dataset/I/I13.m4a\n",
      "(13, 26)\n",
      "vowels_dataset/I/I6.m4a\n",
      "(13, 26)\n",
      "vowels_dataset/I/I11.m4a\n",
      "(13, 26)\n"
     ]
    },
    {
     "name": "stderr",
     "output_type": "stream",
     "text": [
      "/tmp/ipykernel_2786/1277481382.py:19: FutureWarning: Pass y=[1.1813212e-05 6.4035926e-06 2.2234342e-06 ... 4.1174082e-04 3.4853301e-04\n",
      " 3.7460550e-04] as keyword args. From version 0.10 passing these as positional arguments will result in an error\n",
      "  TIME=librosa.get_duration(signal)\n",
      "/tmp/ipykernel_2786/1277481382.py:23: FutureWarning: Pass y=[1.1813212e-05 6.4035926e-06 2.2234342e-06 ... 4.1174082e-04 3.4853301e-04\n",
      " 3.7460550e-04] as keyword args. From version 0.10 passing these as positional arguments will result in an error\n",
      "  mfcc= librosa.feature.mfcc(signal,sr=sr,n_fft=1024, n_mfcc=13, hop_length=int(HOP))\n",
      "/tmp/ipykernel_2786/1277481382.py:19: FutureWarning: Pass y=[-6.9979428e-06  2.9171031e-06  5.6671256e-06 ...  1.8004183e-02\n",
      "  1.7282153e-02  1.7480494e-02] as keyword args. From version 0.10 passing these as positional arguments will result in an error\n",
      "  TIME=librosa.get_duration(signal)\n",
      "/tmp/ipykernel_2786/1277481382.py:23: FutureWarning: Pass y=[-6.9979428e-06  2.9171031e-06  5.6671256e-06 ...  1.8004183e-02\n",
      "  1.7282153e-02  1.7480494e-02] as keyword args. From version 0.10 passing these as positional arguments will result in an error\n",
      "  mfcc= librosa.feature.mfcc(signal,sr=sr,n_fft=1024, n_mfcc=13, hop_length=int(HOP))\n",
      "/tmp/ipykernel_2786/1277481382.py:19: FutureWarning: Pass y=[-1.2163938e-05 -9.8894934e-06 -8.9967489e-06 ... -7.9466758e-04\n",
      " -1.2723996e-03 -2.1408498e-03] as keyword args. From version 0.10 passing these as positional arguments will result in an error\n",
      "  TIME=librosa.get_duration(signal)\n",
      "/tmp/ipykernel_2786/1277481382.py:23: FutureWarning: Pass y=[-1.2163938e-05 -9.8894934e-06 -8.9967489e-06 ... -7.9466758e-04\n",
      " -1.2723996e-03 -2.1408498e-03] as keyword args. From version 0.10 passing these as positional arguments will result in an error\n",
      "  mfcc= librosa.feature.mfcc(signal,sr=sr,n_fft=1024, n_mfcc=13, hop_length=int(HOP))\n",
      "/tmp/ipykernel_2786/1277481382.py:19: FutureWarning: Pass y=[-4.5115003e-06  7.8418179e-06  3.9018955e-06 ...  5.1781707e-02\n",
      "  3.4114342e-02  1.2326484e-02] as keyword args. From version 0.10 passing these as positional arguments will result in an error\n",
      "  TIME=librosa.get_duration(signal)\n",
      "/tmp/ipykernel_2786/1277481382.py:23: FutureWarning: Pass y=[-4.5115003e-06  7.8418179e-06  3.9018955e-06 ...  5.1781707e-02\n",
      "  3.4114342e-02  1.2326484e-02] as keyword args. From version 0.10 passing these as positional arguments will result in an error\n",
      "  mfcc= librosa.feature.mfcc(signal,sr=sr,n_fft=1024, n_mfcc=13, hop_length=int(HOP))\n",
      "/tmp/ipykernel_2786/1277481382.py:19: FutureWarning: Pass y=[-1.9653353e-06  2.0011814e-06 -1.8930789e-06 ... -5.1525696e-03\n",
      " -2.3575018e-03 -2.8991327e-03] as keyword args. From version 0.10 passing these as positional arguments will result in an error\n",
      "  TIME=librosa.get_duration(signal)\n",
      "/tmp/ipykernel_2786/1277481382.py:23: FutureWarning: Pass y=[-1.9653353e-06  2.0011814e-06 -1.8930789e-06 ... -5.1525696e-03\n",
      " -2.3575018e-03 -2.8991327e-03] as keyword args. From version 0.10 passing these as positional arguments will result in an error\n",
      "  mfcc= librosa.feature.mfcc(signal,sr=sr,n_fft=1024, n_mfcc=13, hop_length=int(HOP))\n",
      "/tmp/ipykernel_2786/1277481382.py:19: FutureWarning: Pass y=[ 3.6601386e-07  1.5520294e-05 -1.5024309e-06 ...  3.4326010e-03\n",
      "  3.8138740e-03  4.0309038e-03] as keyword args. From version 0.10 passing these as positional arguments will result in an error\n",
      "  TIME=librosa.get_duration(signal)\n",
      "/tmp/ipykernel_2786/1277481382.py:23: FutureWarning: Pass y=[ 3.6601386e-07  1.5520294e-05 -1.5024309e-06 ...  3.4326010e-03\n",
      "  3.8138740e-03  4.0309038e-03] as keyword args. From version 0.10 passing these as positional arguments will result in an error\n",
      "  mfcc= librosa.feature.mfcc(signal,sr=sr,n_fft=1024, n_mfcc=13, hop_length=int(HOP))\n"
     ]
    }
   ],
   "source": [
    "import os\n",
    "dataset_path=\"vowels_dataset\"\n",
    "vocales=[]\n",
    "sample_rate=[]\n",
    "longitud=[]\n",
    "for i, (dirpath, dirnames, filenames) in enumerate(os.walk(dataset_path)):\n",
    "    if dirpath is not dataset_path:\n",
    "        dirpath_components = dirpath.split(\"/\")\n",
    "        semantic_label = dirpath_components[-1]\n",
    "        vocales.append(semantic_label)\n",
    "        print(\"\\nProccesing {}\".format(semantic_label))\n",
    "        \n",
    "        for f in filenames:\n",
    "                #load audio file\n",
    "                file_path= os.path.join(dirpath, f)\n",
    "                signal, sr=librosa.load(file_path)\n",
    "                sample_rate.append(sr)\n",
    "                longitud.append(signal.shape[0])\n",
    "                TIME=librosa.get_duration(signal)\n",
    "                X=25\n",
    "                HOP=TIME*sr/X\n",
    "                print(file_path)\n",
    "                mfcc= librosa.feature.mfcc(signal,sr=sr,n_fft=1024, n_mfcc=13, hop_length=int(HOP))\n",
    "                print(mfcc.shape)\n",
    "                \n",
    "                #procces segments extracting mfcc and storing data\n",
    "                \n",
    "                #NEET TO CUT ALL THE SEGMENTS OF THE SAME LENGTH\n",
    "                #signal=signal[1000:20000]\n",
    "                #mfcc= librosa.feature.mfcc(signal,sr=sr,n_fft=n_fft, n_mfcc=n_mfcc, hop_length=hop_length)\n",
    "                #print(mfcc.shape)\n",
    "                #data[\"mfcc\"].append(mfcc.tolist())\n",
    "                #data[\"labels\"].append(i-1)\n",
    "                #print(\"{}, segment:{}\".format(file_path, f))"
   ]
  },
  {
   "cell_type": "code",
   "execution_count": 9,
   "id": "fe384b44",
   "metadata": {},
   "outputs": [
    {
     "data": {
      "text/plain": [
       "['A', 'U', 'O', 'E', 'I']"
      ]
     },
     "execution_count": 9,
     "metadata": {},
     "output_type": "execute_result"
    }
   ],
   "source": [
    "vocales"
   ]
  },
  {
   "cell_type": "code",
   "execution_count": 73,
   "id": "7377bbeb",
   "metadata": {},
   "outputs": [
    {
     "name": "stdout",
     "output_type": "stream",
     "text": [
      "12288\n"
     ]
    }
   ],
   "source": [
    "\n",
    "v=[]\n",
    "\n",
    "for i in longitud:\n",
    "    if(i/22050 <0.57):\n",
    "        print(i)\n",
    "   "
   ]
  },
  {
   "cell_type": "code",
   "execution_count": null,
   "id": "3e12f84d",
   "metadata": {},
   "outputs": [],
   "source": []
  },
  {
   "cell_type": "code",
   "execution_count": null,
   "id": "502bfcd4",
   "metadata": {},
   "outputs": [],
   "source": []
  },
  {
   "cell_type": "code",
   "execution_count": null,
   "id": "d8b7df5b",
   "metadata": {},
   "outputs": [],
   "source": []
  }
 ],
 "metadata": {
  "kernelspec": {
   "display_name": "Python 3 (ipykernel)",
   "language": "python",
   "name": "python3"
  },
  "language_info": {
   "codemirror_mode": {
    "name": "ipython",
    "version": 3
   },
   "file_extension": ".py",
   "mimetype": "text/x-python",
   "name": "python",
   "nbconvert_exporter": "python",
   "pygments_lexer": "ipython3",
   "version": "3.10.5"
  }
 },
 "nbformat": 4,
 "nbformat_minor": 5
}
