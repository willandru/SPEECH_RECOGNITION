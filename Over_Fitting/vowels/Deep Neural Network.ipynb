{
 "cells": [
  {
   "cell_type": "code",
   "execution_count": 2,
   "id": "fedb9119",
   "metadata": {},
   "outputs": [],
   "source": [
    "from sklearn.model_selection import train_test_split\n",
    "import tensorflow.keras as keras"
   ]
  },
  {
   "cell_type": "code",
   "execution_count": 3,
   "id": "7c05ae67",
   "metadata": {},
   "outputs": [],
   "source": [
    "DATASET_PATH= \"data.json\""
   ]
  },
  {
   "cell_type": "code",
   "execution_count": 4,
   "id": "afb91238",
   "metadata": {},
   "outputs": [],
   "source": [
    "import json\n",
    "import numpy as np\n",
    "\n",
    "def load_data(dataset_path):\n",
    "    with open(dataset_path, \"r\") as fp:\n",
    "        data = json.load(fp)\n",
    "        \n",
    "    #Convert list into a numpy array\n",
    "    \n",
    "    inputs = np.array(data[\"mfcc\"],dtype=np.float32)\n",
    "    targets = np.array(data[\"labels\"],dtype=np.float32)\n",
    "   # np.asarray(X).astype(np.float32)\n",
    "    \n",
    "    return inputs, targets"
   ]
  },
  {
   "cell_type": "code",
   "execution_count": 5,
   "id": "03a5769d",
   "metadata": {},
   "outputs": [
    {
     "name": "stdout",
     "output_type": "stream",
     "text": [
      "Model: \"sequential\"\n",
      "_________________________________________________________________\n",
      " Layer (type)                Output Shape              Param #   \n",
      "=================================================================\n",
      " flatten (Flatten)           (None, 780)               0         \n",
      "                                                                 \n",
      " dense (Dense)               (None, 512)               399872    \n",
      "                                                                 \n",
      " dense_1 (Dense)             (None, 256)               131328    \n",
      "                                                                 \n",
      " dense_2 (Dense)             (None, 64)                16448     \n",
      "                                                                 \n",
      " dense_3 (Dense)             (None, 5)                 325       \n",
      "                                                                 \n",
      "=================================================================\n",
      "Total params: 547,973\n",
      "Trainable params: 547,973\n",
      "Non-trainable params: 0\n",
      "_________________________________________________________________\n"
     ]
    },
    {
     "name": "stderr",
     "output_type": "stream",
     "text": [
      "2022-08-17 06:47:04.075933: E tensorflow/stream_executor/cuda/cuda_driver.cc:271] failed call to cuInit: CUDA_ERROR_NO_DEVICE: no CUDA-capable device is detected\n",
      "2022-08-17 06:47:04.075995: I tensorflow/stream_executor/cuda/cuda_diagnostics.cc:156] kernel driver does not appear to be running on this host (kaliw): /proc/driver/nvidia/version does not exist\n",
      "2022-08-17 06:47:04.078737: I tensorflow/core/platform/cpu_feature_guard.cc:193] This TensorFlow binary is optimized with oneAPI Deep Neural Network Library (oneDNN) to use the following CPU instructions in performance-critical operations:  AVX2 FMA\n",
      "To enable them in other operations, rebuild TensorFlow with the appropriate compiler flags.\n",
      "/home/kaliw/.local/lib/python3.10/site-packages/keras/optimizers/optimizer_v2/adam.py:110: UserWarning: The `lr` argument is deprecated, use `learning_rate` instead.\n",
      "  super(Adam, self).__init__(name, **kwargs)\n"
     ]
    }
   ],
   "source": [
    "if __name__==\"__main__\":\n",
    "    #load data\n",
    "    inputs, targets = load_data(DATASET_PATH)\n",
    "    \n",
    "    #split the data into train and test sets\n",
    "    inputs_train, inputs_test, targets_train, targets_test= train_test_split(inputs, targets, test_size=0.3)\n",
    "    \n",
    "    #buil the network architecture\n",
    "    model = keras.Sequential([\n",
    "        #input layer\n",
    "        keras.layers.Flatten(input_shape=(inputs.shape[1],inputs.shape[2])),\n",
    "        # 1st hidden layer\n",
    "        keras.layers.Dense(512, activation=\"relu\"),\n",
    "        #2nd hidden layer\n",
    "        keras.layers.Dense(256, activation=\"relu\"),\n",
    "        #3rd hidden layer\n",
    "        keras.layers.Dense(64, activation=\"relu\"),\n",
    "        #output layer\n",
    "        keras.layers.Dense(5, activation=\"softmax\")   \n",
    "    ])\n",
    "    \n",
    "    #compile the network\n",
    "    optimizer = keras.optimizers.Adam(lr=0.0001)\n",
    "    model.compile(optimizer=optimizer,\n",
    "                  loss=\"sparse_categorical_crossentropy\",\n",
    "                  metrics=[\"accuracy\"])\n",
    "    model.summary()\n",
    "    "
   ]
  },
  {
   "cell_type": "code",
   "execution_count": 6,
   "id": "11f86699",
   "metadata": {},
   "outputs": [
    {
     "name": "stdout",
     "output_type": "stream",
     "text": [
      "Epoch 1/50\n",
      "2/2 [==============================] - 1s 181ms/step - loss: 73.2969 - accuracy: 0.2034 - val_loss: 52.2595 - val_accuracy: 0.1154\n",
      "Epoch 2/50\n",
      "2/2 [==============================] - 0s 29ms/step - loss: 43.8606 - accuracy: 0.2034 - val_loss: 33.7564 - val_accuracy: 0.2308\n",
      "Epoch 3/50\n",
      "2/2 [==============================] - 0s 34ms/step - loss: 29.2548 - accuracy: 0.2881 - val_loss: 21.8357 - val_accuracy: 0.2692\n",
      "Epoch 4/50\n",
      "2/2 [==============================] - 0s 47ms/step - loss: 19.3400 - accuracy: 0.3220 - val_loss: 13.5868 - val_accuracy: 0.2692\n",
      "Epoch 5/50\n",
      "2/2 [==============================] - 0s 32ms/step - loss: 10.0850 - accuracy: 0.3390 - val_loss: 17.1665 - val_accuracy: 0.2692\n",
      "Epoch 6/50\n",
      "2/2 [==============================] - 0s 28ms/step - loss: 11.0293 - accuracy: 0.3390 - val_loss: 17.8154 - val_accuracy: 0.2308\n",
      "Epoch 7/50\n",
      "2/2 [==============================] - 0s 38ms/step - loss: 8.8510 - accuracy: 0.4237 - val_loss: 9.8576 - val_accuracy: 0.3846\n",
      "Epoch 8/50\n",
      "2/2 [==============================] - 0s 47ms/step - loss: 6.1446 - accuracy: 0.6441 - val_loss: 10.8957 - val_accuracy: 0.4231\n",
      "Epoch 9/50\n",
      "2/2 [==============================] - 0s 34ms/step - loss: 6.4352 - accuracy: 0.5254 - val_loss: 9.1154 - val_accuracy: 0.3077\n",
      "Epoch 10/50\n",
      "2/2 [==============================] - 0s 59ms/step - loss: 4.5022 - accuracy: 0.5932 - val_loss: 5.4758 - val_accuracy: 0.3462\n",
      "Epoch 11/50\n",
      "2/2 [==============================] - 0s 28ms/step - loss: 1.9776 - accuracy: 0.7119 - val_loss: 5.8499 - val_accuracy: 0.4231\n",
      "Epoch 12/50\n",
      "2/2 [==============================] - 0s 32ms/step - loss: 2.2206 - accuracy: 0.6949 - val_loss: 6.8566 - val_accuracy: 0.5000\n",
      "Epoch 13/50\n",
      "2/2 [==============================] - 0s 41ms/step - loss: 2.1063 - accuracy: 0.7288 - val_loss: 5.7935 - val_accuracy: 0.5000\n",
      "Epoch 14/50\n",
      "2/2 [==============================] - 0s 46ms/step - loss: 1.2400 - accuracy: 0.7458 - val_loss: 4.3744 - val_accuracy: 0.4615\n",
      "Epoch 15/50\n",
      "2/2 [==============================] - 0s 100ms/step - loss: 0.4845 - accuracy: 0.8305 - val_loss: 4.7988 - val_accuracy: 0.5769\n",
      "Epoch 16/50\n",
      "2/2 [==============================] - 0s 36ms/step - loss: 0.6502 - accuracy: 0.7966 - val_loss: 4.6172 - val_accuracy: 0.4231\n",
      "Epoch 17/50\n",
      "2/2 [==============================] - 0s 40ms/step - loss: 0.4230 - accuracy: 0.8983 - val_loss: 4.3169 - val_accuracy: 0.5000\n",
      "Epoch 18/50\n",
      "2/2 [==============================] - 0s 37ms/step - loss: 0.1788 - accuracy: 0.9153 - val_loss: 4.0087 - val_accuracy: 0.4615\n",
      "Epoch 19/50\n",
      "2/2 [==============================] - 0s 32ms/step - loss: 0.1718 - accuracy: 0.9322 - val_loss: 3.9638 - val_accuracy: 0.5000\n",
      "Epoch 20/50\n",
      "2/2 [==============================] - 0s 33ms/step - loss: 0.1489 - accuracy: 0.9661 - val_loss: 4.0033 - val_accuracy: 0.5385\n",
      "Epoch 21/50\n",
      "2/2 [==============================] - 0s 32ms/step - loss: 0.1483 - accuracy: 0.9831 - val_loss: 3.9205 - val_accuracy: 0.5000\n",
      "Epoch 22/50\n",
      "2/2 [==============================] - 0s 49ms/step - loss: 0.1012 - accuracy: 0.9831 - val_loss: 3.7407 - val_accuracy: 0.4615\n",
      "Epoch 23/50\n",
      "2/2 [==============================] - 0s 26ms/step - loss: 0.0693 - accuracy: 0.9831 - val_loss: 3.5251 - val_accuracy: 0.4615\n",
      "Epoch 24/50\n",
      "2/2 [==============================] - 0s 30ms/step - loss: 0.0114 - accuracy: 1.0000 - val_loss: 3.4750 - val_accuracy: 0.4615\n",
      "Epoch 25/50\n",
      "2/2 [==============================] - 0s 27ms/step - loss: 0.0045 - accuracy: 1.0000 - val_loss: 3.6622 - val_accuracy: 0.5385\n",
      "Epoch 26/50\n",
      "2/2 [==============================] - 0s 30ms/step - loss: 0.0043 - accuracy: 1.0000 - val_loss: 3.9703 - val_accuracy: 0.5385\n",
      "Epoch 27/50\n",
      "2/2 [==============================] - 0s 29ms/step - loss: 0.0137 - accuracy: 1.0000 - val_loss: 4.1702 - val_accuracy: 0.5385\n",
      "Epoch 28/50\n",
      "2/2 [==============================] - 0s 55ms/step - loss: 0.0168 - accuracy: 1.0000 - val_loss: 4.1076 - val_accuracy: 0.5769\n",
      "Epoch 29/50\n",
      "2/2 [==============================] - 0s 32ms/step - loss: 0.0072 - accuracy: 1.0000 - val_loss: 3.8805 - val_accuracy: 0.5769\n",
      "Epoch 30/50\n",
      "2/2 [==============================] - 0s 29ms/step - loss: 0.0038 - accuracy: 1.0000 - val_loss: 3.6364 - val_accuracy: 0.5385\n",
      "Epoch 31/50\n",
      "2/2 [==============================] - 0s 35ms/step - loss: 0.0022 - accuracy: 1.0000 - val_loss: 3.4609 - val_accuracy: 0.5385\n",
      "Epoch 32/50\n",
      "2/2 [==============================] - 0s 37ms/step - loss: 0.0013 - accuracy: 1.0000 - val_loss: 3.3523 - val_accuracy: 0.5385\n",
      "Epoch 33/50\n",
      "2/2 [==============================] - 0s 35ms/step - loss: 8.2595e-04 - accuracy: 1.0000 - val_loss: 3.2894 - val_accuracy: 0.5385\n",
      "Epoch 34/50\n",
      "2/2 [==============================] - 0s 35ms/step - loss: 8.1915e-04 - accuracy: 1.0000 - val_loss: 3.2563 - val_accuracy: 0.5769\n",
      "Epoch 35/50\n",
      "2/2 [==============================] - 0s 49ms/step - loss: 9.1115e-04 - accuracy: 1.0000 - val_loss: 3.2385 - val_accuracy: 0.5769\n",
      "Epoch 36/50\n",
      "2/2 [==============================] - 0s 59ms/step - loss: 8.8897e-04 - accuracy: 1.0000 - val_loss: 3.2218 - val_accuracy: 0.5769\n",
      "Epoch 37/50\n",
      "2/2 [==============================] - 0s 53ms/step - loss: 8.6354e-04 - accuracy: 1.0000 - val_loss: 3.2086 - val_accuracy: 0.5769\n",
      "Epoch 38/50\n",
      "2/2 [==============================] - 0s 53ms/step - loss: 7.6850e-04 - accuracy: 1.0000 - val_loss: 3.1977 - val_accuracy: 0.5769\n",
      "Epoch 39/50\n",
      "2/2 [==============================] - 0s 27ms/step - loss: 7.1868e-04 - accuracy: 1.0000 - val_loss: 3.1864 - val_accuracy: 0.5769\n",
      "Epoch 40/50\n",
      "2/2 [==============================] - 0s 30ms/step - loss: 6.0686e-04 - accuracy: 1.0000 - val_loss: 3.1780 - val_accuracy: 0.5385\n",
      "Epoch 41/50\n",
      "2/2 [==============================] - 0s 56ms/step - loss: 5.4058e-04 - accuracy: 1.0000 - val_loss: 3.1732 - val_accuracy: 0.5385\n",
      "Epoch 42/50\n",
      "2/2 [==============================] - 0s 49ms/step - loss: 4.8017e-04 - accuracy: 1.0000 - val_loss: 3.1715 - val_accuracy: 0.5385\n",
      "Epoch 43/50\n",
      "2/2 [==============================] - 0s 54ms/step - loss: 4.6645e-04 - accuracy: 1.0000 - val_loss: 3.1709 - val_accuracy: 0.5385\n",
      "Epoch 44/50\n",
      "2/2 [==============================] - 0s 37ms/step - loss: 4.4863e-04 - accuracy: 1.0000 - val_loss: 3.1713 - val_accuracy: 0.5385\n",
      "Epoch 45/50\n",
      "2/2 [==============================] - 0s 27ms/step - loss: 4.2380e-04 - accuracy: 1.0000 - val_loss: 3.1730 - val_accuracy: 0.5385\n",
      "Epoch 46/50\n",
      "2/2 [==============================] - 0s 29ms/step - loss: 4.0658e-04 - accuracy: 1.0000 - val_loss: 3.1748 - val_accuracy: 0.5385\n",
      "Epoch 47/50\n",
      "2/2 [==============================] - 0s 29ms/step - loss: 3.8609e-04 - accuracy: 1.0000 - val_loss: 3.1769 - val_accuracy: 0.5385\n",
      "Epoch 48/50\n",
      "2/2 [==============================] - 0s 35ms/step - loss: 3.6485e-04 - accuracy: 1.0000 - val_loss: 3.1792 - val_accuracy: 0.5385\n",
      "Epoch 49/50\n",
      "2/2 [==============================] - 0s 48ms/step - loss: 3.4119e-04 - accuracy: 1.0000 - val_loss: 3.1815 - val_accuracy: 0.5385\n",
      "Epoch 50/50\n",
      "2/2 [==============================] - 0s 39ms/step - loss: 3.2262e-04 - accuracy: 1.0000 - val_loss: 3.1838 - val_accuracy: 0.5385\n"
     ]
    }
   ],
   "source": [
    "#train network\n",
    "history= model.fit(inputs_train, targets_train,\n",
    "          validation_data=(inputs_test, targets_test),\n",
    "          epochs=50, \n",
    "          batch_size=32\n",
    "         )"
   ]
  },
  {
   "cell_type": "markdown",
   "id": "37ce93cf",
   "metadata": {},
   "source": [
    "# Plot ACCURACY and "
   ]
  },
  {
   "cell_type": "code",
   "execution_count": 9,
   "id": "f69ed7ec",
   "metadata": {},
   "outputs": [],
   "source": [
    "import matplotlib.pyplot as plt\n",
    "\n",
    "def plotHistory(history):\n",
    "    fig, axs= plt.subplots(2)\n",
    "    \n",
    "    #create the accuracy subplot\n",
    "    axs[0].plot(history.history[\"accuracy\"], label=\"train accuracy\")\n",
    "    axs[0].plot(history.history[\"val_accuracy\"], label=\"test accuracy\")\n",
    "    axs[0].set_ylabel(\"Accuracy\")\n",
    "    axs[0].legend(loc=\"lower right\")\n",
    "    axs[0].set_title(\"Accuracy eval\")\n",
    "    \n",
    "    #create error subplot\n",
    "    axs[1].plot(history.history[\"loss\"], label=\"train error\")\n",
    "    axs[1].plot(history.history[\"val_loss\"], label=\"test error\")\n",
    "    axs[1].set_ylabel(\"Error\")\n",
    "    axs[1].set_xlabel(\"Epoch\")\n",
    "    axs[1].legend(loc=\"upper right\")\n",
    "    axs[1].set_title(\"Error eval\")\n",
    "    \n",
    "    plt.show()"
   ]
  },
  {
   "cell_type": "code",
   "execution_count": 10,
   "id": "7686f178",
   "metadata": {},
   "outputs": [
    {
     "data": {
      "image/png": "[encoded data removed]",
      "text/plain": [
       "<Figure size 432x288 with 2 Axes>"
      ]
     },
     "metadata": {
      "needs_background": "light"
     },
     "output_type": "display_data"
    }
   ],
   "source": [
    "plotHistory(history)"
   ]
  },
  {
   "cell_type": "code",
   "execution_count": null,
   "id": "92a31279",
   "metadata": {},
   "outputs": [],
   "source": []
  }
 ],
 "metadata": {
  "kernelspec": {
   "display_name": "Python 3 (ipykernel)",
   "language": "python",
   "name": "python3"
  },
  "language_info": {
   "codemirror_mode": {
    "name": "ipython",
    "version": 3
   },
   "file_extension": ".py",
   "mimetype": "text/x-python",
   "name": "python",
   "nbconvert_exporter": "python",
   "pygments_lexer": "ipython3",
   "version": "3.10.5"
  }
 },
 "nbformat": 4,
 "nbformat_minor": 5
}
