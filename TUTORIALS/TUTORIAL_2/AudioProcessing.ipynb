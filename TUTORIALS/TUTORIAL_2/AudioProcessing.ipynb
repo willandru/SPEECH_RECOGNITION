{
 "cells": [
  {
   "cell_type": "markdown",
   "id": "205ac1d3",
   "metadata": {},
   "source": [
    "### Walk through the data directories"
   ]
  },
  {
   "cell_type": "code",
   "execution_count": 7,
   "id": "9ec198d0",
   "metadata": {},
   "outputs": [],
   "source": [
    "import os"
   ]
  },
  {
   "cell_type": "code",
   "execution_count": 9,
   "id": "581c677b",
   "metadata": {},
   "outputs": [
    {
     "data": {
      "text/plain": [
       "[]"
      ]
     },
     "execution_count": 9,
     "metadata": {},
     "output_type": "execute_result"
    }
   ],
   "source": [
    "dataset_path= \"data\"\n",
    "dp=[]\n",
    "\n",
    "for i, (dirpath, dirnames, filenames) in enumerate(os.walk(dataset_path)):\n",
    "    \n",
    "    #ensure wer'not at root level\n",
    "    if dirpath is not dataset_path:\n",
    "        print(\"Directory name: \"+dirpath)\n",
    "        dirpath_components = dirpath.split('/')\n",
    "        label=dirpath_components[-1]\n",
    "        print(\"Etiqueta: \"+label)\n",
    "        \n",
    "        for f in filenames:\n",
    "            print(f)\n",
    "            file_path= os.path.join(dirpath, f)\n",
    "            dp.append(file_path)\n",
    "            \n",
    "dp"
   ]
  },
  {
   "cell_type": "markdown",
   "id": "d1f4e11f",
   "metadata": {},
   "source": [
    "### READ AN AUDIO FILE"
   ]
  },
  {
   "cell_type": "code",
   "execution_count": 3,
   "id": "a9b3a9b5",
   "metadata": {},
   "outputs": [],
   "source": [
    "import librosa "
   ]
  },
  {
   "cell_type": "code",
   "execution_count": 4,
   "id": "9170acf6",
   "metadata": {},
   "outputs": [
    {
     "data": {
      "text/plain": [
       "[]"
      ]
     },
     "execution_count": 4,
     "metadata": {},
     "output_type": "execute_result"
    }
   ],
   "source": [
    "dp"
   ]
  },
  {
   "cell_type": "code",
   "execution_count": 5,
   "id": "6cc40b01",
   "metadata": {},
   "outputs": [
    {
     "ename": "IndexError",
     "evalue": "list index out of range",
     "output_type": "error",
     "traceback": [
      "\u001b[0;31m---------------------------------------------------------------------------\u001b[0m",
      "\u001b[0;31mIndexError\u001b[0m                                Traceback (most recent call last)",
      "\u001b[0;32m/tmp/ipykernel_21074/3659507604.py\u001b[0m in \u001b[0;36m<module>\u001b[0;34m\u001b[0m\n\u001b[0;32m----> 1\u001b[0;31m \u001b[0msignal\u001b[0m\u001b[0;34m,\u001b[0m \u001b[0msr\u001b[0m\u001b[0;34m=\u001b[0m\u001b[0mlibrosa\u001b[0m\u001b[0;34m.\u001b[0m\u001b[0mload\u001b[0m\u001b[0;34m(\u001b[0m\u001b[0mdp\u001b[0m\u001b[0;34m[\u001b[0m\u001b[0;36m1\u001b[0m\u001b[0;34m]\u001b[0m\u001b[0;34m)\u001b[0m\u001b[0;34m\u001b[0m\u001b[0;34m\u001b[0m\u001b[0m\n\u001b[0m",
      "\u001b[0;31mIndexError\u001b[0m: list index out of range"
     ]
    }
   ],
   "source": [
    "signal, sr=librosa.load(dp[1])"
   ]
  },
  {
   "cell_type": "markdown",
   "id": "a3aebc01",
   "metadata": {},
   "source": [
    "### KNOW IT'S FUNDAMENTAL PROPERTIES: Sample-rate frecuency and Time duration"
   ]
  },
  {
   "cell_type": "code",
   "execution_count": null,
   "id": "049374cc",
   "metadata": {},
   "outputs": [],
   "source": [
    "print(f'Signal segment: {signal[100:104]}')\n",
    "print(f'Sahpe of signal: {signal.shape}')\n",
    "print(f'Sample Rate: {sr}')"
   ]
  },
  {
   "cell_type": "markdown",
   "id": "0b343af5",
   "metadata": {},
   "source": [
    "### VISUALIZE THE WAVE FORM"
   ]
  },
  {
   "cell_type": "code",
   "execution_count": null,
   "id": "85ef7acf",
   "metadata": {},
   "outputs": [],
   "source": [
    "import matplotlib.pyplot as plt\n",
    "plt.plot(signal)"
   ]
  },
  {
   "cell_type": "markdown",
   "id": "1c084c76",
   "metadata": {},
   "source": [
    "### GET THE FUNDAMENTAL FRECUENCIES: FAST FOURIER TRANSFORM"
   ]
  },
  {
   "cell_type": "code",
   "execution_count": null,
   "id": "4f5e01a7",
   "metadata": {},
   "outputs": [],
   "source": [
    "dt = 0.001\n",
    "\n",
    "\n",
    "#Compute the Fast Fourier Transform (FFT)\n",
    "n =len(signal)\n",
    "fhat= np.fft.fft(signal,n) #Fourier coefficients: complex values Fourier coefficients: What are the MAGNITUD and the PHASE of the sin and cosine components of INCREASSING FRECUANCY that you would have to add up (+) to get the 'signal'\n",
    "#Compute the Power spectrum PSD\n",
    "PSD =fhat * np.conj(fhat)/n \n",
    "freq = (1/(dt*n)) * np.arange(n) \n",
    "L = np.arange(1,np.floor(n/2), dtype='int') #Only plt the first half"
   ]
  },
  {
   "cell_type": "code",
   "execution_count": null,
   "id": "1f51ed97",
   "metadata": {},
   "outputs": [],
   "source": [
    "plt.plot(freq[L],PSD[L],color='c', label='FFT')\n",
    "plt.xlim(freq[L[0]], freq[L[-1]])\n",
    "plt.xlabel('Frecuency in HZ')\n",
    "plt.ylabel('Power Spectrum')\n",
    "plt.legend"
   ]
  },
  {
   "cell_type": "markdown",
   "id": "d9b57dbb",
   "metadata": {},
   "source": [
    "### GET SPECTROGRAMS"
   ]
  },
  {
   "cell_type": "code",
   "execution_count": null,
   "id": "347b1d97",
   "metadata": {},
   "outputs": [],
   "source": [
    "import numpy as np\n",
    "\n",
    "D = librosa.stft(signal)\n",
    "S_db= librosa.amplitude_to_db(np.abs(D), ref=np.max)\n",
    "S_db.shape"
   ]
  },
  {
   "cell_type": "markdown",
   "id": "1dc4c8dc",
   "metadata": {},
   "source": [
    "### GET Mel Frecuencies Cepstral Coefficients : MFCCs"
   ]
  },
  {
   "cell_type": "code",
   "execution_count": null,
   "id": "7bedbb00",
   "metadata": {},
   "outputs": [],
   "source": []
  }
 ],
 "metadata": {
  "kernelspec": {
   "display_name": "Python 3 (ipykernel)",
   "language": "python",
   "name": "python3"
  },
  "language_info": {
   "codemirror_mode": {
    "name": "ipython",
    "version": 3
   },
   "file_extension": ".py",
   "mimetype": "text/x-python",
   "name": "python",
   "nbconvert_exporter": "python",
   "pygments_lexer": "ipython3",
   "version": "3.10.5"
  }
 },
 "nbformat": 4,
 "nbformat_minor": 5
}
