{
 "cells": [
  {
   "cell_type": "code",
   "execution_count": 16,
   "id": "e3e34a45",
   "metadata": {},
   "outputs": [],
   "source": [
    "import os\n",
    "import librosa\n",
    "import math\n",
    "import json\n",
    "\n",
    "DATASET_PATH= \"vowels_dataset\"\n",
    "JSON_PATH = \"data.json\"\n",
    "#DURATION=5\n",
    "#SAMPLE_RATE=22500\n",
    "#SAMPLES_PER_TRACK = SAMPLE_RATE *DURATION\n",
    "\n",
    "def save_mfcc(dataset_path, json_path, n_mfcc=13, n_fft=2048, hop_length=512):\n",
    "    #dictionary to stroe data\n",
    "    \n",
    "    data={\n",
    "        \"mapping\":[],\n",
    "        \"mfcc\":[],\n",
    "        \"labels\":[]\n",
    "    }\n",
    "    \n",
    "   # num_samples_per_segment = int(SAMPLES_PER_TRACK)\n",
    "   # expected_num_mfcc_vectors= ceil(num_samples_per_segment / hop_length)\n",
    "    \n",
    "    #loop through all the genres\n",
    "    for i, (dirpath, dirnames, filenames) in enumerate(os.walk(dataset_path)):\n",
    "        \n",
    "        #ensure wer'not at root level\n",
    "        if dirpath is not dataset_path:\n",
    "            \n",
    "            #save the semantic lebel (\"a, e ,i o u\")\n",
    "            dirpath_components = dirpath.split(\"/\")\n",
    "            semantic_label = dirpath_components[-1]\n",
    "            data[\"mapping\"].append(semantic_label)\n",
    "            print(\"\\nProccesing {}\".format(semantic_label))\n",
    "            \n",
    "            #process files for a specific vowel\n",
    "            for f in filenames:\n",
    "                \n",
    "                #load audio file\n",
    "                file_path= os.path.join(dirpath, f)\n",
    "                signal, sr=librosa.load(file_path, sr=SAMPLE_RATE)\n",
    "                print(file_path)\n",
    "                #procces segments extracting mfcc and storing data\n",
    "                \n",
    "                #NEET TO CUT ALL THE SEGMENTS OF THE SAME LENGTH\n",
    "                mfcc= librosa.feature.mfcc(signal,sr=sr,n_fft=n_fft, n_mfcc=n_mfcc, hop_length=hop_length)\n",
    "                data[\"mfcc\"].append(mfcc.tolist())\n",
    "                data[\"labels\"].append(i-1)\n",
    "                print(\"{}, segment:{}\".format(file_path, f))\n",
    "    with open(json_path, \"w\") as fp:\n",
    "        json.dump(data,fp, indent=4)"
   ]
  },
  {
   "cell_type": "code",
   "execution_count": 17,
   "id": "49a6bda5",
   "metadata": {},
   "outputs": [
    {
     "name": "stdout",
     "output_type": "stream",
     "text": [
      "\n",
      "Proccesing A\n",
      "vowels_dataset/A/A11.m4a\n",
      "vowels_dataset/A/A11.m4a, segment:A11.m4a\n",
      "vowels_dataset/A/A14.m4a\n",
      "vowels_dataset/A/A14.m4a, segment:A14.m4a\n",
      "vowels_dataset/A/A3.m4a\n",
      "vowels_dataset/A/A3.m4a, segment:A3.m4a\n"
     ]
    },
    {
     "name": "stderr",
     "output_type": "stream",
     "text": [
      "/tmp/ipykernel_9583/3400538905.py:46: FutureWarning: Pass y=[-9.4065363e-06 -9.9432400e-06  2.3578543e-06 ...  2.2812119e-02\n",
      "  2.6896447e-02  0.0000000e+00] as keyword args. From version 0.10 passing these as positional arguments will result in an error\n",
      "  mfcc= librosa.feature.mfcc(signal,sr=sr,n_fft=n_fft, n_mfcc=n_mfcc, hop_length=hop_length)\n",
      "/tmp/ipykernel_9583/3400538905.py:46: FutureWarning: Pass y=[ 3.1218420e-08  8.8817700e-07 -6.1867472e-06 ... -9.6997377e-03\n",
      " -1.0665032e-02  0.0000000e+00] as keyword args. From version 0.10 passing these as positional arguments will result in an error\n",
      "  mfcc= librosa.feature.mfcc(signal,sr=sr,n_fft=n_fft, n_mfcc=n_mfcc, hop_length=hop_length)\n",
      "/tmp/ipykernel_9583/3400538905.py:46: FutureWarning: Pass y=[-2.0363223e-06  1.8182413e-06 -1.1134833e-06 ...  1.1445468e-02\n",
      "  1.3743301e-02  0.0000000e+00] as keyword args. From version 0.10 passing these as positional arguments will result in an error\n",
      "  mfcc= librosa.feature.mfcc(signal,sr=sr,n_fft=n_fft, n_mfcc=n_mfcc, hop_length=hop_length)\n"
     ]
    },
    {
     "name": "stdout",
     "output_type": "stream",
     "text": [
      "vowels_dataset/A/A6.m4a\n",
      "vowels_dataset/A/A6.m4a, segment:A6.m4a\n",
      "vowels_dataset/A/A7.m4a\n",
      "vowels_dataset/A/A7.m4a, segment:A7.m4a\n",
      "vowels_dataset/A/A13.m4a\n",
      "vowels_dataset/A/A13.m4a, segment:A13.m4a\n",
      "vowels_dataset/A/A15.m4a\n",
      "vowels_dataset/A/A15.m4a, segment:A15.m4a\n"
     ]
    },
    {
     "name": "stderr",
     "output_type": "stream",
     "text": [
      "/tmp/ipykernel_9583/3400538905.py:46: FutureWarning: Pass y=[ 7.7579750e-07 -1.1713133e-06  1.8124643e-06 ...  3.3522088e-02\n",
      "  3.8109273e-02  0.0000000e+00] as keyword args. From version 0.10 passing these as positional arguments will result in an error\n",
      "  mfcc= librosa.feature.mfcc(signal,sr=sr,n_fft=n_fft, n_mfcc=n_mfcc, hop_length=hop_length)\n",
      "/tmp/ipykernel_9583/3400538905.py:46: FutureWarning: Pass y=[ 1.9081604e-06 -3.1014988e-06  5.1067509e-06 ...  6.9111921e-03\n",
      "  7.3396405e-03  0.0000000e+00] as keyword args. From version 0.10 passing these as positional arguments will result in an error\n",
      "  mfcc= librosa.feature.mfcc(signal,sr=sr,n_fft=n_fft, n_mfcc=n_mfcc, hop_length=hop_length)\n",
      "/tmp/ipykernel_9583/3400538905.py:46: FutureWarning: Pass y=[ 3.8361004e-06 -6.7692586e-06 -5.8361693e-06 ... -6.8197460e-03\n",
      " -3.5085806e-03  0.0000000e+00] as keyword args. From version 0.10 passing these as positional arguments will result in an error\n",
      "  mfcc= librosa.feature.mfcc(signal,sr=sr,n_fft=n_fft, n_mfcc=n_mfcc, hop_length=hop_length)\n",
      "/tmp/ipykernel_9583/3400538905.py:46: FutureWarning: Pass y=[ 2.2146323e-06 -4.3443620e-06  1.1326920e-05 ... -8.1274714e-03\n",
      " -9.0106651e-03  0.0000000e+00] as keyword args. From version 0.10 passing these as positional arguments will result in an error\n",
      "  mfcc= librosa.feature.mfcc(signal,sr=sr,n_fft=n_fft, n_mfcc=n_mfcc, hop_length=hop_length)\n"
     ]
    },
    {
     "name": "stdout",
     "output_type": "stream",
     "text": [
      "vowels_dataset/A/A17.m4a\n",
      "vowels_dataset/A/A17.m4a, segment:A17.m4a\n",
      "vowels_dataset/A/A5.m4a\n",
      "vowels_dataset/A/A5.m4a, segment:A5.m4a\n",
      "vowels_dataset/A/A12.m4a\n",
      "vowels_dataset/A/A12.m4a, segment:A12.m4a\n"
     ]
    },
    {
     "name": "stderr",
     "output_type": "stream",
     "text": [
      "/tmp/ipykernel_9583/3400538905.py:46: FutureWarning: Pass y=[-1.5227181e-06  3.2555197e-06 -2.4112269e-05 ...  8.6076204e-03\n",
      "  9.2937704e-03  0.0000000e+00] as keyword args. From version 0.10 passing these as positional arguments will result in an error\n",
      "  mfcc= librosa.feature.mfcc(signal,sr=sr,n_fft=n_fft, n_mfcc=n_mfcc, hop_length=hop_length)\n",
      "/tmp/ipykernel_9583/3400538905.py:46: FutureWarning: Pass y=[-5.1276243e-07  7.3235407e-07 -1.3741392e-06 ...  2.9850679e-03\n",
      "  3.5270329e-03  0.0000000e+00] as keyword args. From version 0.10 passing these as positional arguments will result in an error\n",
      "  mfcc= librosa.feature.mfcc(signal,sr=sr,n_fft=n_fft, n_mfcc=n_mfcc, hop_length=hop_length)\n",
      "/tmp/ipykernel_9583/3400538905.py:46: FutureWarning: Pass y=[ 3.4403049e-06 -9.8703185e-06  4.9113046e-06 ... -2.7771367e-02\n",
      " -3.0349666e-02  0.0000000e+00] as keyword args. From version 0.10 passing these as positional arguments will result in an error\n",
      "  mfcc= librosa.feature.mfcc(signal,sr=sr,n_fft=n_fft, n_mfcc=n_mfcc, hop_length=hop_length)\n"
     ]
    },
    {
     "name": "stdout",
     "output_type": "stream",
     "text": [
      "vowels_dataset/A/A2.m4a\n",
      "vowels_dataset/A/A2.m4a, segment:A2.m4a\n",
      "vowels_dataset/A/A4.m4a\n",
      "vowels_dataset/A/A4.m4a, segment:A4.m4a\n",
      "vowels_dataset/A/A16.m4a\n",
      "vowels_dataset/A/A16.m4a, segment:A16.m4a\n"
     ]
    },
    {
     "name": "stderr",
     "output_type": "stream",
     "text": [
      "/tmp/ipykernel_9583/3400538905.py:46: FutureWarning: Pass y=[-1.38447285e-05 -1.98484463e-06  2.29144393e-06 ...  1.74071873e-03\n",
      "  1.87682675e-03  0.00000000e+00] as keyword args. From version 0.10 passing these as positional arguments will result in an error\n",
      "  mfcc= librosa.feature.mfcc(signal,sr=sr,n_fft=n_fft, n_mfcc=n_mfcc, hop_length=hop_length)\n",
      "/tmp/ipykernel_9583/3400538905.py:46: FutureWarning: Pass y=[-1.2182847e-05 -9.6488211e-06 -9.9088656e-06 ...  1.6417190e-02\n",
      "  2.0096669e-02  0.0000000e+00] as keyword args. From version 0.10 passing these as positional arguments will result in an error\n",
      "  mfcc= librosa.feature.mfcc(signal,sr=sr,n_fft=n_fft, n_mfcc=n_mfcc, hop_length=hop_length)\n",
      "/tmp/ipykernel_9583/3400538905.py:46: FutureWarning: Pass y=[-4.8118920e-07  1.5253210e-05  1.3982369e-06 ... -8.2348231e-03\n",
      " -8.6367372e-03  0.0000000e+00] as keyword args. From version 0.10 passing these as positional arguments will result in an error\n",
      "  mfcc= librosa.feature.mfcc(signal,sr=sr,n_fft=n_fft, n_mfcc=n_mfcc, hop_length=hop_length)\n"
     ]
    },
    {
     "name": "stdout",
     "output_type": "stream",
     "text": [
      "vowels_dataset/A/A9.m4a\n",
      "vowels_dataset/A/A9.m4a, segment:A9.m4a\n",
      "vowels_dataset/A/A1.m4a\n",
      "vowels_dataset/A/A1.m4a, segment:A1.m4a\n",
      "vowels_dataset/A/A8.m4a\n",
      "vowels_dataset/A/A8.m4a, segment:A8.m4a\n"
     ]
    },
    {
     "name": "stderr",
     "output_type": "stream",
     "text": [
      "/tmp/ipykernel_9583/3400538905.py:46: FutureWarning: Pass y=[ 1.4350005e-05  1.1089114e-06 -9.1291855e-07 ...  2.5562694e-02\n",
      "  2.5777774e-02  0.0000000e+00] as keyword args. From version 0.10 passing these as positional arguments will result in an error\n",
      "  mfcc= librosa.feature.mfcc(signal,sr=sr,n_fft=n_fft, n_mfcc=n_mfcc, hop_length=hop_length)\n",
      "/tmp/ipykernel_9583/3400538905.py:46: FutureWarning: Pass y=[-1.1047828e-05 -2.0416985e-06  1.4125815e-05 ...  1.4805893e-03\n",
      "  1.9437172e-03  0.0000000e+00] as keyword args. From version 0.10 passing these as positional arguments will result in an error\n",
      "  mfcc= librosa.feature.mfcc(signal,sr=sr,n_fft=n_fft, n_mfcc=n_mfcc, hop_length=hop_length)\n",
      "/tmp/ipykernel_9583/3400538905.py:46: FutureWarning: Pass y=[ 3.67238817e-06 -9.23236894e-06 -1.17218015e-05 ... -1.42677994e-02\n",
      " -1.43111860e-02  0.00000000e+00] as keyword args. From version 0.10 passing these as positional arguments will result in an error\n",
      "  mfcc= librosa.feature.mfcc(signal,sr=sr,n_fft=n_fft, n_mfcc=n_mfcc, hop_length=hop_length)\n"
     ]
    },
    {
     "name": "stdout",
     "output_type": "stream",
     "text": [
      "vowels_dataset/A/A10.m4a\n",
      "vowels_dataset/A/A10.m4a, segment:A10.m4a\n",
      "\n",
      "Proccesing U\n",
      "vowels_dataset/U/U11.m4a\n",
      "vowels_dataset/U/U11.m4a, segment:U11.m4a\n",
      "vowels_dataset/U/U15.m4a\n",
      "vowels_dataset/U/U15.m4a, segment:U15.m4a\n",
      "vowels_dataset/U/U12.m4a\n",
      "vowels_dataset/U/U12.m4a, segment:U12.m4a\n"
     ]
    },
    {
     "name": "stderr",
     "output_type": "stream",
     "text": [
      "/tmp/ipykernel_9583/3400538905.py:46: FutureWarning: Pass y=[ 2.5417821e-06 -2.4003302e-05 -1.1409207e-05 ...  3.6205712e-03\n",
      "  1.8979996e-03  0.0000000e+00] as keyword args. From version 0.10 passing these as positional arguments will result in an error\n",
      "  mfcc= librosa.feature.mfcc(signal,sr=sr,n_fft=n_fft, n_mfcc=n_mfcc, hop_length=hop_length)\n",
      "/tmp/ipykernel_9583/3400538905.py:46: FutureWarning: Pass y=[-1.2947709e-05  2.5788401e-07 -2.9966302e-06 ... -9.3252063e-05\n",
      " -5.1350025e-03  0.0000000e+00] as keyword args. From version 0.10 passing these as positional arguments will result in an error\n",
      "  mfcc= librosa.feature.mfcc(signal,sr=sr,n_fft=n_fft, n_mfcc=n_mfcc, hop_length=hop_length)\n",
      "/tmp/ipykernel_9583/3400538905.py:46: FutureWarning: Pass y=[ 8.9525420e-06 -3.9203019e-06 -2.0286496e-05 ... -6.1345040e-03\n",
      " -6.1452389e-03  0.0000000e+00] as keyword args. From version 0.10 passing these as positional arguments will result in an error\n",
      "  mfcc= librosa.feature.mfcc(signal,sr=sr,n_fft=n_fft, n_mfcc=n_mfcc, hop_length=hop_length)\n",
      "/tmp/ipykernel_9583/3400538905.py:46: FutureWarning: Pass y=[-1.0067026e-05 -8.9766627e-06  1.1145129e-06 ...  1.5191483e-02\n",
      "  1.6205972e-02  0.0000000e+00] as keyword args. From version 0.10 passing these as positional arguments will result in an error\n",
      "  mfcc= librosa.feature.mfcc(signal,sr=sr,n_fft=n_fft, n_mfcc=n_mfcc, hop_length=hop_length)\n"
     ]
    },
    {
     "name": "stdout",
     "output_type": "stream",
     "text": [
      "vowels_dataset/U/U7.m4a\n",
      "vowels_dataset/U/U7.m4a, segment:U7.m4a\n",
      "vowels_dataset/U/U16.m4a\n",
      "vowels_dataset/U/U16.m4a, segment:U16.m4a\n",
      "vowels_dataset/U/U14.m4a\n",
      "vowels_dataset/U/U14.m4a, segment:U14.m4a\n"
     ]
    },
    {
     "name": "stderr",
     "output_type": "stream",
     "text": [
      "/tmp/ipykernel_9583/3400538905.py:46: FutureWarning: Pass y=[ 1.8879336e-06 -2.1470539e-06  2.2885154e-06 ... -6.4375014e-03\n",
      " -8.8606197e-03  0.0000000e+00] as keyword args. From version 0.10 passing these as positional arguments will result in an error\n",
      "  mfcc= librosa.feature.mfcc(signal,sr=sr,n_fft=n_fft, n_mfcc=n_mfcc, hop_length=hop_length)\n",
      "/tmp/ipykernel_9583/3400538905.py:46: FutureWarning: Pass y=[-1.1491682e-05 -9.8675337e-06 -1.1154162e-05 ...  5.4688724e-03\n",
      "  5.9607062e-03  0.0000000e+00] as keyword args. From version 0.10 passing these as positional arguments will result in an error\n",
      "  mfcc= librosa.feature.mfcc(signal,sr=sr,n_fft=n_fft, n_mfcc=n_mfcc, hop_length=hop_length)\n",
      "/tmp/ipykernel_9583/3400538905.py:46: FutureWarning: Pass y=[-2.3416629e-05 -1.2597825e-05  7.1507261e-06 ... -1.6617427e-02\n",
      " -1.9726573e-02  0.0000000e+00] as keyword args. From version 0.10 passing these as positional arguments will result in an error\n",
      "  mfcc= librosa.feature.mfcc(signal,sr=sr,n_fft=n_fft, n_mfcc=n_mfcc, hop_length=hop_length)\n"
     ]
    },
    {
     "name": "stdout",
     "output_type": "stream",
     "text": [
      "vowels_dataset/U/U3.m4a\n",
      "vowels_dataset/U/U3.m4a, segment:U3.m4a\n",
      "vowels_dataset/U/U5.m4a\n",
      "vowels_dataset/U/U5.m4a, segment:U5.m4a\n",
      "vowels_dataset/U/U13.m4a\n",
      "vowels_dataset/U/U13.m4a, segment:U13.m4a\n"
     ]
    },
    {
     "name": "stderr",
     "output_type": "stream",
     "text": [
      "/tmp/ipykernel_9583/3400538905.py:46: FutureWarning: Pass y=[ 1.23785285e-05  9.87760359e-07 -1.35385271e-05 ...  2.22670026e-02\n",
      "  2.63436586e-02  0.00000000e+00] as keyword args. From version 0.10 passing these as positional arguments will result in an error\n",
      "  mfcc= librosa.feature.mfcc(signal,sr=sr,n_fft=n_fft, n_mfcc=n_mfcc, hop_length=hop_length)\n",
      "/tmp/ipykernel_9583/3400538905.py:46: FutureWarning: Pass y=[ 1.6083873e-06 -1.7317304e-06  1.7359855e-06 ... -4.8961737e-03\n",
      " -4.4461535e-03  0.0000000e+00] as keyword args. From version 0.10 passing these as positional arguments will result in an error\n",
      "  mfcc= librosa.feature.mfcc(signal,sr=sr,n_fft=n_fft, n_mfcc=n_mfcc, hop_length=hop_length)\n",
      "/tmp/ipykernel_9583/3400538905.py:46: FutureWarning: Pass y=[-1.2315157e-05 -1.8783885e-05 -1.1679573e-05 ...  4.7342022e-04\n",
      "  3.0441089e-03  0.0000000e+00] as keyword args. From version 0.10 passing these as positional arguments will result in an error\n",
      "  mfcc= librosa.feature.mfcc(signal,sr=sr,n_fft=n_fft, n_mfcc=n_mfcc, hop_length=hop_length)\n"
     ]
    },
    {
     "name": "stdout",
     "output_type": "stream",
     "text": [
      "vowels_dataset/U/U1.m4a\n",
      "vowels_dataset/U/U1.m4a, segment:U1.m4a\n",
      "vowels_dataset/U/U8.m4a\n",
      "vowels_dataset/U/U8.m4a, segment:U8.m4a\n",
      "vowels_dataset/U/U17.m4a\n",
      "vowels_dataset/U/U17.m4a, segment:U17.m4a\n"
     ]
    },
    {
     "name": "stderr",
     "output_type": "stream",
     "text": [
      "/tmp/ipykernel_9583/3400538905.py:46: FutureWarning: Pass y=[-7.6556471e-06 -1.6126180e-05 -1.7924121e-05 ...  1.7143894e-02\n",
      "  1.7128596e-02  0.0000000e+00] as keyword args. From version 0.10 passing these as positional arguments will result in an error\n",
      "  mfcc= librosa.feature.mfcc(signal,sr=sr,n_fft=n_fft, n_mfcc=n_mfcc, hop_length=hop_length)\n",
      "/tmp/ipykernel_9583/3400538905.py:46: FutureWarning: Pass y=[-3.8861795e-06 -5.6392632e-06  1.0250347e-05 ...  4.8814821e-03\n",
      "  6.9048703e-03  0.0000000e+00] as keyword args. From version 0.10 passing these as positional arguments will result in an error\n",
      "  mfcc= librosa.feature.mfcc(signal,sr=sr,n_fft=n_fft, n_mfcc=n_mfcc, hop_length=hop_length)\n",
      "/tmp/ipykernel_9583/3400538905.py:46: FutureWarning: Pass y=[ 5.1168035e-07 -2.6522966e-07 -1.3306808e-07 ... -2.2145717e-03\n",
      " -1.9140744e-03  0.0000000e+00] as keyword args. From version 0.10 passing these as positional arguments will result in an error\n",
      "  mfcc= librosa.feature.mfcc(signal,sr=sr,n_fft=n_fft, n_mfcc=n_mfcc, hop_length=hop_length)\n"
     ]
    },
    {
     "name": "stdout",
     "output_type": "stream",
     "text": [
      "vowels_dataset/U/U2.m4a\n",
      "vowels_dataset/U/U2.m4a, segment:U2.m4a\n",
      "vowels_dataset/U/U6.m4a\n",
      "vowels_dataset/U/U6.m4a, segment:U6.m4a\n",
      "vowels_dataset/U/U4.m4a\n"
     ]
    },
    {
     "name": "stderr",
     "output_type": "stream",
     "text": [
      "/tmp/ipykernel_9583/3400538905.py:46: FutureWarning: Pass y=[ 7.0358574e-06  1.8722243e-05 -6.2903055e-06 ... -6.2341525e-05\n",
      " -1.5906812e-04  0.0000000e+00] as keyword args. From version 0.10 passing these as positional arguments will result in an error\n",
      "  mfcc= librosa.feature.mfcc(signal,sr=sr,n_fft=n_fft, n_mfcc=n_mfcc, hop_length=hop_length)\n",
      "/tmp/ipykernel_9583/3400538905.py:46: FutureWarning: Pass y=[ 4.5694114e-07 -5.4771482e-07  6.1958804e-07 ... -6.5230772e-02\n",
      " -7.4303798e-02  0.0000000e+00] as keyword args. From version 0.10 passing these as positional arguments will result in an error\n",
      "  mfcc= librosa.feature.mfcc(signal,sr=sr,n_fft=n_fft, n_mfcc=n_mfcc, hop_length=hop_length)\n",
      "/tmp/ipykernel_9583/3400538905.py:46: FutureWarning: Pass y=[ 5.1168035e-07 -2.6522966e-07 -1.3306808e-07 ...  2.9976405e-03\n",
      "  2.3998450e-03  1.3789289e-03] as keyword args. From version 0.10 passing these as positional arguments will result in an error\n",
      "  mfcc= librosa.feature.mfcc(signal,sr=sr,n_fft=n_fft, n_mfcc=n_mfcc, hop_length=hop_length)\n"
     ]
    },
    {
     "name": "stdout",
     "output_type": "stream",
     "text": [
      "vowels_dataset/U/U4.m4a, segment:U4.m4a\n",
      "vowels_dataset/U/U9.m4a\n",
      "vowels_dataset/U/U9.m4a, segment:U9.m4a\n"
     ]
    },
    {
     "name": "stderr",
     "output_type": "stream",
     "text": [
      "/tmp/ipykernel_9583/3400538905.py:46: FutureWarning: Pass y=[ 1.5740794e-06  1.3219136e-05  3.3318547e-06 ... -1.2247367e-02\n",
      " -1.2028894e-02  0.0000000e+00] as keyword args. From version 0.10 passing these as positional arguments will result in an error\n",
      "  mfcc= librosa.feature.mfcc(signal,sr=sr,n_fft=n_fft, n_mfcc=n_mfcc, hop_length=hop_length)\n",
      "/tmp/ipykernel_9583/3400538905.py:46: FutureWarning: Pass y=[-2.8354763e-09  1.5433938e-05 -9.3722825e-08 ... -2.2386823e-02\n",
      " -2.7703408e-02  0.0000000e+00] as keyword args. From version 0.10 passing these as positional arguments will result in an error\n",
      "  mfcc= librosa.feature.mfcc(signal,sr=sr,n_fft=n_fft, n_mfcc=n_mfcc, hop_length=hop_length)\n"
     ]
    },
    {
     "name": "stdout",
     "output_type": "stream",
     "text": [
      "vowels_dataset/U/U10.m4a\n",
      "vowels_dataset/U/U10.m4a, segment:U10.m4a\n",
      "\n",
      "Proccesing O\n",
      "vowels_dataset/O/O3.m4a\n",
      "vowels_dataset/O/O3.m4a, segment:O3.m4a\n",
      "vowels_dataset/O/O14.m4a\n",
      "vowels_dataset/O/O14.m4a, segment:O14.m4a\n"
     ]
    },
    {
     "name": "stderr",
     "output_type": "stream",
     "text": [
      "/tmp/ipykernel_9583/3400538905.py:46: FutureWarning: Pass y=[ 1.5740794e-06  1.3219136e-05  3.3318547e-06 ... -6.8746915e-04\n",
      " -3.9210764e-04  0.0000000e+00] as keyword args. From version 0.10 passing these as positional arguments will result in an error\n",
      "  mfcc= librosa.feature.mfcc(signal,sr=sr,n_fft=n_fft, n_mfcc=n_mfcc, hop_length=hop_length)\n",
      "/tmp/ipykernel_9583/3400538905.py:46: FutureWarning: Pass y=[ 4.5694114e-07 -5.4771482e-07  6.1958804e-07 ...  4.9461997e-03\n",
      "  5.4907450e-03  0.0000000e+00] as keyword args. From version 0.10 passing these as positional arguments will result in an error\n",
      "  mfcc= librosa.feature.mfcc(signal,sr=sr,n_fft=n_fft, n_mfcc=n_mfcc, hop_length=hop_length)\n",
      "/tmp/ipykernel_9583/3400538905.py:46: FutureWarning: Pass y=[ 1.5379688e-07  1.7841363e-07 -1.0302515e-06 ...  4.9747337e-02\n",
      "  4.9648542e-02  0.0000000e+00] as keyword args. From version 0.10 passing these as positional arguments will result in an error\n",
      "  mfcc= librosa.feature.mfcc(signal,sr=sr,n_fft=n_fft, n_mfcc=n_mfcc, hop_length=hop_length)\n"
     ]
    },
    {
     "name": "stdout",
     "output_type": "stream",
     "text": [
      "vowels_dataset/O/O11.m4a\n",
      "vowels_dataset/O/O11.m4a, segment:O11.m4a\n",
      "vowels_dataset/O/O12.m4a\n",
      "vowels_dataset/O/O12.m4a, segment:O12.m4a\n"
     ]
    },
    {
     "name": "stderr",
     "output_type": "stream",
     "text": [
      "/tmp/ipykernel_9583/3400538905.py:46: FutureWarning: Pass y=[-2.5171951e-06 -1.1526597e-05 -9.7544917e-06 ...  8.5227443e-03\n",
      "  1.0153326e-02  0.0000000e+00] as keyword args. From version 0.10 passing these as positional arguments will result in an error\n",
      "  mfcc= librosa.feature.mfcc(signal,sr=sr,n_fft=n_fft, n_mfcc=n_mfcc, hop_length=hop_length)\n",
      "/tmp/ipykernel_9583/3400538905.py:46: FutureWarning: Pass y=[-1.1059781e-05 -8.4093072e-06  1.3574106e-06 ... -7.5655367e-04\n",
      " -2.1628567e-04  0.0000000e+00] as keyword args. From version 0.10 passing these as positional arguments will result in an error\n",
      "  mfcc= librosa.feature.mfcc(signal,sr=sr,n_fft=n_fft, n_mfcc=n_mfcc, hop_length=hop_length)\n",
      "/tmp/ipykernel_9583/3400538905.py:46: FutureWarning: Pass y=[-1.5465495e-05  3.3840797e-07 -9.9004046e-07 ... -3.4962769e-03\n",
      " -4.1292356e-03  0.0000000e+00] as keyword args. From version 0.10 passing these as positional arguments will result in an error\n",
      "  mfcc= librosa.feature.mfcc(signal,sr=sr,n_fft=n_fft, n_mfcc=n_mfcc, hop_length=hop_length)\n"
     ]
    },
    {
     "name": "stdout",
     "output_type": "stream",
     "text": [
      "vowels_dataset/O/O16.m4a\n",
      "vowels_dataset/O/O16.m4a, segment:O16.m4a\n",
      "vowels_dataset/O/O4.m4a\n",
      "vowels_dataset/O/O4.m4a, segment:O4.m4a\n",
      "vowels_dataset/O/O10.m4a\n"
     ]
    },
    {
     "name": "stderr",
     "output_type": "stream",
     "text": [
      "/tmp/ipykernel_9583/3400538905.py:46: FutureWarning: Pass y=[ 9.1016154e-06  1.1138699e-05 -5.2573300e-06 ... -2.4511052e-02\n",
      " -2.8308457e-02  0.0000000e+00] as keyword args. From version 0.10 passing these as positional arguments will result in an error\n",
      "  mfcc= librosa.feature.mfcc(signal,sr=sr,n_fft=n_fft, n_mfcc=n_mfcc, hop_length=hop_length)\n",
      "/tmp/ipykernel_9583/3400538905.py:46: FutureWarning: Pass y=[-6.6253647e-06  2.2949259e-06 -8.1919370e-06 ... -4.0620815e-02\n",
      " -4.7590051e-02  0.0000000e+00] as keyword args. From version 0.10 passing these as positional arguments will result in an error\n",
      "  mfcc= librosa.feature.mfcc(signal,sr=sr,n_fft=n_fft, n_mfcc=n_mfcc, hop_length=hop_length)\n"
     ]
    },
    {
     "name": "stdout",
     "output_type": "stream",
     "text": [
      "vowels_dataset/O/O10.m4a, segment:O10.m4a\n",
      "vowels_dataset/O/O9.m4a\n",
      "vowels_dataset/O/O9.m4a, segment:O9.m4a\n",
      "vowels_dataset/O/O1.m4a\n",
      "vowels_dataset/O/O1.m4a, segment:O1.m4a\n",
      "vowels_dataset/O/O5.m4a\n",
      "vowels_dataset/O/O5.m4a, segment:O5.m4a\n"
     ]
    },
    {
     "name": "stderr",
     "output_type": "stream",
     "text": [
      "/tmp/ipykernel_9583/3400538905.py:46: FutureWarning: Pass y=[ 5.3106178e-06  3.4029829e-06 -6.9718931e-06 ...  1.9114990e-02\n",
      "  2.2596531e-02  0.0000000e+00] as keyword args. From version 0.10 passing these as positional arguments will result in an error\n",
      "  mfcc= librosa.feature.mfcc(signal,sr=sr,n_fft=n_fft, n_mfcc=n_mfcc, hop_length=hop_length)\n",
      "/tmp/ipykernel_9583/3400538905.py:46: FutureWarning: Pass y=[ 1.1500390e-06 -1.5835889e-06 -1.2374435e-05 ...  2.7360508e-02\n",
      "  2.7186902e-02  0.0000000e+00] as keyword args. From version 0.10 passing these as positional arguments will result in an error\n",
      "  mfcc= librosa.feature.mfcc(signal,sr=sr,n_fft=n_fft, n_mfcc=n_mfcc, hop_length=hop_length)\n"
     ]
    },
    {
     "name": "stdout",
     "output_type": "stream",
     "text": [
      "vowels_dataset/O/O15.m4a\n",
      "vowels_dataset/O/O15.m4a, segment:O15.m4a\n",
      "vowels_dataset/O/O2.m4a\n",
      "vowels_dataset/O/O2.m4a, segment:O2.m4a\n",
      "vowels_dataset/O/O17.m4a\n",
      "vowels_dataset/O/O17.m4a, segment:O17.m4a\n",
      "vowels_dataset/O/O8.m4a\n"
     ]
    },
    {
     "name": "stderr",
     "output_type": "stream",
     "text": [
      "/tmp/ipykernel_9583/3400538905.py:46: FutureWarning: Pass y=[ 2.7870703e-07 -1.0816096e-06  2.8382181e-06 ... -2.1076940e-03\n",
      " -2.4028404e-03  0.0000000e+00] as keyword args. From version 0.10 passing these as positional arguments will result in an error\n",
      "  mfcc= librosa.feature.mfcc(signal,sr=sr,n_fft=n_fft, n_mfcc=n_mfcc, hop_length=hop_length)\n",
      "/tmp/ipykernel_9583/3400538905.py:46: FutureWarning: Pass y=[ 1.1404266e-05 -1.2740415e-05 -3.0908348e-05 ... -4.2707616e-04\n",
      " -2.5756095e-04  0.0000000e+00] as keyword args. From version 0.10 passing these as positional arguments will result in an error\n",
      "  mfcc= librosa.feature.mfcc(signal,sr=sr,n_fft=n_fft, n_mfcc=n_mfcc, hop_length=hop_length)\n",
      "/tmp/ipykernel_9583/3400538905.py:46: FutureWarning: Pass y=[ 1.4995442e-05  5.7510982e-07 -5.6692681e-07 ... -2.4123210e-03\n",
      " -3.5479830e-03  0.0000000e+00] as keyword args. From version 0.10 passing these as positional arguments will result in an error\n",
      "  mfcc= librosa.feature.mfcc(signal,sr=sr,n_fft=n_fft, n_mfcc=n_mfcc, hop_length=hop_length)\n",
      "/tmp/ipykernel_9583/3400538905.py:46: FutureWarning: Pass y=[-9.1263871e-07  2.4319670e-06 -5.2942169e-06 ... -4.5349211e-03\n",
      " -4.7480813e-03 -5.4539395e-03] as keyword args. From version 0.10 passing these as positional arguments will result in an error\n",
      "  mfcc= librosa.feature.mfcc(signal,sr=sr,n_fft=n_fft, n_mfcc=n_mfcc, hop_length=hop_length)\n"
     ]
    },
    {
     "name": "stdout",
     "output_type": "stream",
     "text": [
      "vowels_dataset/O/O8.m4a, segment:O8.m4a\n",
      "vowels_dataset/O/O7.m4a\n",
      "vowels_dataset/O/O7.m4a, segment:O7.m4a\n",
      "vowels_dataset/O/O6.m4a\n",
      "vowels_dataset/O/O6.m4a, segment:O6.m4a\n"
     ]
    },
    {
     "name": "stderr",
     "output_type": "stream",
     "text": [
      "/tmp/ipykernel_9583/3400538905.py:46: FutureWarning: Pass y=[ 1.1500390e-06 -1.5835889e-06 -1.2374435e-05 ... -1.0262932e-02\n",
      " -1.0210044e-02  0.0000000e+00] as keyword args. From version 0.10 passing these as positional arguments will result in an error\n",
      "  mfcc= librosa.feature.mfcc(signal,sr=sr,n_fft=n_fft, n_mfcc=n_mfcc, hop_length=hop_length)\n",
      "/tmp/ipykernel_9583/3400538905.py:46: FutureWarning: Pass y=[ 5.3106178e-06  3.4029829e-06 -6.9718931e-06 ... -1.4142863e-02\n",
      " -1.5189948e-02  0.0000000e+00] as keyword args. From version 0.10 passing these as positional arguments will result in an error\n",
      "  mfcc= librosa.feature.mfcc(signal,sr=sr,n_fft=n_fft, n_mfcc=n_mfcc, hop_length=hop_length)\n",
      "/tmp/ipykernel_9583/3400538905.py:46: FutureWarning: Pass y=[ 2.6746279e-06 -9.2406099e-06 -9.5708237e-06 ... -4.9874283e-02\n",
      " -5.8874998e-02  0.0000000e+00] as keyword args. From version 0.10 passing these as positional arguments will result in an error\n",
      "  mfcc= librosa.feature.mfcc(signal,sr=sr,n_fft=n_fft, n_mfcc=n_mfcc, hop_length=hop_length)\n",
      "/tmp/ipykernel_9583/3400538905.py:46: FutureWarning: Pass y=[-9.8166970e-07  5.0684357e-06  3.5979450e-05 ... -3.7178613e-02\n",
      " -4.0477239e-02  0.0000000e+00] as keyword args. From version 0.10 passing these as positional arguments will result in an error\n",
      "  mfcc= librosa.feature.mfcc(signal,sr=sr,n_fft=n_fft, n_mfcc=n_mfcc, hop_length=hop_length)\n"
     ]
    },
    {
     "name": "stdout",
     "output_type": "stream",
     "text": [
      "vowels_dataset/O/O13.m4a\n",
      "vowels_dataset/O/O13.m4a, segment:O13.m4a\n",
      "\n",
      "Proccesing E\n",
      "vowels_dataset/E/E10.m4a\n",
      "vowels_dataset/E/E10.m4a, segment:E10.m4a\n",
      "vowels_dataset/E/E12.m4a\n",
      "vowels_dataset/E/E12.m4a, segment:E12.m4a\n",
      "vowels_dataset/E/E14.m4a\n",
      "vowels_dataset/E/E14.m4a, segment:E14.m4a\n"
     ]
    },
    {
     "name": "stderr",
     "output_type": "stream",
     "text": [
      "/tmp/ipykernel_9583/3400538905.py:46: FutureWarning: Pass y=[2.4917668e-05 9.4273655e-06 1.3675676e-05 ... 3.0117309e-02 3.4568567e-02\n",
      " 0.0000000e+00] as keyword args. From version 0.10 passing these as positional arguments will result in an error\n",
      "  mfcc= librosa.feature.mfcc(signal,sr=sr,n_fft=n_fft, n_mfcc=n_mfcc, hop_length=hop_length)\n",
      "/tmp/ipykernel_9583/3400538905.py:46: FutureWarning: Pass y=[-8.3042352e-07  1.0727132e-06 -1.2820745e-06 ...  6.7849508e-03\n",
      "  6.1324378e-03  0.0000000e+00] as keyword args. From version 0.10 passing these as positional arguments will result in an error\n",
      "  mfcc= librosa.feature.mfcc(signal,sr=sr,n_fft=n_fft, n_mfcc=n_mfcc, hop_length=hop_length)\n",
      "/tmp/ipykernel_9583/3400538905.py:46: FutureWarning: Pass y=[ 9.5587870e-07 -8.1055066e-07  3.3128944e-07 ...  1.6252529e-02\n",
      "  2.0221036e-02  0.0000000e+00] as keyword args. From version 0.10 passing these as positional arguments will result in an error\n",
      "  mfcc= librosa.feature.mfcc(signal,sr=sr,n_fft=n_fft, n_mfcc=n_mfcc, hop_length=hop_length)\n",
      "/tmp/ipykernel_9583/3400538905.py:46: FutureWarning: Pass y=[-1.4309641e-06  1.9102827e-05 -1.1022329e-05 ... -3.2112116e-03\n",
      " -3.5532110e-03  0.0000000e+00] as keyword args. From version 0.10 passing these as positional arguments will result in an error\n",
      "  mfcc= librosa.feature.mfcc(signal,sr=sr,n_fft=n_fft, n_mfcc=n_mfcc, hop_length=hop_length)\n"
     ]
    },
    {
     "name": "stdout",
     "output_type": "stream",
     "text": [
      "vowels_dataset/E/E7.m4a\n",
      "vowels_dataset/E/E7.m4a, segment:E7.m4a\n",
      "vowels_dataset/E/E15.m4a\n",
      "vowels_dataset/E/E15.m4a, segment:E15.m4a\n",
      "vowels_dataset/E/E8.m4a\n",
      "vowels_dataset/E/E8.m4a, segment:E8.m4a\n"
     ]
    },
    {
     "name": "stderr",
     "output_type": "stream",
     "text": [
      "/tmp/ipykernel_9583/3400538905.py:46: FutureWarning: Pass y=[-1.0256184e-05 -9.5572659e-06  2.8704078e-06 ... -2.5421912e-02\n",
      " -2.8354213e-02  0.0000000e+00] as keyword args. From version 0.10 passing these as positional arguments will result in an error\n",
      "  mfcc= librosa.feature.mfcc(signal,sr=sr,n_fft=n_fft, n_mfcc=n_mfcc, hop_length=hop_length)\n",
      "/tmp/ipykernel_9583/3400538905.py:46: FutureWarning: Pass y=[-2.4308863e-05 -1.0794049e-05  3.6969709e-06 ...  7.0462837e-03\n",
      "  6.7793559e-03  0.0000000e+00] as keyword args. From version 0.10 passing these as positional arguments will result in an error\n",
      "  mfcc= librosa.feature.mfcc(signal,sr=sr,n_fft=n_fft, n_mfcc=n_mfcc, hop_length=hop_length)\n"
     ]
    },
    {
     "name": "stdout",
     "output_type": "stream",
     "text": [
      "vowels_dataset/E/E9.m4a\n",
      "vowels_dataset/E/E9.m4a, segment:E9.m4a\n",
      "vowels_dataset/E/E16.m4a\n",
      "vowels_dataset/E/E16.m4a, segment:E16.m4a\n"
     ]
    },
    {
     "name": "stderr",
     "output_type": "stream",
     "text": [
      "/tmp/ipykernel_9583/3400538905.py:46: FutureWarning: Pass y=[ 1.5568949e-06 -7.4523064e-06 -1.5981606e-05 ... -2.4205344e-03\n",
      " -2.6405102e-03  0.0000000e+00] as keyword args. From version 0.10 passing these as positional arguments will result in an error\n",
      "  mfcc= librosa.feature.mfcc(signal,sr=sr,n_fft=n_fft, n_mfcc=n_mfcc, hop_length=hop_length)\n",
      "/tmp/ipykernel_9583/3400538905.py:46: FutureWarning: Pass y=[-2.3837958e-06  3.0227509e-06  1.0492901e-05 ... -2.7213568e-02\n",
      " -3.0967545e-02  0.0000000e+00] as keyword args. From version 0.10 passing these as positional arguments will result in an error\n",
      "  mfcc= librosa.feature.mfcc(signal,sr=sr,n_fft=n_fft, n_mfcc=n_mfcc, hop_length=hop_length)\n",
      "/tmp/ipykernel_9583/3400538905.py:46: FutureWarning: Pass y=[ 4.2569823e-06 -1.0716451e-05 -8.7657672e-06 ... -1.4980802e-02\n",
      " -1.6956007e-02  0.0000000e+00] as keyword args. From version 0.10 passing these as positional arguments will result in an error\n",
      "  mfcc= librosa.feature.mfcc(signal,sr=sr,n_fft=n_fft, n_mfcc=n_mfcc, hop_length=hop_length)\n"
     ]
    },
    {
     "name": "stdout",
     "output_type": "stream",
     "text": [
      "vowels_dataset/E/E5.m4a\n",
      "vowels_dataset/E/E5.m4a, segment:E5.m4a\n",
      "vowels_dataset/E/E3.m4a\n",
      "vowels_dataset/E/E3.m4a, segment:E3.m4a\n",
      "vowels_dataset/E/E1.m4a\n",
      "vowels_dataset/E/E1.m4a, segment:E1.m4a\n"
     ]
    },
    {
     "name": "stderr",
     "output_type": "stream",
     "text": [
      "/tmp/ipykernel_9583/3400538905.py:46: FutureWarning: Pass y=[-1.5489808e-05 -1.4150562e-05 -7.4105601e-06 ... -2.2042826e-02\n",
      " -2.3242448e-02  0.0000000e+00] as keyword args. From version 0.10 passing these as positional arguments will result in an error\n",
      "  mfcc= librosa.feature.mfcc(signal,sr=sr,n_fft=n_fft, n_mfcc=n_mfcc, hop_length=hop_length)\n",
      "/tmp/ipykernel_9583/3400538905.py:46: FutureWarning: Pass y=[-7.1202373e-07  1.1430809e-06 -1.4490280e-06 ...  1.1160722e-03\n",
      "  8.3068234e-04  0.0000000e+00] as keyword args. From version 0.10 passing these as positional arguments will result in an error\n",
      "  mfcc= librosa.feature.mfcc(signal,sr=sr,n_fft=n_fft, n_mfcc=n_mfcc, hop_length=hop_length)\n"
     ]
    },
    {
     "name": "stdout",
     "output_type": "stream",
     "text": [
      "vowels_dataset/E/E2.m4a\n",
      "vowels_dataset/E/E2.m4a, segment:E2.m4a\n",
      "vowels_dataset/E/E11.m4a\n",
      "vowels_dataset/E/E11.m4a, segment:E11.m4a\n",
      "vowels_dataset/E/E4.m4a\n"
     ]
    },
    {
     "name": "stderr",
     "output_type": "stream",
     "text": [
      "/tmp/ipykernel_9583/3400538905.py:46: FutureWarning: Pass y=[-6.3390135e-06 -1.5344920e-05  1.0466182e-06 ...  3.3003505e-02\n",
      "  4.0947873e-02  0.0000000e+00] as keyword args. From version 0.10 passing these as positional arguments will result in an error\n",
      "  mfcc= librosa.feature.mfcc(signal,sr=sr,n_fft=n_fft, n_mfcc=n_mfcc, hop_length=hop_length)\n",
      "/tmp/ipykernel_9583/3400538905.py:46: FutureWarning: Pass y=[ 1.3882748e-05  2.2780982e-06 -3.5532739e-06 ... -9.7578298e-03\n",
      " -7.8640413e-03  0.0000000e+00] as keyword args. From version 0.10 passing these as positional arguments will result in an error\n",
      "  mfcc= librosa.feature.mfcc(signal,sr=sr,n_fft=n_fft, n_mfcc=n_mfcc, hop_length=hop_length)\n",
      "/tmp/ipykernel_9583/3400538905.py:46: FutureWarning: Pass y=[-2.1406026e-06  2.7421829e-06  7.6916567e-06 ...  2.4363946e-02\n",
      "  2.5369227e-02  0.0000000e+00] as keyword args. From version 0.10 passing these as positional arguments will result in an error\n",
      "  mfcc= librosa.feature.mfcc(signal,sr=sr,n_fft=n_fft, n_mfcc=n_mfcc, hop_length=hop_length)\n"
     ]
    },
    {
     "name": "stdout",
     "output_type": "stream",
     "text": [
      "vowels_dataset/E/E4.m4a, segment:E4.m4a\n",
      "vowels_dataset/E/E17.m4a\n",
      "vowels_dataset/E/E17.m4a, segment:E17.m4a\n",
      "vowels_dataset/E/E13.m4a\n",
      "vowels_dataset/E/E13.m4a, segment:E13.m4a\n",
      "vowels_dataset/E/E6.m4a\n"
     ]
    },
    {
     "name": "stderr",
     "output_type": "stream",
     "text": [
      "/tmp/ipykernel_9583/3400538905.py:46: FutureWarning: Pass y=[ 1.7099210e-05 -2.1774745e-06  2.9484181e-06 ... -6.8346243e-03\n",
      " -7.2130254e-03  0.0000000e+00] as keyword args. From version 0.10 passing these as positional arguments will result in an error\n",
      "  mfcc= librosa.feature.mfcc(signal,sr=sr,n_fft=n_fft, n_mfcc=n_mfcc, hop_length=hop_length)\n",
      "/tmp/ipykernel_9583/3400538905.py:46: FutureWarning: Pass y=[-6.4099919e-07 -1.4048154e-05 -1.7061406e-05 ...  1.9249817e-02\n",
      "  2.4390193e-02  0.0000000e+00] as keyword args. From version 0.10 passing these as positional arguments will result in an error\n",
      "  mfcc= librosa.feature.mfcc(signal,sr=sr,n_fft=n_fft, n_mfcc=n_mfcc, hop_length=hop_length)\n",
      "/tmp/ipykernel_9583/3400538905.py:46: FutureWarning: Pass y=[ 1.4166549e-05  1.6415552e-06 -2.0839339e-06 ... -2.5484826e-02\n",
      " -3.5209473e-02  0.0000000e+00] as keyword args. From version 0.10 passing these as positional arguments will result in an error\n",
      "  mfcc= librosa.feature.mfcc(signal,sr=sr,n_fft=n_fft, n_mfcc=n_mfcc, hop_length=hop_length)\n"
     ]
    },
    {
     "name": "stdout",
     "output_type": "stream",
     "text": [
      "vowels_dataset/E/E6.m4a, segment:E6.m4a\n",
      "\n",
      "Proccesing I\n",
      "vowels_dataset/I/I10.m4a\n",
      "vowels_dataset/I/I10.m4a, segment:I10.m4a\n",
      "vowels_dataset/I/I1.m4a\n",
      "vowels_dataset/I/I1.m4a, segment:I1.m4a\n",
      "vowels_dataset/I/I4.m4a\n",
      "vowels_dataset/I/I4.m4a, segment:I4.m4a\n",
      "vowels_dataset/I/I15.m4a\n",
      "vowels_dataset/I/I15.m4a, segment:I15.m4a\n",
      "vowels_dataset/I/I16.m4a\n"
     ]
    },
    {
     "name": "stderr",
     "output_type": "stream",
     "text": [
      "/tmp/ipykernel_9583/3400538905.py:46: FutureWarning: Pass y=[-3.1502819e-07  6.1646011e-07 -9.9638430e-07 ... -2.9111935e-02\n",
      " -3.3071730e-02  0.0000000e+00] as keyword args. From version 0.10 passing these as positional arguments will result in an error\n",
      "  mfcc= librosa.feature.mfcc(signal,sr=sr,n_fft=n_fft, n_mfcc=n_mfcc, hop_length=hop_length)\n",
      "/tmp/ipykernel_9583/3400538905.py:46: FutureWarning: Pass y=[-3.1400978e-07 -1.3189408e-05 -9.5432815e-06 ... -1.0380638e-02\n",
      " -1.3237691e-02  0.0000000e+00] as keyword args. From version 0.10 passing these as positional arguments will result in an error\n",
      "  mfcc= librosa.feature.mfcc(signal,sr=sr,n_fft=n_fft, n_mfcc=n_mfcc, hop_length=hop_length)\n",
      "/tmp/ipykernel_9583/3400538905.py:46: FutureWarning: Pass y=[-3.1400978e-07 -1.3189408e-05 -9.5432815e-06 ...  7.1225059e-03\n",
      "  7.9730926e-03  0.0000000e+00] as keyword args. From version 0.10 passing these as positional arguments will result in an error\n",
      "  mfcc= librosa.feature.mfcc(signal,sr=sr,n_fft=n_fft, n_mfcc=n_mfcc, hop_length=hop_length)\n",
      "/tmp/ipykernel_9583/3400538905.py:46: FutureWarning: Pass y=[ 1.4166549e-05  1.6415552e-06 -2.0839339e-06 ...  2.8727655e-03\n",
      "  3.1184296e-03  0.0000000e+00] as keyword args. From version 0.10 passing these as positional arguments will result in an error\n",
      "  mfcc= librosa.feature.mfcc(signal,sr=sr,n_fft=n_fft, n_mfcc=n_mfcc, hop_length=hop_length)\n"
     ]
    },
    {
     "name": "stdout",
     "output_type": "stream",
     "text": [
      "vowels_dataset/I/I16.m4a, segment:I16.m4a\n",
      "vowels_dataset/I/I12.m4a\n",
      "vowels_dataset/I/I12.m4a, segment:I12.m4a\n",
      "vowels_dataset/I/I8.m4a\n",
      "vowels_dataset/I/I8.m4a, segment:I8.m4a\n",
      "vowels_dataset/I/I9.m4a\n",
      "vowels_dataset/I/I9.m4a, segment:I9.m4a\n",
      "vowels_dataset/I/I3.m4a\n"
     ]
    },
    {
     "name": "stderr",
     "output_type": "stream",
     "text": [
      "/tmp/ipykernel_9583/3400538905.py:46: FutureWarning: Pass y=[-1.5044612e-06  1.8604738e-06 -1.9963188e-06 ... -9.2393616e-03\n",
      " -7.9733506e-03  0.0000000e+00] as keyword args. From version 0.10 passing these as positional arguments will result in an error\n",
      "  mfcc= librosa.feature.mfcc(signal,sr=sr,n_fft=n_fft, n_mfcc=n_mfcc, hop_length=hop_length)\n",
      "/tmp/ipykernel_9583/3400538905.py:46: FutureWarning: Pass y=[-2.1406026e-06  2.7421829e-06  7.6916567e-06 ... -7.2301659e-03\n",
      " -8.6785937e-03  0.0000000e+00] as keyword args. From version 0.10 passing these as positional arguments will result in an error\n",
      "  mfcc= librosa.feature.mfcc(signal,sr=sr,n_fft=n_fft, n_mfcc=n_mfcc, hop_length=hop_length)\n",
      "/tmp/ipykernel_9583/3400538905.py:46: FutureWarning: Pass y=[ 1.0426845e-05  2.4601406e-05 -1.9375395e-06 ... -7.6947483e-04\n",
      " -1.0078725e-03  0.0000000e+00] as keyword args. From version 0.10 passing these as positional arguments will result in an error\n",
      "  mfcc= librosa.feature.mfcc(signal,sr=sr,n_fft=n_fft, n_mfcc=n_mfcc, hop_length=hop_length)\n",
      "/tmp/ipykernel_9583/3400538905.py:46: FutureWarning: Pass y=[ 4.3735323e-08  7.4138478e-07 -2.5173135e-06 ...  2.3700753e-02\n",
      "  2.6085258e-02  0.0000000e+00] as keyword args. From version 0.10 passing these as positional arguments will result in an error\n",
      "  mfcc= librosa.feature.mfcc(signal,sr=sr,n_fft=n_fft, n_mfcc=n_mfcc, hop_length=hop_length)\n",
      "/tmp/ipykernel_9583/3400538905.py:46: FutureWarning: Pass y=[-2.4262322e-06  2.3905721e-05  1.1656288e-05 ...  3.4482788e-02\n",
      "  3.7626579e-02  0.0000000e+00] as keyword args. From version 0.10 passing these as positional arguments will result in an error\n",
      "  mfcc= librosa.feature.mfcc(signal,sr=sr,n_fft=n_fft, n_mfcc=n_mfcc, hop_length=hop_length)\n"
     ]
    },
    {
     "name": "stdout",
     "output_type": "stream",
     "text": [
      "vowels_dataset/I/I3.m4a, segment:I3.m4a\n",
      "vowels_dataset/I/I17.m4a\n",
      "vowels_dataset/I/I17.m4a, segment:I17.m4a\n",
      "vowels_dataset/I/I14.m4a\n",
      "vowels_dataset/I/I14.m4a, segment:I14.m4a\n"
     ]
    },
    {
     "name": "stderr",
     "output_type": "stream",
     "text": [
      "/tmp/ipykernel_9583/3400538905.py:46: FutureWarning: Pass y=[-1.5384663e-06  1.4204115e-06 -9.2483805e-07 ...  1.1397202e-02\n",
      "  1.3333654e-02  0.0000000e+00] as keyword args. From version 0.10 passing these as positional arguments will result in an error\n",
      "  mfcc= librosa.feature.mfcc(signal,sr=sr,n_fft=n_fft, n_mfcc=n_mfcc, hop_length=hop_length)\n",
      "/tmp/ipykernel_9583/3400538905.py:46: FutureWarning: Pass y=[-2.4262322e-06  2.3905721e-05  1.1656288e-05 ...  3.5007586e-04\n",
      "  4.0441204e-04  0.0000000e+00] as keyword args. From version 0.10 passing these as positional arguments will result in an error\n",
      "  mfcc= librosa.feature.mfcc(signal,sr=sr,n_fft=n_fft, n_mfcc=n_mfcc, hop_length=hop_length)\n"
     ]
    },
    {
     "name": "stdout",
     "output_type": "stream",
     "text": [
      "vowels_dataset/I/I2.m4a\n",
      "vowels_dataset/I/I2.m4a, segment:I2.m4a\n",
      "vowels_dataset/I/I5.m4a\n",
      "vowels_dataset/I/I5.m4a, segment:I5.m4a\n",
      "vowels_dataset/I/I7.m4a\n",
      "vowels_dataset/I/I7.m4a, segment:I7.m4a\n",
      "vowels_dataset/I/I13.m4a\n",
      "vowels_dataset/I/I13.m4a, segment:I13.m4a\n"
     ]
    },
    {
     "name": "stderr",
     "output_type": "stream",
     "text": [
      "/tmp/ipykernel_9583/3400538905.py:46: FutureWarning: Pass y=[ 1.8847121e-06 -1.7087063e-05 -1.3451929e-05 ...  1.6856644e-02\n",
      "  1.8517820e-02  0.0000000e+00] as keyword args. From version 0.10 passing these as positional arguments will result in an error\n",
      "  mfcc= librosa.feature.mfcc(signal,sr=sr,n_fft=n_fft, n_mfcc=n_mfcc, hop_length=hop_length)\n",
      "/tmp/ipykernel_9583/3400538905.py:46: FutureWarning: Pass y=[-1.5220096e-05  1.4310040e-06 -2.2400893e-05 ... -9.7695377e-04\n",
      " -1.8561824e-03  0.0000000e+00] as keyword args. From version 0.10 passing these as positional arguments will result in an error\n",
      "  mfcc= librosa.feature.mfcc(signal,sr=sr,n_fft=n_fft, n_mfcc=n_mfcc, hop_length=hop_length)\n",
      "/tmp/ipykernel_9583/3400538905.py:46: FutureWarning: Pass y=[ 5.3512645e-07 -1.2858918e-06  2.8312704e-06 ...  3.6500357e-02\n",
      "  1.5319811e-02  0.0000000e+00] as keyword args. From version 0.10 passing these as positional arguments will result in an error\n",
      "  mfcc= librosa.feature.mfcc(signal,sr=sr,n_fft=n_fft, n_mfcc=n_mfcc, hop_length=hop_length)\n",
      "/tmp/ipykernel_9583/3400538905.py:46: FutureWarning: Pass y=[-3.3254912e-07 -4.5114534e-06 -1.7232789e-05 ... -4.2839404e-03\n",
      " -2.2721183e-03  0.0000000e+00] as keyword args. From version 0.10 passing these as positional arguments will result in an error\n",
      "  mfcc= librosa.feature.mfcc(signal,sr=sr,n_fft=n_fft, n_mfcc=n_mfcc, hop_length=hop_length)\n",
      "/tmp/ipykernel_9583/3400538905.py:46: FutureWarning: Pass y=[-9.7585717e-06 -9.4541447e-06  1.8767466e-06 ...  3.5898625e-03\n",
      "  4.3015471e-03  0.0000000e+00] as keyword args. From version 0.10 passing these as positional arguments will result in an error\n",
      "  mfcc= librosa.feature.mfcc(signal,sr=sr,n_fft=n_fft, n_mfcc=n_mfcc, hop_length=hop_length)\n"
     ]
    },
    {
     "name": "stdout",
     "output_type": "stream",
     "text": [
      "vowels_dataset/I/I6.m4a\n",
      "vowels_dataset/I/I6.m4a, segment:I6.m4a\n",
      "vowels_dataset/I/I11.m4a\n",
      "vowels_dataset/I/I11.m4a, segment:I11.m4a\n"
     ]
    }
   ],
   "source": [
    "if __name__ == \"__main__\":\n",
    "    save_mfcc(DATASET_PATH, JSON_PATH)"
   ]
  }
 ],
 "metadata": {
  "kernelspec": {
   "display_name": "Python 3 (ipykernel)",
   "language": "python",
   "name": "python3"
  },
  "language_info": {
   "codemirror_mode": {
    "name": "ipython",
    "version": 3
   },
   "file_extension": ".py",
   "mimetype": "text/x-python",
   "name": "python",
   "nbconvert_exporter": "python",
   "pygments_lexer": "ipython3",
   "version": "3.10.5"
  }
 },
 "nbformat": 4,
 "nbformat_minor": 5
}
