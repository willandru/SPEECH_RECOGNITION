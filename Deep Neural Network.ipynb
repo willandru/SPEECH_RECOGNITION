{
 "cells": [
  {
   "cell_type": "code",
   "execution_count": null,
   "id": "fedb9119",
   "metadata": {},
   "outputs": [],
   "source": [
    "from sklearn.model_selection import train_test_split\n",
    "import tensorflow.keras as keras"
   ]
  },
  {
   "cell_type": "code",
   "execution_count": null,
   "id": "7c05ae67",
   "metadata": {},
   "outputs": [],
   "source": [
    "DATASET_PATH= \"data_10.json\""
   ]
  },
  {
   "cell_type": "code",
   "execution_count": null,
   "id": "afb91238",
   "metadata": {},
   "outputs": [],
   "source": [
    "import json\n",
    "import numpy as np\n",
    "\n",
    "def load_data(dataset_path):\n",
    "    with open(dataset_path, \"r\") as fp:\n",
    "        data = json.load(fp)\n",
    "        \n",
    "    #Convert list into a numpy array\n",
    "    \n",
    "    inputs = np.array(data[\"mfcc\"])\n",
    "    targets = np.array(data[\"labels\"])\n",
    "    \n",
    "    return inputs, targets"
   ]
  },
  {
   "cell_type": "code",
   "execution_count": null,
   "id": "03a5769d",
   "metadata": {},
   "outputs": [],
   "source": [
    "if __name__==\"__main__\":\n",
    "    #load data\n",
    "    inputs, targets = load_data(DATASET_PATH)\n",
    "    \n",
    "    #split the data into train and test sets\n",
    "    inputs_train, inputs_test, targets_train, targets_test= train_test_split(inputs, targets, test_size=0.3)\n",
    "    \n",
    "    #buil the network architecture\n",
    "    model = keras.Sequential([\n",
    "        #input layer\n",
    "        keras.layers.Flatten(input_shape=(inputs.shape[1], inputs.shape[2]))\n",
    "        # 1st hidden layer\n",
    "        keras.layers.Dense(512, activation=\"relu\"),\n",
    "        #2nd hidden layer\n",
    "        keras.layers.Dense(256, activation=\"relu\"),\n",
    "        #3rd hidden layer\n",
    "        keras.layers.Dense(64, activation=\"relu\"),\n",
    "        #output layer\n",
    "        keras.layers.Dense(10, activation=\"softmax\")   \n",
    "    ])\n",
    "    \n",
    "    #compile the network\n",
    "    optimizer = keras.optimizers.Adam(learnin_rate=0.0001)\n",
    "    model.compile(optimizer=optimizer,\n",
    "                  loss=\"sparse_categorical_crossentropy\",\n",
    "                  metrics=[\"accuracy\"])\n",
    "    model.summary()\n",
    "    \n",
    "    #train network\n",
    "    model.fit(inputs_train, targets_train, validation_data=(inputs_test, targets_test), epochs=50, batch_size=32)"
   ]
  },
  {
   "cell_type": "code",
   "execution_count": null,
   "id": "11f86699",
   "metadata": {},
   "outputs": [],
   "source": []
  },
  {
   "cell_type": "code",
   "execution_count": null,
   "id": "1f126806",
   "metadata": {},
   "outputs": [],
   "source": []
  }
 ],
 "metadata": {
  "kernelspec": {
   "display_name": "Python 3 (ipykernel)",
   "language": "python",
   "name": "python3"
  },
  "language_info": {
   "codemirror_mode": {
    "name": "ipython",
    "version": 3
   },
   "file_extension": ".py",
   "mimetype": "text/x-python",
   "name": "python",
   "nbconvert_exporter": "python",
   "pygments_lexer": "ipython3",
   "version": "3.10.5"
  }
 },
 "nbformat": 4,
 "nbformat_minor": 5
}
