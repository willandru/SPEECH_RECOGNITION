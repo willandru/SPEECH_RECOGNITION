{
 "cells": [
  {
   "cell_type": "code",
   "execution_count": 5,
   "id": "e3e34a45",
   "metadata": {},
   "outputs": [],
   "source": [
    "import os\n",
    "import librosa\n",
    "import math\n",
    "import json\n",
    "\n",
    "DATASET_PATH= \"vowels_dataset\"\n",
    "JSON_PATH = \"data.json\"\n",
    "#DURATION=5\n",
    "SAMPLE_RATE=22050\n",
    "#SAMPLES_PER_TRACK = SAMPLE_RATE *DURATION\n",
    "\n",
    "def save_mfcc(dataset_path, json_path, n_mfcc=13, n_fft=2048, hop_length=512):\n",
    "    #dictionary to stroe data\n",
    "    \n",
    "    data={\n",
    "        \"mapping\":[],\n",
    "        \"mfcc\":[],\n",
    "        \"labels\":[]\n",
    "    }\n",
    "    \n",
    "   # num_samples_per_segment = int(SAMPLES_PER_TRACK)\n",
    "   # expected_num_mfcc_vectors= ceil(num_samples_per_segment / hop_length)\n",
    "    \n",
    "    #loop through all the genres\n",
    "    for i, (dirpath, dirnames, filenames) in enumerate(os.walk(dataset_path)):\n",
    "        \n",
    "        #ensure wer'not at root level\n",
    "        if dirpath is not dataset_path:\n",
    "            \n",
    "            #save the semantic lebel (\"a, e ,i o u\")\n",
    "            dirpath_components = dirpath.split(\"/\")\n",
    "            semantic_label = dirpath_components[-1]\n",
    "            data[\"mapping\"].append(semantic_label)\n",
    "            print(\"\\nProccesing {}\".format(semantic_label))\n",
    "            \n",
    "            #process files for a specific vowel\n",
    "            for f in filenames:\n",
    "                \n",
    "                #load audio file\n",
    "                file_path= os.path.join(dirpath, f)\n",
    "                signal, sr=librosa.load(file_path, sr=SAMPLE_RATE)\n",
    "                print(file_path)\n",
    "                #procces segments extracting mfcc and storing data\n",
    "                \n",
    "                #NEET TO CUT ALL THE SEGMENTS OF THE SAME LENGTH\n",
    "                signal=signal[1000:20000]\n",
    "                mfcc= librosa.feature.mfcc(signal,sr=sr,n_fft=n_fft, n_mfcc=n_mfcc, hop_length=hop_length)\n",
    "                print(mfcc.shape)\n",
    "                data[\"mfcc\"].append(mfcc.tolist())\n",
    "                data[\"labels\"].append(i-1)\n",
    "                print(\"{}, segment:{}\".format(file_path, f))\n",
    "    with open(json_path, \"w\") as fp:\n",
    "        json.dump(data,fp, indent=4)"
   ]
  },
  {
   "cell_type": "code",
   "execution_count": 6,
   "id": "49a6bda5",
   "metadata": {},
   "outputs": [
    {
     "name": "stdout",
     "output_type": "stream",
     "text": [
      "\n",
      "Proccesing A\n",
      "vowels_dataset/A/A11.m4a\n",
      "(13, 38)\n",
      "vowels_dataset/A/A11.m4a, segment:A11.m4a\n",
      "vowels_dataset/A/A14.m4a\n",
      "(13, 38)\n",
      "vowels_dataset/A/A14.m4a, segment:A14.m4a\n",
      "vowels_dataset/A/A3.m4a\n",
      "(13, 38)\n",
      "vowels_dataset/A/A3.m4a, segment:A3.m4a\n"
     ]
    },
    {
     "name": "stderr",
     "output_type": "stream",
     "text": [
      "/tmp/ipykernel_22280/2842544526.py:47: FutureWarning: Pass y=[-9.8845258e-06  7.4438713e-06  1.0894246e-05 ...  9.9953311e-03\n",
      "  8.4186457e-03  7.1959263e-03] as keyword args. From version 0.10 passing these as positional arguments will result in an error\n",
      "  mfcc= librosa.feature.mfcc(signal,sr=sr,n_fft=n_fft, n_mfcc=n_mfcc, hop_length=hop_length)\n",
      "/tmp/ipykernel_22280/2842544526.py:47: FutureWarning: Pass y=[-5.62576724e-06 -1.01886535e-05 -4.74064927e-06 ...  1.47284605e-02\n",
      "  1.44106699e-02  1.40070170e-02] as keyword args. From version 0.10 passing these as positional arguments will result in an error\n",
      "  mfcc= librosa.feature.mfcc(signal,sr=sr,n_fft=n_fft, n_mfcc=n_mfcc, hop_length=hop_length)\n",
      "/tmp/ipykernel_22280/2842544526.py:47: FutureWarning: Pass y=[-2.34726804e-06  8.56313181e-06  1.09966641e-05 ...  1.66953370e-01\n",
      "  1.44933924e-01  1.11828536e-01] as keyword args. From version 0.10 passing these as positional arguments will result in an error\n",
      "  mfcc= librosa.feature.mfcc(signal,sr=sr,n_fft=n_fft, n_mfcc=n_mfcc, hop_length=hop_length)\n",
      "/tmp/ipykernel_22280/2842544526.py:47: FutureWarning: Pass y=[ 1.9282501e-05 -8.9242294e-06 -1.7130176e-05 ... -2.0138042e-02\n",
      " -1.9405799e-02 -1.8521085e-02] as keyword args. From version 0.10 passing these as positional arguments will result in an error\n",
      "  mfcc= librosa.feature.mfcc(signal,sr=sr,n_fft=n_fft, n_mfcc=n_mfcc, hop_length=hop_length)\n"
     ]
    },
    {
     "name": "stdout",
     "output_type": "stream",
     "text": [
      "vowels_dataset/A/A6.m4a\n",
      "(13, 38)\n",
      "vowels_dataset/A/A6.m4a, segment:A6.m4a\n",
      "vowels_dataset/A/A7.m4a\n",
      "(13, 38)\n",
      "vowels_dataset/A/A7.m4a, segment:A7.m4a\n",
      "vowels_dataset/A/A13.m4a\n",
      "(13, 38)\n",
      "vowels_dataset/A/A13.m4a, segment:A13.m4a\n",
      "vowels_dataset/A/A15.m4a\n",
      "(13, 38)\n",
      "vowels_dataset/A/A15.m4a, segment:A15.m4a\n"
     ]
    },
    {
     "name": "stderr",
     "output_type": "stream",
     "text": [
      "/tmp/ipykernel_22280/2842544526.py:47: FutureWarning: Pass y=[-7.7317208e-07  1.3121402e-06  1.3198073e-05 ... -1.1755612e-02\n",
      " -1.2699004e-02 -1.3410180e-02] as keyword args. From version 0.10 passing these as positional arguments will result in an error\n",
      "  mfcc= librosa.feature.mfcc(signal,sr=sr,n_fft=n_fft, n_mfcc=n_mfcc, hop_length=hop_length)\n",
      "/tmp/ipykernel_22280/2842544526.py:47: FutureWarning: Pass y=[-2.0395459e-05  1.8900181e-06  5.8415103e-06 ... -2.2062775e-02\n",
      " -1.7256083e-02 -1.5906719e-02] as keyword args. From version 0.10 passing these as positional arguments will result in an error\n",
      "  mfcc= librosa.feature.mfcc(signal,sr=sr,n_fft=n_fft, n_mfcc=n_mfcc, hop_length=hop_length)\n",
      "/tmp/ipykernel_22280/2842544526.py:47: FutureWarning: Pass y=[-1.3025349e-05  3.0059209e-05  1.4355843e-05 ...  2.7458476e-02\n",
      "  2.7181810e-02  2.7032750e-02] as keyword args. From version 0.10 passing these as positional arguments will result in an error\n",
      "  mfcc= librosa.feature.mfcc(signal,sr=sr,n_fft=n_fft, n_mfcc=n_mfcc, hop_length=hop_length)\n",
      "/tmp/ipykernel_22280/2842544526.py:47: FutureWarning: Pass y=[ 5.4756702e-06 -1.0611593e-05 -1.0666240e-05 ...  5.1600905e-03\n",
      "  5.6611396e-05 -4.2549283e-03] as keyword args. From version 0.10 passing these as positional arguments will result in an error\n",
      "  mfcc= librosa.feature.mfcc(signal,sr=sr,n_fft=n_fft, n_mfcc=n_mfcc, hop_length=hop_length)\n"
     ]
    },
    {
     "name": "stdout",
     "output_type": "stream",
     "text": [
      "vowels_dataset/A/A17.m4a\n",
      "(13, 38)\n",
      "vowels_dataset/A/A17.m4a, segment:A17.m4a\n",
      "vowels_dataset/A/A5.m4a\n",
      "(13, 38)\n",
      "vowels_dataset/A/A5.m4a, segment:A5.m4a\n",
      "vowels_dataset/A/A12.m4a\n",
      "(13, 38)\n",
      "vowels_dataset/A/A12.m4a, segment:A12.m4a\n",
      "vowels_dataset/A/A2.m4a\n",
      "(13, 38)\n",
      "vowels_dataset/A/A2.m4a, segment:A2.m4a\n"
     ]
    },
    {
     "name": "stderr",
     "output_type": "stream",
     "text": [
      "/tmp/ipykernel_22280/2842544526.py:47: FutureWarning: Pass y=[-1.2715656e-06  7.9841089e-07  1.5106549e-05 ...  9.0609537e-03\n",
      "  9.1684218e-03  9.6913120e-03] as keyword args. From version 0.10 passing these as positional arguments will result in an error\n",
      "  mfcc= librosa.feature.mfcc(signal,sr=sr,n_fft=n_fft, n_mfcc=n_mfcc, hop_length=hop_length)\n",
      "/tmp/ipykernel_22280/2842544526.py:47: FutureWarning: Pass y=[-7.6427405e-06  1.2484085e-06 -3.5488102e-07 ... -3.8473759e-02\n",
      " -3.7781306e-02 -3.6975794e-02] as keyword args. From version 0.10 passing these as positional arguments will result in an error\n",
      "  mfcc= librosa.feature.mfcc(signal,sr=sr,n_fft=n_fft, n_mfcc=n_mfcc, hop_length=hop_length)\n",
      "/tmp/ipykernel_22280/2842544526.py:47: FutureWarning: Pass y=[-1.42452609e-06  3.74619799e-06 -1.10298079e-05 ...  1.06223575e-04\n",
      "  1.99992050e-04  2.53947015e-04] as keyword args. From version 0.10 passing these as positional arguments will result in an error\n",
      "  mfcc= librosa.feature.mfcc(signal,sr=sr,n_fft=n_fft, n_mfcc=n_mfcc, hop_length=hop_length)\n",
      "/tmp/ipykernel_22280/2842544526.py:47: FutureWarning: Pass y=[ 2.2652412e-06 -3.2358523e-06  3.9738702e-06 ... -1.8459514e-02\n",
      " -1.8686734e-02 -1.8220469e-02] as keyword args. From version 0.10 passing these as positional arguments will result in an error\n",
      "  mfcc= librosa.feature.mfcc(signal,sr=sr,n_fft=n_fft, n_mfcc=n_mfcc, hop_length=hop_length)\n"
     ]
    },
    {
     "name": "stdout",
     "output_type": "stream",
     "text": [
      "vowels_dataset/A/A4.m4a\n",
      "(13, 38)\n",
      "vowels_dataset/A/A4.m4a, segment:A4.m4a\n",
      "vowels_dataset/A/A16.m4a\n",
      "(13, 38)\n",
      "vowels_dataset/A/A16.m4a, segment:A16.m4a\n",
      "vowels_dataset/A/A9.m4a\n",
      "(13, 38)\n",
      "vowels_dataset/A/A9.m4a, segment:A9.m4a\n"
     ]
    },
    {
     "name": "stderr",
     "output_type": "stream",
     "text": [
      "/tmp/ipykernel_22280/2842544526.py:47: FutureWarning: Pass y=[ 4.4698259e-06 -2.6575503e-06  1.3149454e-06 ...  2.7510480e-03\n",
      "  2.8636814e-03  3.0273278e-03] as keyword args. From version 0.10 passing these as positional arguments will result in an error\n",
      "  mfcc= librosa.feature.mfcc(signal,sr=sr,n_fft=n_fft, n_mfcc=n_mfcc, hop_length=hop_length)\n",
      "/tmp/ipykernel_22280/2842544526.py:47: FutureWarning: Pass y=[ 9.1120745e-07 -2.9229484e-06  9.7746224e-06 ...  1.5890710e-02\n",
      "  1.7062712e-02  1.7960988e-02] as keyword args. From version 0.10 passing these as positional arguments will result in an error\n",
      "  mfcc= librosa.feature.mfcc(signal,sr=sr,n_fft=n_fft, n_mfcc=n_mfcc, hop_length=hop_length)\n",
      "/tmp/ipykernel_22280/2842544526.py:47: FutureWarning: Pass y=[-6.8251416e-06  1.3626436e-05  5.1811876e-06 ... -1.6194208e-02\n",
      " -1.6083518e-02 -1.6070876e-02] as keyword args. From version 0.10 passing these as positional arguments will result in an error\n",
      "  mfcc= librosa.feature.mfcc(signal,sr=sr,n_fft=n_fft, n_mfcc=n_mfcc, hop_length=hop_length)\n"
     ]
    },
    {
     "name": "stdout",
     "output_type": "stream",
     "text": [
      "vowels_dataset/A/A1.m4a\n",
      "(13, 38)\n",
      "vowels_dataset/A/A1.m4a, segment:A1.m4a\n",
      "vowels_dataset/A/A8.m4a\n",
      "(13, 38)\n",
      "vowels_dataset/A/A8.m4a, segment:A8.m4a\n",
      "vowels_dataset/A/A10.m4a\n",
      "(13, 38)\n",
      "vowels_dataset/A/A10.m4a, segment:A10.m4a\n",
      "\n",
      "Proccesing U\n",
      "vowels_dataset/U/U11.m4a\n",
      "(13, 35)\n",
      "vowels_dataset/U/U11.m4a, segment:U11.m4a\n",
      "vowels_dataset/U/U15.m4a\n"
     ]
    },
    {
     "name": "stderr",
     "output_type": "stream",
     "text": [
      "/tmp/ipykernel_22280/2842544526.py:47: FutureWarning: Pass y=[ 6.3334810e-06 -1.2183188e-05 -7.4041186e-06 ...  2.3917563e-02\n",
      "  2.2973144e-02  2.2598660e-02] as keyword args. From version 0.10 passing these as positional arguments will result in an error\n",
      "  mfcc= librosa.feature.mfcc(signal,sr=sr,n_fft=n_fft, n_mfcc=n_mfcc, hop_length=hop_length)\n",
      "/tmp/ipykernel_22280/2842544526.py:47: FutureWarning: Pass y=[ 1.1052445e-05 -4.0871082e-06  2.4193041e-06 ...  4.0195093e-02\n",
      "  3.7188962e-02  3.4037706e-02] as keyword args. From version 0.10 passing these as positional arguments will result in an error\n",
      "  mfcc= librosa.feature.mfcc(signal,sr=sr,n_fft=n_fft, n_mfcc=n_mfcc, hop_length=hop_length)\n",
      "/tmp/ipykernel_22280/2842544526.py:47: FutureWarning: Pass y=[ 3.8365956e-06 -1.0762897e-05 -7.9787833e-06 ...  3.5824126e-03\n",
      " -7.8951748e-04 -5.3638248e-03] as keyword args. From version 0.10 passing these as positional arguments will result in an error\n",
      "  mfcc= librosa.feature.mfcc(signal,sr=sr,n_fft=n_fft, n_mfcc=n_mfcc, hop_length=hop_length)\n",
      "/tmp/ipykernel_22280/2842544526.py:47: FutureWarning: Pass y=[-1.4258804e-06  1.3608138e-05 -2.0347850e-05 ... -6.2561273e-03\n",
      " -6.4180624e-03  0.0000000e+00] as keyword args. From version 0.10 passing these as positional arguments will result in an error\n",
      "  mfcc= librosa.feature.mfcc(signal,sr=sr,n_fft=n_fft, n_mfcc=n_mfcc, hop_length=hop_length)\n",
      "/tmp/ipykernel_22280/2842544526.py:47: FutureWarning: Pass y=[-1.3186126e-05 -6.1639234e-06  1.4299916e-05 ...  3.3623889e-02\n",
      "  3.0711526e-02  2.7010154e-02] as keyword args. From version 0.10 passing these as positional arguments will result in an error\n",
      "  mfcc= librosa.feature.mfcc(signal,sr=sr,n_fft=n_fft, n_mfcc=n_mfcc, hop_length=hop_length)\n"
     ]
    },
    {
     "name": "stdout",
     "output_type": "stream",
     "text": [
      "(13, 36)\n",
      "vowels_dataset/U/U15.m4a, segment:U15.m4a\n",
      "vowels_dataset/U/U12.m4a\n",
      "(13, 38)\n",
      "vowels_dataset/U/U12.m4a, segment:U12.m4a\n",
      "vowels_dataset/U/U7.m4a\n",
      "(13, 37)\n",
      "vowels_dataset/U/U7.m4a, segment:U7.m4a\n",
      "vowels_dataset/U/U16.m4a\n",
      "(13, 32)\n",
      "vowels_dataset/U/U16.m4a, segment:U16.m4a\n",
      "vowels_dataset/U/U14.m4a\n"
     ]
    },
    {
     "name": "stderr",
     "output_type": "stream",
     "text": [
      "/tmp/ipykernel_22280/2842544526.py:47: FutureWarning: Pass y=[-3.8203502e-06  4.1348362e-06 -2.0260692e-05 ... -4.8545278e-03\n",
      " -6.5632695e-03 -8.7492522e-03] as keyword args. From version 0.10 passing these as positional arguments will result in an error\n",
      "  mfcc= librosa.feature.mfcc(signal,sr=sr,n_fft=n_fft, n_mfcc=n_mfcc, hop_length=hop_length)\n",
      "/tmp/ipykernel_22280/2842544526.py:47: FutureWarning: Pass y=[-4.6124374e-06  1.2157260e-05 -1.3588634e-05 ...  5.5572987e-03\n",
      "  5.6937532e-03  6.1852313e-03] as keyword args. From version 0.10 passing these as positional arguments will result in an error\n",
      "  mfcc= librosa.feature.mfcc(signal,sr=sr,n_fft=n_fft, n_mfcc=n_mfcc, hop_length=hop_length)\n",
      "/tmp/ipykernel_22280/2842544526.py:47: FutureWarning: Pass y=[-1.0247137e-05 -6.1270134e-06  1.2909535e-05 ... -2.0566078e-02\n",
      " -1.9992417e-02 -1.9415908e-02] as keyword args. From version 0.10 passing these as positional arguments will result in an error\n",
      "  mfcc= librosa.feature.mfcc(signal,sr=sr,n_fft=n_fft, n_mfcc=n_mfcc, hop_length=hop_length)\n",
      "/tmp/ipykernel_22280/2842544526.py:47: FutureWarning: Pass y=[ 1.4892671e-05 -8.1057942e-06  6.4856940e-06 ...  4.6814457e-03\n",
      "  4.1712765e-03  3.5161916e-03] as keyword args. From version 0.10 passing these as positional arguments will result in an error\n",
      "  mfcc= librosa.feature.mfcc(signal,sr=sr,n_fft=n_fft, n_mfcc=n_mfcc, hop_length=hop_length)\n",
      "/tmp/ipykernel_22280/2842544526.py:47: FutureWarning: Pass y=[ 2.0163436e-06 -1.4695358e-06  1.4522656e-06 ... -5.7015852e-03\n",
      " -4.8848861e-03 -4.1660760e-03] as keyword args. From version 0.10 passing these as positional arguments will result in an error\n",
      "  mfcc= librosa.feature.mfcc(signal,sr=sr,n_fft=n_fft, n_mfcc=n_mfcc, hop_length=hop_length)\n"
     ]
    },
    {
     "name": "stdout",
     "output_type": "stream",
     "text": [
      "(13, 38)\n",
      "vowels_dataset/U/U14.m4a, segment:U14.m4a\n",
      "vowels_dataset/U/U3.m4a\n",
      "(13, 38)\n",
      "vowels_dataset/U/U3.m4a, segment:U3.m4a\n",
      "vowels_dataset/U/U5.m4a\n",
      "(13, 35)\n",
      "vowels_dataset/U/U5.m4a, segment:U5.m4a\n",
      "vowels_dataset/U/U13.m4a\n",
      "(13, 31)\n",
      "vowels_dataset/U/U13.m4a, segment:U13.m4a\n",
      "vowels_dataset/U/U1.m4a\n"
     ]
    },
    {
     "name": "stderr",
     "output_type": "stream",
     "text": [
      "/tmp/ipykernel_22280/2842544526.py:47: FutureWarning: Pass y=[ 5.3332719e-06 -3.3692279e-06  2.1788530e-06 ...  1.2032449e-03\n",
      "  3.8349715e-03  0.0000000e+00] as keyword args. From version 0.10 passing these as positional arguments will result in an error\n",
      "  mfcc= librosa.feature.mfcc(signal,sr=sr,n_fft=n_fft, n_mfcc=n_mfcc, hop_length=hop_length)\n",
      "/tmp/ipykernel_22280/2842544526.py:47: FutureWarning: Pass y=[-4.8236252e-06  5.3712279e-06 -6.8251416e-06 ... -1.1903144e-02\n",
      " -1.3425610e-02 -1.4782459e-02] as keyword args. From version 0.10 passing these as positional arguments will result in an error\n",
      "  mfcc= librosa.feature.mfcc(signal,sr=sr,n_fft=n_fft, n_mfcc=n_mfcc, hop_length=hop_length)\n",
      "/tmp/ipykernel_22280/2842544526.py:47: FutureWarning: Pass y=[ 4.0906834e-06 -1.0211043e-05  1.2783472e-05 ... -7.8924969e-03\n",
      " -8.9268079e-03 -9.9102939e-03] as keyword args. From version 0.10 passing these as positional arguments will result in an error\n",
      "  mfcc= librosa.feature.mfcc(signal,sr=sr,n_fft=n_fft, n_mfcc=n_mfcc, hop_length=hop_length)\n",
      "/tmp/ipykernel_22280/2842544526.py:47: FutureWarning: Pass y=[-9.2897790e-06 -9.6913827e-06 -1.2397158e-05 ... -2.3673277e-03\n",
      " -1.9192912e-03 -1.7850639e-03] as keyword args. From version 0.10 passing these as positional arguments will result in an error\n",
      "  mfcc= librosa.feature.mfcc(signal,sr=sr,n_fft=n_fft, n_mfcc=n_mfcc, hop_length=hop_length)\n"
     ]
    },
    {
     "name": "stdout",
     "output_type": "stream",
     "text": [
      "(13, 38)\n",
      "vowels_dataset/U/U1.m4a, segment:U1.m4a\n",
      "vowels_dataset/U/U8.m4a\n",
      "(13, 38)\n",
      "vowels_dataset/U/U8.m4a, segment:U8.m4a\n",
      "vowels_dataset/U/U17.m4a\n",
      "(13, 32)\n",
      "vowels_dataset/U/U17.m4a, segment:U17.m4a\n",
      "vowels_dataset/U/U2.m4a\n",
      "(13, 38)\n",
      "vowels_dataset/U/U2.m4a, segment:U2.m4a\n",
      "vowels_dataset/U/U6.m4a\n"
     ]
    },
    {
     "name": "stderr",
     "output_type": "stream",
     "text": [
      "/tmp/ipykernel_22280/2842544526.py:47: FutureWarning: Pass y=[-1.0790769e-05 -1.4258804e-06  1.3608138e-05 ...  3.9011333e-04\n",
      "  3.9934821e-04  3.2403690e-04] as keyword args. From version 0.10 passing these as positional arguments will result in an error\n",
      "  mfcc= librosa.feature.mfcc(signal,sr=sr,n_fft=n_fft, n_mfcc=n_mfcc, hop_length=hop_length)\n",
      "/tmp/ipykernel_22280/2842544526.py:47: FutureWarning: Pass y=[ 1.1705630e-06 -7.8389603e-06 -1.1780706e-05 ... -1.6505803e-03\n",
      " -2.0532731e-03 -1.9887607e-03] as keyword args. From version 0.10 passing these as positional arguments will result in an error\n",
      "  mfcc= librosa.feature.mfcc(signal,sr=sr,n_fft=n_fft, n_mfcc=n_mfcc, hop_length=hop_length)\n",
      "/tmp/ipykernel_22280/2842544526.py:47: FutureWarning: Pass y=[-9.2897790e-06 -9.6913827e-06 -1.2397158e-05 ...  6.9683255e-04\n",
      "  3.0713924e-03  5.1495945e-03] as keyword args. From version 0.10 passing these as positional arguments will result in an error\n",
      "  mfcc= librosa.feature.mfcc(signal,sr=sr,n_fft=n_fft, n_mfcc=n_mfcc, hop_length=hop_length)\n",
      "/tmp/ipykernel_22280/2842544526.py:47: FutureWarning: Pass y=[-4.7222969e-07 -1.7558928e-06  2.8957629e-06 ...  7.1686488e-03\n",
      "  8.2050962e-03  8.6432919e-03] as keyword args. From version 0.10 passing these as positional arguments will result in an error\n",
      "  mfcc= librosa.feature.mfcc(signal,sr=sr,n_fft=n_fft, n_mfcc=n_mfcc, hop_length=hop_length)\n"
     ]
    },
    {
     "name": "stdout",
     "output_type": "stream",
     "text": [
      "(13, 38)\n",
      "vowels_dataset/U/U6.m4a, segment:U6.m4a\n",
      "vowels_dataset/U/U4.m4a\n",
      "(13, 38)\n",
      "vowels_dataset/U/U4.m4a, segment:U4.m4a\n",
      "vowels_dataset/U/U9.m4a\n",
      "(13, 38)\n",
      "vowels_dataset/U/U9.m4a, segment:U9.m4a\n",
      "vowels_dataset/U/U10.m4a\n",
      "(13, 38)\n",
      "vowels_dataset/U/U10.m4a, segment:U10.m4a\n",
      "\n",
      "Proccesing O\n"
     ]
    },
    {
     "name": "stderr",
     "output_type": "stream",
     "text": [
      "/tmp/ipykernel_22280/2842544526.py:47: FutureWarning: Pass y=[ 2.4402043e-05  1.9114577e-05 -5.7917038e-07 ... -3.5707194e-02\n",
      " -3.4487750e-02 -3.3210672e-02] as keyword args. From version 0.10 passing these as positional arguments will result in an error\n",
      "  mfcc= librosa.feature.mfcc(signal,sr=sr,n_fft=n_fft, n_mfcc=n_mfcc, hop_length=hop_length)\n",
      "/tmp/ipykernel_22280/2842544526.py:47: FutureWarning: Pass y=[-4.7222969e-07 -1.7558928e-06  2.8957629e-06 ... -9.5029868e-04\n",
      " -6.8292907e-04 -3.7605010e-04] as keyword args. From version 0.10 passing these as positional arguments will result in an error\n",
      "  mfcc= librosa.feature.mfcc(signal,sr=sr,n_fft=n_fft, n_mfcc=n_mfcc, hop_length=hop_length)\n",
      "/tmp/ipykernel_22280/2842544526.py:47: FutureWarning: Pass y=[ 1.1705630e-06 -7.8389603e-06 -1.1780706e-05 ...  5.0046598e-03\n",
      "  5.1911045e-03  5.6664180e-03] as keyword args. From version 0.10 passing these as positional arguments will result in an error\n",
      "  mfcc= librosa.feature.mfcc(signal,sr=sr,n_fft=n_fft, n_mfcc=n_mfcc, hop_length=hop_length)\n",
      "/tmp/ipykernel_22280/2842544526.py:47: FutureWarning: Pass y=[-4.0576638e-06 -2.7377475e-06  6.3428894e-07 ... -1.6021375e-02\n",
      " -1.2237649e-02 -8.9556584e-03] as keyword args. From version 0.10 passing these as positional arguments will result in an error\n",
      "  mfcc= librosa.feature.mfcc(signal,sr=sr,n_fft=n_fft, n_mfcc=n_mfcc, hop_length=hop_length)\n"
     ]
    },
    {
     "name": "stdout",
     "output_type": "stream",
     "text": [
      "vowels_dataset/O/O3.m4a\n",
      "(13, 37)\n",
      "vowels_dataset/O/O3.m4a, segment:O3.m4a\n",
      "vowels_dataset/O/O14.m4a\n",
      "(13, 23)\n",
      "vowels_dataset/O/O14.m4a, segment:O14.m4a\n",
      "vowels_dataset/O/O11.m4a\n",
      "(13, 38)\n",
      "vowels_dataset/O/O11.m4a, segment:O11.m4a\n",
      "vowels_dataset/O/O12.m4a\n"
     ]
    },
    {
     "name": "stderr",
     "output_type": "stream",
     "text": [
      "/tmp/ipykernel_22280/2842544526.py:47: FutureWarning: Pass y=[ 1.7981249e-05 -4.6124374e-06  1.2157260e-05 ... -4.8231695e-02\n",
      " -5.3377621e-02 -5.6746904e-02] as keyword args. From version 0.10 passing these as positional arguments will result in an error\n",
      "  mfcc= librosa.feature.mfcc(signal,sr=sr,n_fft=n_fft, n_mfcc=n_mfcc, hop_length=hop_length)\n",
      "/tmp/ipykernel_22280/2842544526.py:47: FutureWarning: Pass y=[-3.4269365e-06  2.0163436e-06 -1.4695358e-06 ... -1.5250304e-03\n",
      " -5.3264207e-04  5.9122499e-04] as keyword args. From version 0.10 passing these as positional arguments will result in an error\n",
      "  mfcc= librosa.feature.mfcc(signal,sr=sr,n_fft=n_fft, n_mfcc=n_mfcc, hop_length=hop_length)\n",
      "/tmp/ipykernel_22280/2842544526.py:47: FutureWarning: Pass y=[-1.3285484e-05 -7.2157632e-06 -1.3040615e-05 ... -3.4548901e-03\n",
      " -4.0548258e-03  0.0000000e+00] as keyword args. From version 0.10 passing these as positional arguments will result in an error\n",
      "  mfcc= librosa.feature.mfcc(signal,sr=sr,n_fft=n_fft, n_mfcc=n_mfcc, hop_length=hop_length)\n",
      "/tmp/ipykernel_22280/2842544526.py:47: FutureWarning: Pass y=[-6.6767225e-06 -1.2471532e-05  5.2742421e-06 ... -2.4674442e-02\n",
      " -2.6617825e-02 -3.0671002e-02] as keyword args. From version 0.10 passing these as positional arguments will result in an error\n",
      "  mfcc= librosa.feature.mfcc(signal,sr=sr,n_fft=n_fft, n_mfcc=n_mfcc, hop_length=hop_length)\n",
      "/tmp/ipykernel_22280/2842544526.py:47: FutureWarning: Pass y=[-1.8733209e-07  9.5444841e-07 -1.7785378e-05 ...  3.2893119e-03\n",
      "  2.7334837e-03  1.5166104e-03] as keyword args. From version 0.10 passing these as positional arguments will result in an error\n",
      "  mfcc= librosa.feature.mfcc(signal,sr=sr,n_fft=n_fft, n_mfcc=n_mfcc, hop_length=hop_length)\n"
     ]
    },
    {
     "name": "stdout",
     "output_type": "stream",
     "text": [
      "(13, 38)\n",
      "vowels_dataset/O/O12.m4a, segment:O12.m4a\n",
      "vowels_dataset/O/O16.m4a\n",
      "(13, 38)\n",
      "vowels_dataset/O/O16.m4a, segment:O16.m4a\n",
      "vowels_dataset/O/O4.m4a\n",
      "(13, 36)\n",
      "vowels_dataset/O/O4.m4a, segment:O4.m4a\n",
      "vowels_dataset/O/O10.m4a\n",
      "(13, 32)\n",
      "vowels_dataset/O/O10.m4a, segment:O10.m4a\n",
      "vowels_dataset/O/O9.m4a\n",
      "(13, 38)\n",
      "vowels_dataset/O/O9.m4a, segment:O9.m4a\n",
      "vowels_dataset/O/O1.m4a\n",
      "(13, 38)\n",
      "vowels_dataset/O/O1.m4a, segment:O1.m4a\n",
      "vowels_dataset/O/O5.m4a\n",
      "(13, 38)\n",
      "vowels_dataset/O/O5.m4a, segment:O5.m4a\n",
      "vowels_dataset/O/O15.m4a\n",
      "(13, 38)\n",
      "vowels_dataset/O/O15.m4a, segment:O15.m4a\n",
      "vowels_dataset/O/O2.m4a\n",
      "(13, 38)\n",
      "vowels_dataset/O/O2.m4a, segment:O2.m4a\n",
      "vowels_dataset/O/O17.m4a\n"
     ]
    },
    {
     "name": "stderr",
     "output_type": "stream",
     "text": [
      "/tmp/ipykernel_22280/2842544526.py:47: FutureWarning: Pass y=[ 2.1481486e-05  1.9984784e-05  9.4007720e-07 ... -1.3043426e-01\n",
      " -1.5311065e-01 -1.7171437e-01] as keyword args. From version 0.10 passing these as positional arguments will result in an error\n",
      "  mfcc= librosa.feature.mfcc(signal,sr=sr,n_fft=n_fft, n_mfcc=n_mfcc, hop_length=hop_length)\n",
      "/tmp/ipykernel_22280/2842544526.py:47: FutureWarning: Pass y=[-1.5204549e-06  6.0561883e-06 -1.4825942e-05 ...  2.9968273e-02\n",
      "  2.6767565e-02  2.4817964e-02] as keyword args. From version 0.10 passing these as positional arguments will result in an error\n",
      "  mfcc= librosa.feature.mfcc(signal,sr=sr,n_fft=n_fft, n_mfcc=n_mfcc, hop_length=hop_length)\n",
      "/tmp/ipykernel_22280/2842544526.py:47: FutureWarning: Pass y=[ 1.8618606e-06 -1.3971445e-06  6.5002325e-07 ... -6.3301707e-03\n",
      " -6.4925542e-03 -6.2179170e-03] as keyword args. From version 0.10 passing these as positional arguments will result in an error\n",
      "  mfcc= librosa.feature.mfcc(signal,sr=sr,n_fft=n_fft, n_mfcc=n_mfcc, hop_length=hop_length)\n",
      "/tmp/ipykernel_22280/2842544526.py:47: FutureWarning: Pass y=[-1.5570336e-06 -5.9323938e-06 -1.3492544e-05 ...  2.8751351e-02\n",
      "  3.4032401e-02  3.6869183e-02] as keyword args. From version 0.10 passing these as positional arguments will result in an error\n",
      "  mfcc= librosa.feature.mfcc(signal,sr=sr,n_fft=n_fft, n_mfcc=n_mfcc, hop_length=hop_length)\n",
      "/tmp/ipykernel_22280/2842544526.py:47: FutureWarning: Pass y=[ 7.8346386e-07 -7.7021496e-06 -1.1348782e-05 ... -2.3727142e-03\n",
      " -3.1095601e-03 -4.6570790e-03] as keyword args. From version 0.10 passing these as positional arguments will result in an error\n",
      "  mfcc= librosa.feature.mfcc(signal,sr=sr,n_fft=n_fft, n_mfcc=n_mfcc, hop_length=hop_length)\n"
     ]
    },
    {
     "name": "stdout",
     "output_type": "stream",
     "text": [
      "(13, 32)\n",
      "vowels_dataset/O/O17.m4a, segment:O17.m4a\n",
      "vowels_dataset/O/O8.m4a\n",
      "(13, 38)\n",
      "vowels_dataset/O/O8.m4a, segment:O8.m4a\n",
      "vowels_dataset/O/O7.m4a\n",
      "(13, 37)\n",
      "vowels_dataset/O/O7.m4a, segment:O7.m4a\n",
      "vowels_dataset/O/O6.m4a\n",
      "(13, 38)\n",
      "vowels_dataset/O/O6.m4a, segment:O6.m4a\n",
      "vowels_dataset/O/O13.m4a\n"
     ]
    },
    {
     "name": "stderr",
     "output_type": "stream",
     "text": [
      "/tmp/ipykernel_22280/2842544526.py:47: FutureWarning: Pass y=[-5.2352852e-06  2.3230108e-07 -6.3865275e-07 ... -9.2515787e-03\n",
      " -8.8528516e-03 -7.9831276e-03] as keyword args. From version 0.10 passing these as positional arguments will result in an error\n",
      "  mfcc= librosa.feature.mfcc(signal,sr=sr,n_fft=n_fft, n_mfcc=n_mfcc, hop_length=hop_length)\n",
      "/tmp/ipykernel_22280/2842544526.py:47: FutureWarning: Pass y=[-1.5204549e-06  6.0561883e-06 -1.4825942e-05 ... -1.1119191e-02\n",
      " -1.0335052e-02 -1.0011010e-02] as keyword args. From version 0.10 passing these as positional arguments will result in an error\n",
      "  mfcc= librosa.feature.mfcc(signal,sr=sr,n_fft=n_fft, n_mfcc=n_mfcc, hop_length=hop_length)\n",
      "/tmp/ipykernel_22280/2842544526.py:47: FutureWarning: Pass y=[2.1481486e-05 1.9984784e-05 9.4007720e-07 ... 7.8710234e-03 9.1359094e-03\n",
      " 9.8547097e-03] as keyword args. From version 0.10 passing these as positional arguments will result in an error\n",
      "  mfcc= librosa.feature.mfcc(signal,sr=sr,n_fft=n_fft, n_mfcc=n_mfcc, hop_length=hop_length)\n",
      "/tmp/ipykernel_22280/2842544526.py:47: FutureWarning: Pass y=[2.5045556e-05 1.0075797e-06 5.2151472e-06 ... 4.4622771e-02 6.1624996e-02\n",
      " 6.9940604e-02] as keyword args. From version 0.10 passing these as positional arguments will result in an error\n",
      "  mfcc= librosa.feature.mfcc(signal,sr=sr,n_fft=n_fft, n_mfcc=n_mfcc, hop_length=hop_length)\n",
      "/tmp/ipykernel_22280/2842544526.py:47: FutureWarning: Pass y=[-2.1182598e-06  3.3375213e-06  1.0030751e-05 ... -3.9555650e-02\n",
      " -3.7916981e-02 -3.8175546e-02] as keyword args. From version 0.10 passing these as positional arguments will result in an error\n",
      "  mfcc= librosa.feature.mfcc(signal,sr=sr,n_fft=n_fft, n_mfcc=n_mfcc, hop_length=hop_length)\n"
     ]
    },
    {
     "name": "stdout",
     "output_type": "stream",
     "text": [
      "(13, 38)\n",
      "vowels_dataset/O/O13.m4a, segment:O13.m4a\n",
      "\n",
      "Proccesing E\n",
      "vowels_dataset/E/E10.m4a\n",
      "(13, 38)\n",
      "vowels_dataset/E/E10.m4a, segment:E10.m4a\n",
      "vowels_dataset/E/E12.m4a\n",
      "(13, 38)\n",
      "vowels_dataset/E/E12.m4a, segment:E12.m4a\n",
      "vowels_dataset/E/E14.m4a\n",
      "(13, 38)\n",
      "vowels_dataset/E/E14.m4a, segment:E14.m4a\n",
      "vowels_dataset/E/E7.m4a\n"
     ]
    },
    {
     "name": "stderr",
     "output_type": "stream",
     "text": [
      "/tmp/ipykernel_22280/2842544526.py:47: FutureWarning: Pass y=[-4.2080609e-07  7.8714271e-07  1.4232815e-05 ...  6.1647240e-02\n",
      "  4.7510311e-02  3.2263163e-02] as keyword args. From version 0.10 passing these as positional arguments will result in an error\n",
      "  mfcc= librosa.feature.mfcc(signal,sr=sr,n_fft=n_fft, n_mfcc=n_mfcc, hop_length=hop_length)\n",
      "/tmp/ipykernel_22280/2842544526.py:47: FutureWarning: Pass y=[-1.2876648e-05 -2.1525102e-05 -5.7058492e-07 ...  7.3928488e-03\n",
      "  6.4539895e-03  5.2492609e-03] as keyword args. From version 0.10 passing these as positional arguments will result in an error\n",
      "  mfcc= librosa.feature.mfcc(signal,sr=sr,n_fft=n_fft, n_mfcc=n_mfcc, hop_length=hop_length)\n",
      "/tmp/ipykernel_22280/2842544526.py:47: FutureWarning: Pass y=[ 1.0545730e-05 -3.0767571e-06  7.7449141e-07 ... -1.3793457e-02\n",
      " -1.4379689e-02 -1.4858247e-02] as keyword args. From version 0.10 passing these as positional arguments will result in an error\n",
      "  mfcc= librosa.feature.mfcc(signal,sr=sr,n_fft=n_fft, n_mfcc=n_mfcc, hop_length=hop_length)\n",
      "/tmp/ipykernel_22280/2842544526.py:47: FutureWarning: Pass y=[ 1.3091948e-06 -2.1875010e-06  3.8365956e-06 ... -3.3513745e-03\n",
      " -3.3325744e-03 -3.5207132e-03] as keyword args. From version 0.10 passing these as positional arguments will result in an error\n",
      "  mfcc= librosa.feature.mfcc(signal,sr=sr,n_fft=n_fft, n_mfcc=n_mfcc, hop_length=hop_length)\n",
      "/tmp/ipykernel_22280/2842544526.py:47: FutureWarning: Pass y=[-1.2973352e-05 -9.2897790e-06 -9.6913827e-06 ...  2.0823730e-02\n",
      "  1.8990006e-02  2.3346944e-02] as keyword args. From version 0.10 passing these as positional arguments will result in an error\n",
      "  mfcc= librosa.feature.mfcc(signal,sr=sr,n_fft=n_fft, n_mfcc=n_mfcc, hop_length=hop_length)\n"
     ]
    },
    {
     "name": "stdout",
     "output_type": "stream",
     "text": [
      "(13, 38)\n",
      "vowels_dataset/E/E7.m4a, segment:E7.m4a\n",
      "vowels_dataset/E/E15.m4a\n",
      "(13, 34)\n",
      "vowels_dataset/E/E15.m4a, segment:E15.m4a\n",
      "vowels_dataset/E/E8.m4a\n",
      "(13, 38)\n",
      "vowels_dataset/E/E8.m4a, segment:E8.m4a\n",
      "vowels_dataset/E/E9.m4a\n",
      "(13, 38)\n",
      "vowels_dataset/E/E9.m4a, segment:E9.m4a\n",
      "vowels_dataset/E/E16.m4a\n"
     ]
    },
    {
     "name": "stderr",
     "output_type": "stream",
     "text": [
      "/tmp/ipykernel_22280/2842544526.py:47: FutureWarning: Pass y=[ 1.6387252e-05  1.1705630e-06 -7.8389603e-06 ...  8.1353672e-03\n",
      "  9.2797391e-03  1.0856130e-02] as keyword args. From version 0.10 passing these as positional arguments will result in an error\n",
      "  mfcc= librosa.feature.mfcc(signal,sr=sr,n_fft=n_fft, n_mfcc=n_mfcc, hop_length=hop_length)\n",
      "/tmp/ipykernel_22280/2842544526.py:47: FutureWarning: Pass y=[-1.0453502e-05 -4.8236252e-06  5.3712279e-06 ... -8.2684718e-03\n",
      " -8.0886539e-03 -7.8031458e-03] as keyword args. From version 0.10 passing these as positional arguments will result in an error\n",
      "  mfcc= librosa.feature.mfcc(signal,sr=sr,n_fft=n_fft, n_mfcc=n_mfcc, hop_length=hop_length)\n",
      "/tmp/ipykernel_22280/2842544526.py:47: FutureWarning: Pass y=[ 9.0561525e-06 -8.6111135e-07 -1.7854118e-06 ... -1.6128911e-02\n",
      " -1.7255247e-02 -1.8075528e-02] as keyword args. From version 0.10 passing these as positional arguments will result in an error\n",
      "  mfcc= librosa.feature.mfcc(signal,sr=sr,n_fft=n_fft, n_mfcc=n_mfcc, hop_length=hop_length)\n",
      "/tmp/ipykernel_22280/2842544526.py:47: FutureWarning: Pass y=[ 1.00695215e-05 -3.42693647e-06  2.01634361e-06 ... -1.45182190e-02\n",
      " -1.69894528e-02  0.00000000e+00] as keyword args. From version 0.10 passing these as positional arguments will result in an error\n",
      "  mfcc= librosa.feature.mfcc(signal,sr=sr,n_fft=n_fft, n_mfcc=n_mfcc, hop_length=hop_length)\n"
     ]
    },
    {
     "name": "stdout",
     "output_type": "stream",
     "text": [
      "(13, 38)\n",
      "vowels_dataset/E/E16.m4a, segment:E16.m4a\n",
      "vowels_dataset/E/E5.m4a\n",
      "(13, 38)\n",
      "vowels_dataset/E/E5.m4a, segment:E5.m4a\n",
      "vowels_dataset/E/E3.m4a\n",
      "(13, 36)\n",
      "vowels_dataset/E/E3.m4a, segment:E3.m4a\n",
      "vowels_dataset/E/E1.m4a\n",
      "(13, 38)\n",
      "vowels_dataset/E/E1.m4a, segment:E1.m4a\n",
      "vowels_dataset/E/E2.m4a\n"
     ]
    },
    {
     "name": "stderr",
     "output_type": "stream",
     "text": [
      "/tmp/ipykernel_22280/2842544526.py:47: FutureWarning: Pass y=[ 3.53553696e-06  6.21181653e-06 -1.64400335e-05 ... -1.09702254e-04\n",
      "  8.31832353e-04  2.01254548e-03] as keyword args. From version 0.10 passing these as positional arguments will result in an error\n",
      "  mfcc= librosa.feature.mfcc(signal,sr=sr,n_fft=n_fft, n_mfcc=n_mfcc, hop_length=hop_length)\n",
      "/tmp/ipykernel_22280/2842544526.py:47: FutureWarning: Pass y=[-8.1473609e-06 -1.5204549e-06  6.0561883e-06 ...  7.1884334e-02\n",
      "  3.3282071e-02  4.9917724e-02] as keyword args. From version 0.10 passing these as positional arguments will result in an error\n",
      "  mfcc= librosa.feature.mfcc(signal,sr=sr,n_fft=n_fft, n_mfcc=n_mfcc, hop_length=hop_length)\n",
      "/tmp/ipykernel_22280/2842544526.py:47: FutureWarning: Pass y=[ 1.2731113e-05 -6.8129525e-06  6.9976168e-06 ... -1.2751918e-03\n",
      " -9.0990710e-05  1.0353221e-03] as keyword args. From version 0.10 passing these as positional arguments will result in an error\n",
      "  mfcc= librosa.feature.mfcc(signal,sr=sr,n_fft=n_fft, n_mfcc=n_mfcc, hop_length=hop_length)\n",
      "/tmp/ipykernel_22280/2842544526.py:47: FutureWarning: Pass y=[-9.95644314e-06  1.17842865e-05  2.15494197e-06 ... -3.78152542e-02\n",
      " -3.61357108e-02 -3.45228054e-02] as keyword args. From version 0.10 passing these as positional arguments will result in an error\n",
      "  mfcc= librosa.feature.mfcc(signal,sr=sr,n_fft=n_fft, n_mfcc=n_mfcc, hop_length=hop_length)\n",
      "/tmp/ipykernel_22280/2842544526.py:47: FutureWarning: Pass y=[ 2.3982308e-05  1.1346480e-05 -5.4681764e-06 ...  2.4991803e-02\n",
      "  2.4433916e-02  2.5232719e-02] as keyword args. From version 0.10 passing these as positional arguments will result in an error\n",
      "  mfcc= librosa.feature.mfcc(signal,sr=sr,n_fft=n_fft, n_mfcc=n_mfcc, hop_length=hop_length)\n"
     ]
    },
    {
     "name": "stdout",
     "output_type": "stream",
     "text": [
      "(13, 38)\n",
      "vowels_dataset/E/E2.m4a, segment:E2.m4a\n",
      "vowels_dataset/E/E11.m4a\n",
      "(13, 38)\n",
      "vowels_dataset/E/E11.m4a, segment:E11.m4a\n",
      "vowels_dataset/E/E4.m4a\n",
      "(13, 38)\n",
      "vowels_dataset/E/E4.m4a, segment:E4.m4a\n",
      "vowels_dataset/E/E17.m4a\n",
      "(13, 28)\n",
      "vowels_dataset/E/E17.m4a, segment:E17.m4a\n",
      "vowels_dataset/E/E13.m4a\n",
      "(13, 35)\n",
      "vowels_dataset/E/E13.m4a, segment:E13.m4a\n"
     ]
    },
    {
     "name": "stderr",
     "output_type": "stream",
     "text": [
      "/tmp/ipykernel_22280/2842544526.py:47: FutureWarning: Pass y=[ 5.4642856e-06 -7.1022537e-06 -4.1157404e-07 ... -9.3439706e-03\n",
      " -6.8147448e-03 -7.0150970e-03] as keyword args. From version 0.10 passing these as positional arguments will result in an error\n",
      "  mfcc= librosa.feature.mfcc(signal,sr=sr,n_fft=n_fft, n_mfcc=n_mfcc, hop_length=hop_length)\n",
      "/tmp/ipykernel_22280/2842544526.py:47: FutureWarning: Pass y=[ 8.9830513e-07 -6.7869109e-06 -1.3285484e-05 ... -2.1192429e-03\n",
      " -2.9711379e-03 -3.3446522e-03] as keyword args. From version 0.10 passing these as positional arguments will result in an error\n",
      "  mfcc= librosa.feature.mfcc(signal,sr=sr,n_fft=n_fft, n_mfcc=n_mfcc, hop_length=hop_length)\n",
      "/tmp/ipykernel_22280/2842544526.py:47: FutureWarning: Pass y=[-1.0502817e-05 -7.6063820e-06 -2.0771417e-05 ... -9.1863990e-02\n",
      " -8.9267179e-02 -8.6694524e-02] as keyword args. From version 0.10 passing these as positional arguments will result in an error\n",
      "  mfcc= librosa.feature.mfcc(signal,sr=sr,n_fft=n_fft, n_mfcc=n_mfcc, hop_length=hop_length)\n",
      "/tmp/ipykernel_22280/2842544526.py:47: FutureWarning: Pass y=[ 1.5023871e-05  1.5234707e-06 -1.8117385e-05 ... -1.8877922e-02\n",
      " -1.8932652e-02 -1.9254787e-02] as keyword args. From version 0.10 passing these as positional arguments will result in an error\n",
      "  mfcc= librosa.feature.mfcc(signal,sr=sr,n_fft=n_fft, n_mfcc=n_mfcc, hop_length=hop_length)\n"
     ]
    },
    {
     "name": "stdout",
     "output_type": "stream",
     "text": [
      "vowels_dataset/E/E6.m4a\n",
      "(13, 38)\n",
      "vowels_dataset/E/E6.m4a, segment:E6.m4a\n",
      "\n",
      "Proccesing I\n",
      "vowels_dataset/I/I10.m4a\n",
      "(13, 38)\n",
      "vowels_dataset/I/I10.m4a, segment:I10.m4a\n",
      "vowels_dataset/I/I1.m4a\n",
      "(13, 38)\n",
      "vowels_dataset/I/I1.m4a, segment:I1.m4a\n",
      "vowels_dataset/I/I4.m4a\n",
      "(13, 38)\n",
      "vowels_dataset/I/I4.m4a, segment:I4.m4a\n"
     ]
    },
    {
     "name": "stderr",
     "output_type": "stream",
     "text": [
      "/tmp/ipykernel_22280/2842544526.py:47: FutureWarning: Pass y=[-2.6530549e-06  2.4032995e-06 -8.3546811e-06 ... -4.9046520e-02\n",
      " -4.9940903e-02 -4.7778718e-02] as keyword args. From version 0.10 passing these as positional arguments will result in an error\n",
      "  mfcc= librosa.feature.mfcc(signal,sr=sr,n_fft=n_fft, n_mfcc=n_mfcc, hop_length=hop_length)\n",
      "/tmp/ipykernel_22280/2842544526.py:47: FutureWarning: Pass y=[-2.6530549e-06  2.4032995e-06 -8.3546811e-06 ...  7.4924860e-04\n",
      "  5.1938929e-04  4.0489892e-04] as keyword args. From version 0.10 passing these as positional arguments will result in an error\n",
      "  mfcc= librosa.feature.mfcc(signal,sr=sr,n_fft=n_fft, n_mfcc=n_mfcc, hop_length=hop_length)\n",
      "/tmp/ipykernel_22280/2842544526.py:47: FutureWarning: Pass y=[-1.0502817e-05 -7.6063820e-06 -2.0771417e-05 ...  3.8004098e-03\n",
      "  3.9517195e-03  4.0575024e-03] as keyword args. From version 0.10 passing these as positional arguments will result in an error\n",
      "  mfcc= librosa.feature.mfcc(signal,sr=sr,n_fft=n_fft, n_mfcc=n_mfcc, hop_length=hop_length)\n",
      "/tmp/ipykernel_22280/2842544526.py:47: FutureWarning: Pass y=[-9.1509701e-06 -4.9085979e-06 -1.2726039e-05 ... -1.0176310e-02\n",
      " -9.2715761e-03 -7.7786548e-03] as keyword args. From version 0.10 passing these as positional arguments will result in an error\n",
      "  mfcc= librosa.feature.mfcc(signal,sr=sr,n_fft=n_fft, n_mfcc=n_mfcc, hop_length=hop_length)\n"
     ]
    },
    {
     "name": "stdout",
     "output_type": "stream",
     "text": [
      "vowels_dataset/I/I15.m4a\n",
      "(13, 38)\n",
      "vowels_dataset/I/I15.m4a, segment:I15.m4a\n",
      "vowels_dataset/I/I16.m4a\n",
      "(13, 38)\n",
      "vowels_dataset/I/I16.m4a, segment:I16.m4a\n",
      "vowels_dataset/I/I12.m4a\n",
      "(13, 37)\n",
      "vowels_dataset/I/I12.m4a, segment:I12.m4a\n",
      "vowels_dataset/I/I8.m4a\n",
      "(13, 38)\n",
      "vowels_dataset/I/I8.m4a, segment:I8.m4a\n",
      "vowels_dataset/I/I9.m4a\n"
     ]
    },
    {
     "name": "stderr",
     "output_type": "stream",
     "text": [
      "/tmp/ipykernel_22280/2842544526.py:47: FutureWarning: Pass y=[ 2.3982308e-05  1.1346480e-05 -5.4681764e-06 ...  2.5317043e-02\n",
      "  2.5594303e-02  2.5760757e-02] as keyword args. From version 0.10 passing these as positional arguments will result in an error\n",
      "  mfcc= librosa.feature.mfcc(signal,sr=sr,n_fft=n_fft, n_mfcc=n_mfcc, hop_length=hop_length)\n",
      "/tmp/ipykernel_22280/2842544526.py:47: FutureWarning: Pass y=[-1.8779539e-05 -3.5566732e-06 -2.0291000e-07 ... -5.0434239e-02\n",
      " -4.6370342e-02 -4.2957693e-02] as keyword args. From version 0.10 passing these as positional arguments will result in an error\n",
      "  mfcc= librosa.feature.mfcc(signal,sr=sr,n_fft=n_fft, n_mfcc=n_mfcc, hop_length=hop_length)\n",
      "/tmp/ipykernel_22280/2842544526.py:47: FutureWarning: Pass y=[-2.2184651e-05  3.2514408e-06  4.7602821e-06 ...  2.5438718e-02\n",
      "  2.4174185e-02  2.4897659e-02] as keyword args. From version 0.10 passing these as positional arguments will result in an error\n",
      "  mfcc= librosa.feature.mfcc(signal,sr=sr,n_fft=n_fft, n_mfcc=n_mfcc, hop_length=hop_length)\n",
      "/tmp/ipykernel_22280/2842544526.py:47: FutureWarning: Pass y=[-1.92950374e-05 -1.13203405e-05  5.45859507e-07 ...  3.31108123e-02\n",
      "  3.45547721e-02  3.74184772e-02] as keyword args. From version 0.10 passing these as positional arguments will result in an error\n",
      "  mfcc= librosa.feature.mfcc(signal,sr=sr,n_fft=n_fft, n_mfcc=n_mfcc, hop_length=hop_length)\n",
      "/tmp/ipykernel_22280/2842544526.py:47: FutureWarning: Pass y=[-1.2617343e-05 -6.4014439e-06 -3.7306580e-07 ...  1.1627584e-02\n",
      "  1.2239232e-02  1.3835765e-02] as keyword args. From version 0.10 passing these as positional arguments will result in an error\n",
      "  mfcc= librosa.feature.mfcc(signal,sr=sr,n_fft=n_fft, n_mfcc=n_mfcc, hop_length=hop_length)\n"
     ]
    },
    {
     "name": "stdout",
     "output_type": "stream",
     "text": [
      "(13, 38)\n",
      "vowels_dataset/I/I9.m4a, segment:I9.m4a\n",
      "vowels_dataset/I/I3.m4a\n",
      "(13, 38)\n",
      "vowels_dataset/I/I3.m4a, segment:I3.m4a\n",
      "vowels_dataset/I/I17.m4a\n",
      "(13, 28)\n",
      "vowels_dataset/I/I17.m4a, segment:I17.m4a\n",
      "vowels_dataset/I/I14.m4a\n",
      "(13, 34)\n",
      "vowels_dataset/I/I14.m4a, segment:I14.m4a\n",
      "vowels_dataset/I/I2.m4a\n",
      "(13, 38)\n",
      "vowels_dataset/I/I2.m4a, segment:I2.m4a\n"
     ]
    },
    {
     "name": "stderr",
     "output_type": "stream",
     "text": [
      "/tmp/ipykernel_22280/2842544526.py:47: FutureWarning: Pass y=[-1.92950374e-05 -1.13203405e-05  5.45859507e-07 ...  1.90751744e-03\n",
      "  3.30088334e-03  3.19912843e-02] as keyword args. From version 0.10 passing these as positional arguments will result in an error\n",
      "  mfcc= librosa.feature.mfcc(signal,sr=sr,n_fft=n_fft, n_mfcc=n_mfcc, hop_length=hop_length)\n",
      "/tmp/ipykernel_22280/2842544526.py:47: FutureWarning: Pass y=[ 1.75505047e-05  3.50282517e-06 -1.41798655e-05 ...  1.79655291e-02\n",
      "  1.72622539e-02  1.74811054e-02] as keyword args. From version 0.10 passing these as positional arguments will result in an error\n",
      "  mfcc= librosa.feature.mfcc(signal,sr=sr,n_fft=n_fft, n_mfcc=n_mfcc, hop_length=hop_length)\n",
      "/tmp/ipykernel_22280/2842544526.py:47: FutureWarning: Pass y=[-1.1530742e-05 -2.3149161e-05  1.6387252e-05 ... -7.8624702e-04\n",
      " -1.2920847e-03 -2.1304803e-03] as keyword args. From version 0.10 passing these as positional arguments will result in an error\n",
      "  mfcc= librosa.feature.mfcc(signal,sr=sr,n_fft=n_fft, n_mfcc=n_mfcc, hop_length=hop_length)\n",
      "/tmp/ipykernel_22280/2842544526.py:47: FutureWarning: Pass y=[ 1.2254699e-05 -3.9878199e-07  2.5045556e-05 ...  5.1775083e-02\n",
      "  3.4131512e-02  1.2340259e-02] as keyword args. From version 0.10 passing these as positional arguments will result in an error\n",
      "  mfcc= librosa.feature.mfcc(signal,sr=sr,n_fft=n_fft, n_mfcc=n_mfcc, hop_length=hop_length)\n",
      "/tmp/ipykernel_22280/2842544526.py:47: FutureWarning: Pass y=[-1.9285085e-07  1.7013945e-06 -4.2137235e-06 ... -5.1706024e-03\n",
      " -2.3599183e-03 -2.8964037e-03] as keyword args. From version 0.10 passing these as positional arguments will result in an error\n",
      "  mfcc= librosa.feature.mfcc(signal,sr=sr,n_fft=n_fft, n_mfcc=n_mfcc, hop_length=hop_length)\n"
     ]
    },
    {
     "name": "stdout",
     "output_type": "stream",
     "text": [
      "vowels_dataset/I/I5.m4a\n",
      "(13, 38)\n",
      "vowels_dataset/I/I5.m4a, segment:I5.m4a\n",
      "vowels_dataset/I/I7.m4a\n",
      "(13, 38)\n",
      "vowels_dataset/I/I7.m4a, segment:I7.m4a\n",
      "vowels_dataset/I/I13.m4a\n",
      "(13, 35)\n",
      "vowels_dataset/I/I13.m4a, segment:I13.m4a\n",
      "vowels_dataset/I/I6.m4a\n",
      "(13, 32)\n",
      "vowels_dataset/I/I6.m4a, segment:I6.m4a\n",
      "vowels_dataset/I/I11.m4a\n",
      "(13, 38)\n",
      "vowels_dataset/I/I11.m4a, segment:I11.m4a\n"
     ]
    },
    {
     "name": "stderr",
     "output_type": "stream",
     "text": [
      "/tmp/ipykernel_22280/2842544526.py:47: FutureWarning: Pass y=[ 1.0436296e-06 -5.4591084e-07 -1.5984069e-05 ... -1.9204596e-02\n",
      " -1.7511180e-02 -1.4814737e-02] as keyword args. From version 0.10 passing these as positional arguments will result in an error\n",
      "  mfcc= librosa.feature.mfcc(signal,sr=sr,n_fft=n_fft, n_mfcc=n_mfcc, hop_length=hop_length)\n"
     ]
    }
   ],
   "source": [
    "if __name__ == \"__main__\":\n",
    "    save_mfcc(DATASET_PATH, JSON_PATH)"
   ]
  }
 ],
 "metadata": {
  "kernelspec": {
   "display_name": "Python 3 (ipykernel)",
   "language": "python",
   "name": "python3"
  },
  "language_info": {
   "codemirror_mode": {
    "name": "ipython",
    "version": 3
   },
   "file_extension": ".py",
   "mimetype": "text/x-python",
   "name": "python",
   "nbconvert_exporter": "python",
   "pygments_lexer": "ipython3",
   "version": "3.10.5"
  }
 },
 "nbformat": 4,
 "nbformat_minor": 5
}
